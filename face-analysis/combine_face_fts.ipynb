{
 "cells": [
  {
   "cell_type": "code",
   "execution_count": 6,
   "metadata": {},
   "outputs": [],
   "source": [
    "import os\n",
    "import csv\n",
    "import pandas as pd\n",
    "from pathlib import Path"
   ]
  },
  {
   "cell_type": "code",
   "execution_count": 7,
   "metadata": {},
   "outputs": [],
   "source": [
    "person_name = \"cansu\"\n",
    "basedir = \"C:\\\\Users\\\\ASABUNCUOGLU13\\\\Documents\\\\data\\\\vol02\\\\face-%s\\\\face-features\\\\\" % person_name\n",
    "scoresdir = \"../scores/group/scores/\"\n",
    "levelsdir = \"../scores/group/levels/\"\n",
    "input_file = \"%d/frames-%d.csv\"\n",
    "outdir = \"./features/%s/\" % person_name"
   ]
  },
  {
   "cell_type": "code",
   "execution_count": 8,
   "metadata": {},
   "outputs": [
    {
     "name": "stdout",
     "output_type": "stream",
     "text": [
      "['C:\\\\Users\\\\ASABUNCUOGLU13\\\\Documents\\\\data\\\\vol02\\\\face-cansu\\\\face-features\\\\ 0\\\\frames-0.csv', 'C:\\\\Users\\\\ASABUNCUOGLU13\\\\Documents\\\\data\\\\vol02\\\\face-cansu\\\\face-features\\\\ 1\\\\frames-1.csv', 'C:\\\\Users\\\\ASABUNCUOGLU13\\\\Documents\\\\data\\\\vol02\\\\face-cansu\\\\face-features\\\\ 2\\\\frames-2.csv', 'C:\\\\Users\\\\ASABUNCUOGLU13\\\\Documents\\\\data\\\\vol02\\\\face-cansu\\\\face-features\\\\ 3\\\\frames-3.csv', 'C:\\\\Users\\\\ASABUNCUOGLU13\\\\Documents\\\\data\\\\vol02\\\\face-cansu\\\\face-features\\\\ 4\\\\frames-4.csv', 'C:\\\\Users\\\\ASABUNCUOGLU13\\\\Documents\\\\data\\\\vol02\\\\face-cansu\\\\face-features\\\\ 5\\\\frames-5.csv', 'C:\\\\Users\\\\ASABUNCUOGLU13\\\\Documents\\\\data\\\\vol02\\\\face-cansu\\\\face-features\\\\ 6\\\\frames-6.csv', 'C:\\\\Users\\\\ASABUNCUOGLU13\\\\Documents\\\\data\\\\vol02\\\\face-cansu\\\\face-features\\\\ 7\\\\frames-7.csv', 'C:\\\\Users\\\\ASABUNCUOGLU13\\\\Documents\\\\data\\\\vol02\\\\face-cansu\\\\face-features\\\\ 8\\\\frames-8.csv', 'C:\\\\Users\\\\ASABUNCUOGLU13\\\\Documents\\\\data\\\\vol02\\\\face-cansu\\\\face-features\\\\ 9\\\\frames-9.csv', 'C:\\\\Users\\\\ASABUNCUOGLU13\\\\Documents\\\\data\\\\vol02\\\\face-cansu\\\\face-features\\\\10\\\\frames-10.csv', 'C:\\\\Users\\\\ASABUNCUOGLU13\\\\Documents\\\\data\\\\vol02\\\\face-cansu\\\\face-features\\\\11\\\\frames-11.csv', 'C:\\\\Users\\\\ASABUNCUOGLU13\\\\Documents\\\\data\\\\vol02\\\\face-cansu\\\\face-features\\\\12\\\\frames-12.csv', 'C:\\\\Users\\\\ASABUNCUOGLU13\\\\Documents\\\\data\\\\vol02\\\\face-cansu\\\\face-features\\\\13\\\\frames-13.csv', 'C:\\\\Users\\\\ASABUNCUOGLU13\\\\Documents\\\\data\\\\vol02\\\\face-cansu\\\\face-features\\\\14\\\\frames-14.csv', 'C:\\\\Users\\\\ASABUNCUOGLU13\\\\Documents\\\\data\\\\vol02\\\\face-cansu\\\\face-features\\\\15\\\\frames-15.csv', 'C:\\\\Users\\\\ASABUNCUOGLU13\\\\Documents\\\\data\\\\vol02\\\\face-cansu\\\\face-features\\\\16\\\\frames-16.csv', 'C:\\\\Users\\\\ASABUNCUOGLU13\\\\Documents\\\\data\\\\vol02\\\\face-cansu\\\\face-features\\\\17\\\\frames-17.csv', 'C:\\\\Users\\\\ASABUNCUOGLU13\\\\Documents\\\\data\\\\vol02\\\\face-cansu\\\\face-features\\\\18\\\\frames-18.csv', 'C:\\\\Users\\\\ASABUNCUOGLU13\\\\Documents\\\\data\\\\vol02\\\\face-cansu\\\\face-features\\\\19\\\\frames-19.csv', 'C:\\\\Users\\\\ASABUNCUOGLU13\\\\Documents\\\\data\\\\vol02\\\\face-cansu\\\\face-features\\\\20\\\\frames-20.csv']\n"
     ]
    }
   ],
   "source": [
    "file_list = []\n",
    "for subdir, dirs, files in os.walk(basedir):\n",
    "    for file in files:\n",
    "        if file.endswith(\".csv\"):\n",
    "            file_list.append(os.path.join(subdir, file))\n",
    "\n",
    "print(file_list)"
   ]
  },
  {
   "cell_type": "markdown",
   "metadata": {},
   "source": [
    "### TSV Format without Index and Header (For Embedding Projector)"
   ]
  },
  {
   "cell_type": "code",
   "execution_count": 9,
   "metadata": {},
   "outputs": [],
   "source": [
    "df = pd.concat(map(pd.read_csv, file_list), ignore_index=True)\n",
    "df = df.iloc[: , 3:]\n",
    "df.to_csv(os.path.join(outdir, \"features.tsv\"), sep=\"\\t\", index=False, header=None)"
   ]
  },
  {
   "cell_type": "markdown",
   "metadata": {},
   "source": [
    "### CSV Format for Further Analysis"
   ]
  },
  {
   "cell_type": "code",
   "execution_count": 10,
   "metadata": {},
   "outputs": [],
   "source": [
    "df = pd.concat(map(pd.read_csv, file_list), ignore_index=True)\n",
    "df.to_csv(os.path.join(outdir, \"features.csv\"), index=False)"
   ]
  },
  {
   "cell_type": "markdown",
   "metadata": {},
   "source": [
    "### Scores"
   ]
  },
  {
   "cell_type": "code",
   "execution_count": null,
   "metadata": {},
   "outputs": [],
   "source": [
    "file_list = []\n",
    "for subdir, dirs, files in os.walk(scoresdir):\n",
    "    for file in files:\n",
    "        if file.endswith(\".csv\"):\n",
    "            file_list.append(os.path.join(subdir, file))\n",
    "\n",
    "\n",
    "file_list = sorted(file_list, key=lambda x: float(Path(x).stem))\n",
    "print(file_list)"
   ]
  },
  {
   "cell_type": "code",
   "execution_count": null,
   "metadata": {},
   "outputs": [],
   "source": [
    "df = pd.concat(map(pd.read_csv, file_list), ignore_index=True)\n",
    "df[person_name].to_csv(os.path.join(outdir, \"scores.tsv\"), sep=\"\\t\", index=False, header=None)"
   ]
  },
  {
   "cell_type": "markdown",
   "metadata": {},
   "source": [
    "### Levels"
   ]
  },
  {
   "cell_type": "code",
   "execution_count": null,
   "metadata": {},
   "outputs": [],
   "source": [
    "file_list = []\n",
    "for subdir, dirs, files in os.walk(levelsdir):\n",
    "    for file in files:\n",
    "        if file.endswith(\".csv\"):\n",
    "            file_list.append(os.path.join(subdir, file))\n",
    "\n",
    "\n",
    "file_list = sorted(file_list, key=lambda x: float(Path(x).stem))\n",
    "print(file_list)"
   ]
  },
  {
   "cell_type": "code",
   "execution_count": null,
   "metadata": {},
   "outputs": [],
   "source": [
    "df = pd.concat(map(pd.read_csv, file_list), ignore_index=True)\n",
    "df[person_name].to_csv(os.path.join(outdir, \"levels.tsv\"), sep=\"\\t\", index=False, header=None)"
   ]
  },
  {
   "cell_type": "code",
   "execution_count": null,
   "metadata": {},
   "outputs": [],
   "source": []
  }
 ],
 "metadata": {
  "kernelspec": {
   "display_name": "Python 3.9.12 ('base')",
   "language": "python",
   "name": "python3"
  },
  "language_info": {
   "codemirror_mode": {
    "name": "ipython",
    "version": 3
   },
   "file_extension": ".py",
   "mimetype": "text/x-python",
   "name": "python",
   "nbconvert_exporter": "python",
   "pygments_lexer": "ipython3",
   "version": "3.9.12 (main, Apr  4 2022, 05:22:27) [MSC v.1916 64 bit (AMD64)]"
  },
  "orig_nbformat": 4,
  "vscode": {
   "interpreter": {
    "hash": "f76be68d9c5d6e76a66d5315d11dc6a9ea46dedf1868770abac3c9563870c381"
   }
  }
 },
 "nbformat": 4,
 "nbformat_minor": 2
}
