{
 "cells": [
  {
   "cell_type": "markdown",
   "metadata": {},
   "source": []
  },
  {
   "cell_type": "code",
   "execution_count": 1,
   "metadata": {},
   "outputs": [],
   "source": [
    "%matplotlib inline \n",
    "\n",
    "import os\n",
    "import json\n",
    "from sklearn.decomposition import PCA\n",
    "import matplotlib.pyplot as plt\n",
    "import seaborn as sns\n",
    "import numpy as np\n",
    "import pandas as pd"
   ]
  },
  {
   "cell_type": "code",
   "execution_count": 2,
   "metadata": {},
   "outputs": [],
   "source": [
    "eng_levels = [-2, -1, 0, 1, 2, 3]"
   ]
  },
  {
   "cell_type": "markdown",
   "metadata": {},
   "source": [
    "## OpenPose Features"
   ]
  },
  {
   "cell_type": "markdown",
   "metadata": {},
   "source": [
    "In this analysis, our aim is finding if we can get a relation between engagement and all sounds in the classroom."
   ]
  },
  {
   "cell_type": "code",
   "execution_count": 3,
   "metadata": {},
   "outputs": [],
   "source": [
    "basedir = \"C:\\\\Users\\\\ASABUNCUOGLU13\\\\Documents\\\\data\\\\vol02\\\\slices-group\\\\frames-%d\"\n",
    "labeldir = \"../scores/all_levels.csv\""
   ]
  },
  {
   "cell_type": "code",
   "execution_count": 4,
   "metadata": {},
   "outputs": [],
   "source": [
    "labels = pd.read_csv(labeldir)"
   ]
  },
  {
   "cell_type": "code",
   "execution_count": 5,
   "metadata": {},
   "outputs": [],
   "source": [
    "with open(os.path.join(basedir % 0, \"keypoints\", \"f1_keypoints.json\"), 'r') as f:\n",
    "    data = json.load(f)\n",
    "    p_id_range = range(len(data['people']))\n",
    "    people_kpts = []\n",
    "    for d in p_id_range:\n",
    "        people_kpts.append(data['people'][d]['pose_keypoints_2d'])\n",
    "    df = pd.DataFrame(np.array(people_kpts).flatten()).T\n",
    "    df['label'] = labels['group'][0]"
   ]
  },
  {
   "cell_type": "code",
   "execution_count": 6,
   "metadata": {},
   "outputs": [
    {
     "data": {
      "text/html": [
       "<div>\n",
       "<style scoped>\n",
       "    .dataframe tbody tr th:only-of-type {\n",
       "        vertical-align: middle;\n",
       "    }\n",
       "\n",
       "    .dataframe tbody tr th {\n",
       "        vertical-align: top;\n",
       "    }\n",
       "\n",
       "    .dataframe thead th {\n",
       "        text-align: right;\n",
       "    }\n",
       "</style>\n",
       "<table border=\"1\" class=\"dataframe\">\n",
       "  <thead>\n",
       "    <tr style=\"text-align: right;\">\n",
       "      <th></th>\n",
       "      <th>0</th>\n",
       "      <th>1</th>\n",
       "      <th>2</th>\n",
       "      <th>3</th>\n",
       "      <th>4</th>\n",
       "      <th>5</th>\n",
       "      <th>6</th>\n",
       "      <th>7</th>\n",
       "      <th>8</th>\n",
       "      <th>9</th>\n",
       "      <th>...</th>\n",
       "      <th>291</th>\n",
       "      <th>292</th>\n",
       "      <th>293</th>\n",
       "      <th>294</th>\n",
       "      <th>295</th>\n",
       "      <th>296</th>\n",
       "      <th>297</th>\n",
       "      <th>298</th>\n",
       "      <th>299</th>\n",
       "      <th>label</th>\n",
       "    </tr>\n",
       "  </thead>\n",
       "  <tbody>\n",
       "    <tr>\n",
       "      <th>0</th>\n",
       "      <td>178.864</td>\n",
       "      <td>180.766</td>\n",
       "      <td>0.9683</td>\n",
       "      <td>198.379</td>\n",
       "      <td>261.046</td>\n",
       "      <td>0.854602</td>\n",
       "      <td>131.697</td>\n",
       "      <td>270.835</td>\n",
       "      <td>0.764647</td>\n",
       "      <td>125.874</td>\n",
       "      <td>...</td>\n",
       "      <td>0.0</td>\n",
       "      <td>0.0</td>\n",
       "      <td>0.0</td>\n",
       "      <td>0.0</td>\n",
       "      <td>0.0</td>\n",
       "      <td>0.0</td>\n",
       "      <td>0.0</td>\n",
       "      <td>0.0</td>\n",
       "      <td>0.0</td>\n",
       "      <td>0</td>\n",
       "    </tr>\n",
       "  </tbody>\n",
       "</table>\n",
       "<p>1 rows × 301 columns</p>\n",
       "</div>"
      ],
      "text/plain": [
       "         0        1       2        3        4         5        6        7  \\\n",
       "0  178.864  180.766  0.9683  198.379  261.046  0.854602  131.697  270.835   \n",
       "\n",
       "          8        9  ...  291  292  293  294  295  296  297  298  299  label  \n",
       "0  0.764647  125.874  ...  0.0  0.0  0.0  0.0  0.0  0.0  0.0  0.0  0.0      0  \n",
       "\n",
       "[1 rows x 301 columns]"
      ]
     },
     "execution_count": 6,
     "metadata": {},
     "output_type": "execute_result"
    }
   ],
   "source": [
    "df"
   ]
  },
  {
   "cell_type": "code",
   "execution_count": 7,
   "metadata": {},
   "outputs": [
    {
     "name": "stdout",
     "output_type": "stream",
     "text": [
      "C:\\Users\\ASABUNCUOGLU13\\Documents\\data\\vol02\\slices-group\\frames-0\\keypoints []\n",
      "C:\\Users\\ASABUNCUOGLU13\\Documents\\data\\vol02\\slices-group\\frames-1\\keypoints []\n",
      "C:\\Users\\ASABUNCUOGLU13\\Documents\\data\\vol02\\slices-group\\frames-2\\keypoints []\n",
      "C:\\Users\\ASABUNCUOGLU13\\Documents\\data\\vol02\\slices-group\\frames-3\\keypoints []\n",
      "C:\\Users\\ASABUNCUOGLU13\\Documents\\data\\vol02\\slices-group\\frames-4\\keypoints []\n",
      "C:\\Users\\ASABUNCUOGLU13\\Documents\\data\\vol02\\slices-group\\frames-5\\keypoints []\n",
      "C:\\Users\\ASABUNCUOGLU13\\Documents\\data\\vol02\\slices-group\\frames-6\\keypoints []\n",
      "C:\\Users\\ASABUNCUOGLU13\\Documents\\data\\vol02\\slices-group\\frames-7\\keypoints []\n",
      "C:\\Users\\ASABUNCUOGLU13\\Documents\\data\\vol02\\slices-group\\frames-8\\keypoints []\n",
      "C:\\Users\\ASABUNCUOGLU13\\Documents\\data\\vol02\\slices-group\\frames-9\\keypoints []\n",
      "C:\\Users\\ASABUNCUOGLU13\\Documents\\data\\vol02\\slices-group\\frames-10\\keypoints []\n",
      "C:\\Users\\ASABUNCUOGLU13\\Documents\\data\\vol02\\slices-group\\frames-11\\keypoints []\n",
      "C:\\Users\\ASABUNCUOGLU13\\Documents\\data\\vol02\\slices-group\\frames-12\\keypoints []\n",
      "C:\\Users\\ASABUNCUOGLU13\\Documents\\data\\vol02\\slices-group\\frames-13\\keypoints []\n",
      "C:\\Users\\ASABUNCUOGLU13\\Documents\\data\\vol02\\slices-group\\frames-14\\keypoints []\n",
      "C:\\Users\\ASABUNCUOGLU13\\Documents\\data\\vol02\\slices-group\\frames-15\\keypoints []\n",
      "C:\\Users\\ASABUNCUOGLU13\\Documents\\data\\vol02\\slices-group\\frames-16\\keypoints []\n",
      "C:\\Users\\ASABUNCUOGLU13\\Documents\\data\\vol02\\slices-group\\frames-17\\keypoints []\n",
      "C:\\Users\\ASABUNCUOGLU13\\Documents\\data\\vol02\\slices-group\\frames-18\\keypoints []\n",
      "C:\\Users\\ASABUNCUOGLU13\\Documents\\data\\vol02\\slices-group\\frames-19\\keypoints []\n",
      "C:\\Users\\ASABUNCUOGLU13\\Documents\\data\\vol02\\slices-group\\frames-20\\keypoints []\n"
     ]
    }
   ],
   "source": [
    "for i in range(21):\n",
    "    for subdir, dirs, files in os.walk(os.path.join(basedir % i, \"keypoints\")):\n",
    "        print(subdir, dirs)\n",
    "        row = []\n",
    "        for file in files:\n",
    "            if file.endswith(\".json\"):\n",
    "                with open(os.path.join(subdir, file), 'r') as f:\n",
    "                    data = json.load(f)\n",
    "                    p_id_range = range(len(data['people']))\n",
    "                    people_kpts = []\n",
    "                    for d in p_id_range:\n",
    "                        people_kpts.append(data['people'][d]['pose_keypoints_2d'])\n",
    "                    if(len(people_kpts) == 4):\n",
    "                        df.loc[len(df)] = np.append(np.array(people_kpts).flatten(), labels['group'][len(df)-1])"
   ]
  },
  {
   "cell_type": "code",
   "execution_count": 8,
   "metadata": {},
   "outputs": [],
   "source": [
    "df.to_csv('features/pose_keypoints_with_labels.csv', index=False, header=True)\n",
    "df.to_csv('features/pose_keypoints_with_labels.tsv', sep=\"\\t\", index=False, header=False)"
   ]
  },
  {
   "cell_type": "code",
   "execution_count": null,
   "metadata": {},
   "outputs": [],
   "source": [
    "df['p_id'].to_csv('features/person_id.csv', index=False, header=True)\n",
    "df['p_id'].to_csv('features/person_id.tsv', sep=\"\\t\", index=False, header=False)"
   ]
  },
  {
   "cell_type": "code",
   "execution_count": 5,
   "metadata": {},
   "outputs": [],
   "source": [
    "df_pose = pd.read_csv('features/pose_keypoints_with_labels.csv')"
   ]
  },
  {
   "cell_type": "code",
   "execution_count": 9,
   "metadata": {},
   "outputs": [],
   "source": [
    "def Euclidean_Dist(df1, df2):\n",
    "    return np.linalg.norm(df1.values - df2.values, axis=1)"
   ]
  },
  {
   "cell_type": "code",
   "execution_count": 10,
   "metadata": {},
   "outputs": [],
   "source": [
    "# get body keypoints\n",
    "\n",
    "r_p1 = range(0,24)\n",
    "r_p2 = range(75,99)\n",
    "r_p3 = range(150, 174)\n",
    "r_p4 = range(225,249)\n",
    "\n",
    "df_p1 = df_pose.iloc[:, r_p1]\n",
    "df_p2 = df_pose.iloc[:, r_p2]\n",
    "df_p3 = df_pose.iloc[:, r_p3]\n",
    "df_p4 = df_pose.iloc[:, r_p4]"
   ]
  },
  {
   "cell_type": "code",
   "execution_count": 16,
   "metadata": {},
   "outputs": [],
   "source": [
    "#euclidean dist between body keypoints\n",
    "\n",
    "e12 = Euclidean_Dist(df_p1, df_p2)\n",
    "e13 = Euclidean_Dist(df_p1, df_p3)\n",
    "e14 = Euclidean_Dist(df_p1, df_p4)\n",
    "e23 = Euclidean_Dist(df_p2, df_p3)\n",
    "e24 = Euclidean_Dist(df_p2, df_p4)\n",
    "e34 = Euclidean_Dist(df_p3, df_p4)"
   ]
  },
  {
   "cell_type": "code",
   "execution_count": 21,
   "metadata": {},
   "outputs": [
    {
     "data": {
      "text/plain": [
       "array([1658.96218786, 1649.67493944, 1673.38693612, ...,  384.31475848,\n",
       "        383.24986902,  843.55736258])"
      ]
     },
     "execution_count": 21,
     "metadata": {},
     "output_type": "execute_result"
    }
   ],
   "source": [
    "np.transpose(e12)"
   ]
  },
  {
   "cell_type": "code",
   "execution_count": 23,
   "metadata": {},
   "outputs": [],
   "source": [
    "pd.DataFrame(np.transpose([e12, e12, e14, e23, e24, e34]), columns=[\"e12\", \"e13\", \"e14\", \"e23\", \"e24\", \"e34\"]).to_csv(\"features/pose_distances.csv\", index=False, header=True)"
   ]
  },
  {
   "cell_type": "code",
   "execution_count": null,
   "metadata": {},
   "outputs": [],
   "source": []
  }
 ],
 "metadata": {
  "kernelspec": {
   "display_name": "Python 3.9.12 ('base')",
   "language": "python",
   "name": "python3"
  },
  "language_info": {
   "codemirror_mode": {
    "name": "ipython",
    "version": 3
   },
   "file_extension": ".py",
   "mimetype": "text/x-python",
   "name": "python",
   "nbconvert_exporter": "python",
   "pygments_lexer": "ipython3",
   "version": "3.9.12"
  },
  "orig_nbformat": 4,
  "vscode": {
   "interpreter": {
    "hash": "f76be68d9c5d6e76a66d5315d11dc6a9ea46dedf1868770abac3c9563870c381"
   }
  }
 },
 "nbformat": 4,
 "nbformat_minor": 2
}
