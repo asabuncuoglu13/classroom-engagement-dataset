{
 "cells": [
  {
   "attachments": {},
   "cell_type": "markdown",
   "metadata": {
    "id": "sWxDDkRwLVMC"
   },
   "source": [
    "# Transfer learning for video engagement classification with MoViNet\n",
    "\n",
    "This notebook is forked from Tensorflow implementation of transfer learning on MoViNets (Mobile Video Networks), which is a family of efficient video classification models, supporting inference on streaming video. You can check the official tutorial on [MoViNet for streaming action recognition](https://www.tensorflow.org/hub/tutorials/movinet)."
   ]
  },
  {
   "attachments": {},
   "cell_type": "markdown",
   "metadata": {},
   "source": [
    "## Packages"
   ]
  },
  {
   "cell_type": "code",
   "execution_count": 26,
   "metadata": {
    "execution": {
     "iopub.execute_input": "2022-12-19T02:20:44.186429Z",
     "iopub.status.busy": "2022-12-19T02:20:44.185832Z",
     "iopub.status.idle": "2022-12-19T02:21:13.696456Z",
     "shell.execute_reply": "2022-12-19T02:21:13.695584Z"
    },
    "id": "nubWhqYdwEXD"
   },
   "outputs": [],
   "source": [
    "#!pip install remotezip tqdm opencv-python==4.5.2.52 opencv-python-headless==4.5.2.52 tf-models-official\n",
    "#!pip install split-folders"
   ]
  },
  {
   "cell_type": "code",
   "execution_count": 27,
   "metadata": {
    "execution": {
     "iopub.execute_input": "2022-12-19T02:21:13.700788Z",
     "iopub.status.busy": "2022-12-19T02:21:13.700507Z",
     "iopub.status.idle": "2022-12-19T02:21:17.118005Z",
     "shell.execute_reply": "2022-12-19T02:21:17.117075Z"
    },
    "id": "QImPsudoK9JI"
   },
   "outputs": [],
   "source": [
    "import random\n",
    "from pathlib import Path\n",
    "import itertools\n",
    "import collections\n",
    "\n",
    "import cv2\n",
    "import numpy as np\n",
    "import seaborn as sns\n",
    "import matplotlib.pyplot as plt\n",
    "import pandas as pd\n",
    "import imageio\n",
    "import os\n",
    "from glob import glob1\n",
    "\n",
    "\n",
    "from sklearn.model_selection import train_test_split\n",
    "\n",
    "import tensorflow as tf\n",
    "import tensorflow_hub as hub\n",
    "from tensorflow.keras import layers\n",
    "from tensorflow.keras.optimizers import Adam\n",
    "from tensorflow.keras.losses import SparseCategoricalCrossentropy\n",
    "\n",
    "# Import the MoViNet model from TensorFlow Models (tf-models-official) for the MoViNet model\n",
    "from official.projects.movinet.modeling import movinet\n",
    "from official.projects.movinet.modeling import movinet_model"
   ]
  },
  {
   "cell_type": "code",
   "execution_count": 28,
   "metadata": {},
   "outputs": [
    {
     "name": "stdout",
     "output_type": "stream",
     "text": [
      "Fri Feb 10 13:42:15 2023       \r\n",
      "+-----------------------------------------------------------------------------+\r\n",
      "| NVIDIA-SMI 470.57.02    Driver Version: 470.57.02    CUDA Version: 11.4     |\r\n",
      "|-------------------------------+----------------------+----------------------+\r\n",
      "| GPU  Name        Persistence-M| Bus-Id        Disp.A | Volatile Uncorr. ECC |\r\n",
      "| Fan  Temp  Perf  Pwr:Usage/Cap|         Memory-Usage | GPU-Util  Compute M. |\r\n",
      "|                               |                      |               MIG M. |\r\n",
      "|===============================+======================+======================|\r\n",
      "|   0  Tesla V100-SXM2...  Off  | 00000000:3E:00.0 Off |                    0 |\r\n",
      "| N/A   26C    P0    51W / 300W |  31928MiB / 32510MiB |      0%      Default |\r\n",
      "|                               |                      |                  N/A |\r\n",
      "+-------------------------------+----------------------+----------------------+\r\n",
      "                                                                               \r\n",
      "+-----------------------------------------------------------------------------+\r\n",
      "| Processes:                                                                  |\r\n",
      "|  GPU   GI   CI        PID   Type   Process name                  GPU Memory |\r\n",
      "|        ID   ID                                                   Usage      |\r\n",
      "|=============================================================================|\r\n",
      "|    0   N/A  N/A     77977      C   ...aconda/2022.05/bin/python    31925MiB |\r\n",
      "+-----------------------------------------------------------------------------+\r\n"
     ]
    }
   ],
   "source": [
    "!nvidia-smi"
   ]
  },
  {
   "attachments": {},
   "cell_type": "markdown",
   "metadata": {
    "id": "2w3H4dfOPfnm"
   },
   "source": [
    "## Load data\n",
    "\n",
    "If you already downloaded our engagement dataset, create 10-sec clips from the videos using the [../data-pipeline/slice_based_on_levels.ipynb](../data-pipeline/slice_based_on_levels.ipynb). The following cell will then create a train/test split automatically"
   ]
  },
  {
   "cell_type": "code",
   "execution_count": 1,
   "metadata": {},
   "outputs": [
    {
     "data": {
      "text/plain": [
       "'\\nengagement_levels = [\"-2\", \"-1\", \"0\", \"1\", \"2\"]\\n!mkdir ../engagement-slices/movinet_dataset\\nfor e in engagement_levels:\\n    !mkdir {\"../engagement-slices/movinet_dataset/%s\" % e}\\n\\nfor i in range(4,9):\\n    for e in engagement_levels:\\n        for v in glob1(\"../engagement-slices/%d/%s\" % (i, e),\"*.mp4\"):\\n            print(v)\\n            !cp {\"../engagement-slices/%d/%s/%s\" % (i, e, v)} {\"../engagement-slices/movinet_dataset/%s\" % e}\\n            \\nimport splitfolders\\nsplitfolders.ratio(\\'../engagement-slices/movinet_dataset\\', output=\"output\", seed=1337, ratio=(0.8, 0.2)) \\n'"
      ]
     },
     "execution_count": 1,
     "metadata": {},
     "output_type": "execute_result"
    }
   ],
   "source": [
    "# Create the Dataset in FrameGenerator Format\n",
    "\n",
    "\"\"\"\n",
    "engagement_levels = [\"-2\", \"-1\", \"0\", \"1\", \"2\"]\n",
    "!mkdir ../engagement-slices/movinet_dataset\n",
    "for e in engagement_levels:\n",
    "    !mkdir {\"../engagement-slices/movinet_dataset/%s\" % e}\n",
    "\n",
    "for i in range(4,9):\n",
    "    for e in engagement_levels:\n",
    "        for v in glob1(\"../engagement-slices/%d/%s\" % (i, e),\"*.mp4\"):\n",
    "            print(v)\n",
    "            !cp {\"../engagement-slices/%d/%s/%s\" % (i, e, v)} {\"../engagement-slices/movinet_dataset/%s\" % e}\n",
    "            \n",
    "import splitfolders\n",
    "splitfolders.ratio('../engagement-slices/movinet_dataset', output=\"output\", seed=1337, ratio=(0.8, 0.2)) \n",
    "\"\"\""
   ]
  },
  {
   "cell_type": "code",
   "execution_count": 29,
   "metadata": {},
   "outputs": [],
   "source": [
    "def format_frames(frame, output_size):\n",
    "  \"\"\"\n",
    "    Pad and resize an image from a video.\n",
    "\n",
    "    Args:\n",
    "      frame: Image that needs to resized and padded. \n",
    "      output_size: Pixel size of the output frame image.\n",
    "\n",
    "    Return:\n",
    "      Formatted frame with padding of specified output size.\n",
    "  \"\"\"\n",
    "  frame = tf.image.convert_image_dtype(frame, tf.float32)\n",
    "  frame = tf.image.resize_with_pad(frame, *output_size)\n",
    "  return frame\n",
    "\n",
    "def frames_from_video_file(video_path, n_frames, output_size = (224,224)):\n",
    "  \"\"\"\n",
    "    Creates frames from each video file present for each category.\n",
    "\n",
    "    Args:\n",
    "      video_path: File path to the video.\n",
    "      n_frames: Number of frames to be created per video file.\n",
    "      output_size: Pixel size of the output frame image.\n",
    "\n",
    "    Return:\n",
    "      An NumPy array of frames in the shape of (n_frames, height, width, channels).\n",
    "  \"\"\"\n",
    "  # Read each video frame by frame\n",
    "  result = []\n",
    "  src = cv2.VideoCapture(str(video_path))  \n",
    "  video_length = src.get(cv2.CAP_PROP_FRAME_COUNT)\n",
    "  src.set(cv2.CAP_PROP_POS_FRAMES, 0)\n",
    "  # ret is a boolean indicating whether read was successful, frame is the image itself\n",
    "  ret, frame = src.read()\n",
    "  result.append(format_frames(frame, output_size))\n",
    "\n",
    "  for _ in range(n_frames - 1):\n",
    "    for _ in range(12):\n",
    "      ret, frame = src.read()\n",
    "    if ret:\n",
    "      frame = format_frames(frame, output_size)\n",
    "      result.append(frame)\n",
    "    else:\n",
    "      result.append(np.zeros_like(result[0]))\n",
    "  src.release()\n",
    "  result = np.array(result)[..., [2, 1, 0]]\n",
    "\n",
    "  return result\n",
    "\n",
    "class FrameGenerator:\n",
    "  def __init__(self, path, n_frames, training = False):\n",
    "    \"\"\" Returns a set of frames with their associated label. \n",
    "\n",
    "      Args:\n",
    "        path: Video file paths.\n",
    "        n_frames: Number of frames. \n",
    "        training: Boolean to determine if training dataset is being created.\n",
    "    \"\"\"\n",
    "    self.path = path\n",
    "    self.n_frames = n_frames\n",
    "    self.training = training\n",
    "    self.class_names = sorted(set(p.name for p in self.path.iterdir() if p.is_dir()))\n",
    "    self.class_ids_for_name = dict((name, idx) for idx, name in enumerate(self.class_names))\n",
    "\n",
    "  def get_files_and_class_names(self):\n",
    "    video_paths = list(self.path.glob('*/*.mp4'))\n",
    "    classes = [p.parent.name for p in video_paths] \n",
    "    return video_paths, classes\n",
    "\n",
    "  def __call__(self):\n",
    "    video_paths, classes = self.get_files_and_class_names()\n",
    "\n",
    "    pairs = list(zip(video_paths, classes))\n",
    "\n",
    "    if self.training:\n",
    "      random.shuffle(pairs)\n",
    "\n",
    "    for path, name in pairs:\n",
    "      video_frames = frames_from_video_file(path, self.n_frames) \n",
    "      label = self.class_ids_for_name[name] # Encode labels\n",
    "      yield video_frames, label"
   ]
  },
  {
   "cell_type": "markdown",
   "metadata": {
    "id": "aYYShfhMx9DW"
   },
   "source": [
    "Create the training and test datasets:"
   ]
  },
  {
   "cell_type": "code",
   "execution_count": 31,
   "metadata": {
    "execution": {
     "iopub.execute_input": "2022-12-19T02:22:03.547125Z",
     "iopub.status.busy": "2022-12-19T02:22:03.546861Z",
     "iopub.status.idle": "2022-12-19T02:22:06.910348Z",
     "shell.execute_reply": "2022-12-19T02:22:06.909478Z"
    },
    "id": "-twTu3_Bx-iJ",
    "scrolled": true
   },
   "outputs": [],
   "source": [
    "batch_size = 20\n",
    "num_frames = 10\n",
    "\n",
    "output_signature = (tf.TensorSpec(shape = (None, None, None, 3), dtype = tf.float32),\n",
    "                    tf.TensorSpec(shape = (), dtype = tf.int16))\n",
    "\n",
    "train_ds = tf.data.Dataset.from_generator(FrameGenerator(Path(\"./output/train\"), num_frames, training = True),\n",
    "                                          output_signature = output_signature)\n",
    "train_ds = train_ds.batch(batch_size)\n",
    "\n",
    "test_ds = tf.data.Dataset.from_generator(FrameGenerator(Path(\"./output/val\"), num_frames),\n",
    "                                         output_signature = output_signature)\n",
    "test_ds = test_ds.batch(batch_size)"
   ]
  },
  {
   "attachments": {},
   "cell_type": "markdown",
   "metadata": {
    "id": "d7stgmuBCGQT"
   },
   "source": [
    "The labels generated here represent the encoding of the classes. For instance, 'Highly Disengaged' is mapped to the integer 0. Take a look at the labels of the training data to ensure that the dataset has been sufficiently shuffled. "
   ]
  },
  {
   "cell_type": "code",
   "execution_count": 32,
   "metadata": {
    "execution": {
     "iopub.execute_input": "2022-12-19T02:22:06.914183Z",
     "iopub.status.busy": "2022-12-19T02:22:06.913913Z",
     "iopub.status.idle": "2022-12-19T02:22:14.836650Z",
     "shell.execute_reply": "2022-12-19T02:22:14.835764Z"
    },
    "id": "k9L2-toXCOQq"
   },
   "outputs": [
    {
     "name": "stdout",
     "output_type": "stream",
     "text": [
      "tf.Tensor([2 0 1 2 0 0 4 4 1 1 0 4 0 2 4 4 2 2 4 1], shape=(20,), dtype=int16)\n",
      "tf.Tensor([4 0 4 1 1 2 1 4 4 4 4 4 4 0 4 3 0 0 4 2], shape=(20,), dtype=int16)\n",
      "tf.Tensor([0 4 2 4 2 4 2 4 0 4 0 4 4 4 1 0 2 0 4 4], shape=(20,), dtype=int16)\n",
      "tf.Tensor([0 4 4 0 4 4 4 4 0 0 4 4 4 4 2 4 0 4 3 1], shape=(20,), dtype=int16)\n",
      "tf.Tensor([1 0 4 4 0 2 2 0 1 4 0 0 4 2 4 0 4 0 4 4], shape=(20,), dtype=int16)\n",
      "tf.Tensor([4 0 0 1 2 4 4 0 2 0 0 2 2 4 4 0 1 4 2 2], shape=(20,), dtype=int16)\n",
      "tf.Tensor([4 4 2 4 0 0 0 0 4 0 4 4 0 1 0 0 0 0 4 0], shape=(20,), dtype=int16)\n",
      "tf.Tensor([2 0 1 4 4 0 2 2 4 1 0 4 4 4 0 1 0 1 2 0], shape=(20,), dtype=int16)\n",
      "tf.Tensor([2 4 2 4 4 0 1 4 1 4 4 2 2 0 4 1 0 4 4 2], shape=(20,), dtype=int16)\n",
      "tf.Tensor([2 4 0 0 4 0 0 1 2 1 4 4 1 0 1 4 4 4 1 4], shape=(20,), dtype=int16)\n"
     ]
    }
   ],
   "source": [
    "for frames, labels in train_ds.take(10):\n",
    "  print(labels)"
   ]
  },
  {
   "cell_type": "markdown",
   "metadata": {
    "id": "YZ3qwZnpfy9c"
   },
   "source": [
    "Take a look at the shape of the data."
   ]
  },
  {
   "cell_type": "code",
   "execution_count": 33,
   "metadata": {
    "execution": {
     "iopub.execute_input": "2022-12-19T02:22:14.840672Z",
     "iopub.status.busy": "2022-12-19T02:22:14.839981Z",
     "iopub.status.idle": "2022-12-19T02:22:14.844416Z",
     "shell.execute_reply": "2022-12-19T02:22:14.843670Z"
    },
    "id": "b6MqP4m2fyQT"
   },
   "outputs": [
    {
     "name": "stdout",
     "output_type": "stream",
     "text": [
      "Shape: (20, 10, 224, 224, 3)\n",
      "Label: (20,)\n"
     ]
    }
   ],
   "source": [
    "print(f\"Shape: {frames.shape}\")\n",
    "print(f\"Label: {labels.shape}\")"
   ]
  },
  {
   "attachments": {},
   "cell_type": "markdown",
   "metadata": {
    "id": "lxbhPqXGvc_F"
   },
   "source": [
    "The MoViNet architecture uses 3D convolutions that are \"causal\" along the time axis (like `layers.Conv1D` with `padding=\"causal\"`). This gives some of the advantages of both approaches, mainly it allow for efficient streaming. "
   ]
  },
  {
   "cell_type": "code",
   "execution_count": 34,
   "metadata": {
    "execution": {
     "iopub.execute_input": "2022-12-19T02:22:14.848014Z",
     "iopub.status.busy": "2022-12-19T02:22:14.847563Z",
     "iopub.status.idle": "2022-12-19T02:22:17.279262Z",
     "shell.execute_reply": "2022-12-19T02:22:17.278358Z"
    },
    "id": "dMvDkgfFZC6a"
   },
   "outputs": [],
   "source": [
    "gru = layers.GRU(units=4, return_sequences=True, return_state=True)\n",
    "\n",
    "inputs = tf.random.normal(shape=[1, 10, 8]) # (batch, sequence, channels)\n",
    "\n",
    "result, state = gru(inputs) # Run it all at once"
   ]
  },
  {
   "attachments": {},
   "cell_type": "markdown",
   "metadata": {
    "id": "T7xyb5C4bTs7"
   },
   "source": [
    "By setting the RNN's `return_sequences=True` argument we ask it to return the state at the end of the computation. This allows us to pause and then continue where you left off, to get exactly the same result:"
   ]
  },
  {
   "cell_type": "code",
   "execution_count": 35,
   "metadata": {
    "execution": {
     "iopub.execute_input": "2022-12-19T02:22:17.283472Z",
     "iopub.status.busy": "2022-12-19T02:22:17.283175Z",
     "iopub.status.idle": "2022-12-19T02:22:17.302130Z",
     "shell.execute_reply": "2022-12-19T02:22:17.301138Z"
    },
    "id": "bI8FOPRRXXPa"
   },
   "outputs": [
    {
     "name": "stdout",
     "output_type": "stream",
     "text": [
      "True\n",
      "True\n"
     ]
    }
   ],
   "source": [
    "first_half, state = gru(inputs[:, :5, :])   # run the first half, and capture the state\n",
    "second_half, _ = gru(inputs[:,5:, :], initial_state=state)  # Use the state to continue where you left off.\n",
    "\n",
    "print(np.allclose(result[:, :5,:], first_half))\n",
    "print(np.allclose(result[:, 5:,:], second_half))"
   ]
  },
  {
   "attachments": {},
   "cell_type": "markdown",
   "metadata": {
    "id": "KM3MArumY_Qk"
   },
   "source": [
    "Causal convolutions can be used the same way, if handled with care. This technique was used in the [Fast Wavenet Generation Algorithm](https://arxiv.org/abs/1611.09482) by Le Paine et al. In the [MoVinet paper](https://arxiv.org/abs/2103.11511), the `state` is referred to as the \"Stream Buffer\". By passing this little bit of state forward, we can avoid recalculating the whole receptive field. "
   ]
  },
  {
   "attachments": {},
   "cell_type": "markdown",
   "metadata": {
    "id": "1UsxiPs8yA2e"
   },
   "source": [
    "## Download a pre-trained MoViNet model\n",
    "\n",
    "- Load the pretrained weights. \n",
    "- Freeze the convolutional base, or all other layers except the final classifier head, to speed up fine-tuning."
   ]
  },
  {
   "cell_type": "code",
   "execution_count": 36,
   "metadata": {
    "execution": {
     "iopub.execute_input": "2022-12-19T02:22:17.305616Z",
     "iopub.status.busy": "2022-12-19T02:22:17.305032Z",
     "iopub.status.idle": "2022-12-19T02:22:23.870703Z",
     "shell.execute_reply": "2022-12-19T02:22:23.869896Z"
    },
    "id": "rhSCM6cee05F"
   },
   "outputs": [
    {
     "name": "stdout",
     "output_type": "stream",
     "text": [
      "movinet_a4_base/\n",
      "movinet_a4_base/checkpoint\n",
      "movinet_a4_base/ckpt-1.data-00000-of-00001\n",
      "movinet_a4_base/ckpt-1.index\n"
     ]
    },
    {
     "data": {
      "text/plain": [
       "<tensorflow.python.checkpoint.checkpoint.CheckpointLoadStatus at 0x2b27cc0f56a0>"
      ]
     },
     "execution_count": 36,
     "metadata": {},
     "output_type": "execute_result"
    }
   ],
   "source": [
    "model_id = 'a0'\n",
    "resolution = 224\n",
    "#model_id = 'a4'\n",
    "#resolution = 290\n",
    "\n",
    "tf.keras.backend.clear_session()\n",
    "\n",
    "backbone = movinet.Movinet(model_id=model_id)\n",
    "backbone.trainable = False\n",
    "\n",
    "# Set num_classes=600 to load the pre-trained weights from the original model\n",
    "model = movinet_model.MovinetClassifier(backbone=backbone, num_classes=600)\n",
    "model.build([None, None, None, None, 3])\n",
    "\n",
    "# Load pre-trained weights\n",
    "#!wget https://storage.googleapis.com/tf_model_garden/vision/movinet/movinet_a0_base.tar.gz -O movinet_a0_base.tar.gz -q\n",
    "#!tar -xvf movinet_a0_base.tar.gz\n",
    "\n",
    "!wget https://storage.googleapis.com/tf_model_garden/vision/movinet/movinet_a4_base.tar.gz -O movinet_a4_base.tar.gz -q\n",
    "!tar -xvf movinet_a4_base.tar.gz\n",
    "\n",
    "checkpoint_dir = f'movinet_{model_id}_base'\n",
    "checkpoint_path = tf.train.latest_checkpoint(checkpoint_dir)\n",
    "checkpoint = tf.train.Checkpoint(model=model)\n",
    "status = checkpoint.restore(checkpoint_path)\n",
    "status.assert_existing_objects_matched()"
   ]
  },
  {
   "cell_type": "markdown",
   "metadata": {
    "id": "BW23HVNtCXff"
   },
   "source": [
    "To build a classifier, create a function that takes the backbone and the number of classes in a dataset. The `build_classifier` function will take the backbone and the number of classes in a dataset to build the classifier. In this case, the new classifier will take a `num_classes` outputs (10 classes for this subset of UCF101)."
   ]
  },
  {
   "cell_type": "code",
   "execution_count": 37,
   "metadata": {
    "execution": {
     "iopub.execute_input": "2022-12-19T02:22:23.874412Z",
     "iopub.status.busy": "2022-12-19T02:22:23.874145Z",
     "iopub.status.idle": "2022-12-19T02:22:23.878355Z",
     "shell.execute_reply": "2022-12-19T02:22:23.877769Z"
    },
    "id": "6cfAelbU5Gi3"
   },
   "outputs": [],
   "source": [
    "def build_classifier(batch_size, num_frames, resolution, backbone, num_classes):\n",
    "  \"\"\"Builds a classifier on top of a backbone model.\"\"\"\n",
    "  model = movinet_model.MovinetClassifier(\n",
    "      backbone=backbone,\n",
    "      num_classes=num_classes)\n",
    "  model.build([batch_size, num_frames, resolution, resolution, 3])\n",
    "\n",
    "  return model"
   ]
  },
  {
   "cell_type": "code",
   "execution_count": 38,
   "metadata": {
    "execution": {
     "iopub.execute_input": "2022-12-19T02:22:23.881475Z",
     "iopub.status.busy": "2022-12-19T02:22:23.881212Z",
     "iopub.status.idle": "2022-12-19T02:22:25.724414Z",
     "shell.execute_reply": "2022-12-19T02:22:25.723717Z"
    },
    "id": "9HWSk-u7oPUZ"
   },
   "outputs": [],
   "source": [
    "model = build_classifier(batch_size, num_frames, resolution, backbone, 10)"
   ]
  },
  {
   "cell_type": "markdown",
   "metadata": {
    "id": "JhbX7qdTN8lc"
   },
   "source": [
    "For this tutorial, choose the `tf.keras.optimizers.Adam` optimizer and the `tf.keras.losses.SparseCategoricalCrossentropy` loss function. Use the metrics argument to the view the accuracy of the model performance at every step."
   ]
  },
  {
   "cell_type": "code",
   "execution_count": 39,
   "metadata": {
    "execution": {
     "iopub.execute_input": "2022-12-19T02:22:25.728733Z",
     "iopub.status.busy": "2022-12-19T02:22:25.728241Z",
     "iopub.status.idle": "2022-12-19T02:22:25.746359Z",
     "shell.execute_reply": "2022-12-19T02:22:25.745702Z"
    },
    "id": "dVqBLrn1tBsd"
   },
   "outputs": [],
   "source": [
    "num_epochs = 20\n",
    "\n",
    "loss_obj = tf.keras.losses.SparseCategoricalCrossentropy(from_logits=True)\n",
    "\n",
    "optimizer = tf.keras.optimizers.Adam(learning_rate = 0.001)\n",
    "\n",
    "model.compile(loss=loss_obj, optimizer=optimizer, metrics=['accuracy'])"
   ]
  },
  {
   "cell_type": "markdown",
   "metadata": {
    "id": "VflEr_t6CuQu"
   },
   "source": [
    "Train the model. After two epochs, observe a low loss with high accuracy for both the training and test sets. "
   ]
  },
  {
   "cell_type": "code",
   "execution_count": 40,
   "metadata": {
    "colab": {
     "background_save": true
    },
    "execution": {
     "iopub.execute_input": "2022-12-19T02:22:25.749730Z",
     "iopub.status.busy": "2022-12-19T02:22:25.749168Z",
     "iopub.status.idle": "2022-12-19T02:24:28.660059Z",
     "shell.execute_reply": "2022-12-19T02:24:28.659358Z"
    },
    "id": "9ZeiYzI0tqQG"
   },
   "outputs": [
    {
     "name": "stdout",
     "output_type": "stream",
     "text": [
      "Epoch 1/20\n"
     ]
    },
    {
     "name": "stderr",
     "output_type": "stream",
     "text": [
      "2023-02-10 13:44:54.214907: I tensorflow/compiler/xla/stream_executor/cuda/cuda_dnn.cc:5340] Disabling cuDNN frontend for the following convolution:\n",
      "  input: {count: 20 feature_map_count: 24 spatial: 1 1 1  value_min: 0.000000 value_max: 0.000000 layout: BatchDepthYX}\n",
      "  filter: {output_feature_map_count: 8 input_feature_map_count: 24 layout: OutputInputYX shape: 1 1 1 }\n",
      "  {zero_padding: 0 0 0  pad_alignment: default filter_strides: 1 1 1  dilation_rates: 1 1 1 }\n",
      "  ... because it uses an identity activation.\n",
      "2023-02-10 13:44:54.732441: I tensorflow/compiler/xla/stream_executor/cuda/cuda_dnn.cc:5340] Disabling cuDNN frontend for the following convolution:\n",
      "  input: {count: 20 feature_map_count: 8 spatial: 1 1 1  value_min: 0.000000 value_max: 0.000000 layout: BatchDepthYX}\n",
      "  filter: {output_feature_map_count: 24 input_feature_map_count: 8 layout: OutputInputYX shape: 1 1 1 }\n",
      "  {zero_padding: 0 0 0  pad_alignment: default filter_strides: 1 1 1  dilation_rates: 1 1 1 }\n",
      "  ... because it uses an identity activation.\n",
      "2023-02-10 13:44:57.162908: I tensorflow/compiler/xla/stream_executor/cuda/cuda_dnn.cc:5340] Disabling cuDNN frontend for the following convolution:\n",
      "  input: {count: 20 feature_map_count: 80 spatial: 1 1 1  value_min: 0.000000 value_max: 0.000000 layout: BatchDepthYX}\n",
      "  filter: {output_feature_map_count: 24 input_feature_map_count: 80 layout: OutputInputYX shape: 1 1 1 }\n",
      "  {zero_padding: 0 0 0  pad_alignment: default filter_strides: 1 1 1  dilation_rates: 1 1 1 }\n",
      "  ... because it uses an identity activation.\n",
      "2023-02-10 13:44:57.690009: I tensorflow/compiler/xla/stream_executor/cuda/cuda_dnn.cc:5340] Disabling cuDNN frontend for the following convolution:\n",
      "  input: {count: 20 feature_map_count: 24 spatial: 1 1 1  value_min: 0.000000 value_max: 0.000000 layout: BatchDepthYX}\n",
      "  filter: {output_feature_map_count: 80 input_feature_map_count: 24 layout: OutputInputYX shape: 1 1 1 }\n",
      "  {zero_padding: 0 0 0  pad_alignment: default filter_strides: 1 1 1  dilation_rates: 1 1 1 }\n",
      "  ... because it uses an identity activation.\n",
      "2023-02-10 13:45:01.904553: I tensorflow/compiler/xla/stream_executor/cuda/cuda_dnn.cc:5340] Disabling cuDNN frontend for the following convolution:\n",
      "  input: {count: 20 feature_map_count: 184 spatial: 1 1 1  value_min: 0.000000 value_max: 0.000000 layout: BatchDepthYX}\n",
      "  filter: {output_feature_map_count: 48 input_feature_map_count: 184 layout: OutputInputYX shape: 1 1 1 }\n",
      "  {zero_padding: 0 0 0  pad_alignment: default filter_strides: 1 1 1  dilation_rates: 1 1 1 }\n",
      "  ... because it uses an identity activation.\n",
      "2023-02-10 13:45:02.538611: I tensorflow/compiler/xla/stream_executor/cuda/cuda_dnn.cc:5340] Disabling cuDNN frontend for the following convolution:\n",
      "  input: {count: 20 feature_map_count: 48 spatial: 1 1 1  value_min: 0.000000 value_max: 0.000000 layout: BatchDepthYX}\n",
      "  filter: {output_feature_map_count: 184 input_feature_map_count: 48 layout: OutputInputYX shape: 1 1 1 }\n",
      "  {zero_padding: 0 0 0  pad_alignment: default filter_strides: 1 1 1  dilation_rates: 1 1 1 }\n",
      "  ... because it uses an identity activation.\n",
      "2023-02-10 13:45:04.581413: I tensorflow/compiler/xla/stream_executor/cuda/cuda_dnn.cc:5340] Disabling cuDNN frontend for the following convolution:\n",
      "  input: {count: 20 feature_map_count: 112 spatial: 1 1 1  value_min: 0.000000 value_max: 0.000000 layout: BatchDepthYX}\n",
      "  filter: {output_feature_map_count: 32 input_feature_map_count: 112 layout: OutputInputYX shape: 1 1 1 }\n",
      "  {zero_padding: 0 0 0  pad_alignment: default filter_strides: 1 1 1  dilation_rates: 1 1 1 }\n",
      "  ... because it uses an identity activation.\n",
      "2023-02-10 13:45:05.097849: I tensorflow/compiler/xla/stream_executor/cuda/cuda_dnn.cc:5340] Disabling cuDNN frontend for the following convolution:\n",
      "  input: {count: 20 feature_map_count: 32 spatial: 1 1 1  value_min: 0.000000 value_max: 0.000000 layout: BatchDepthYX}\n",
      "  filter: {output_feature_map_count: 112 input_feature_map_count: 32 layout: OutputInputYX shape: 1 1 1 }\n",
      "  {zero_padding: 0 0 0  pad_alignment: default filter_strides: 1 1 1  dilation_rates: 1 1 1 }\n",
      "  ... because it uses an identity activation.\n",
      "2023-02-10 13:45:09.702087: I tensorflow/compiler/xla/stream_executor/cuda/cuda_dnn.cc:5340] Disabling cuDNN frontend for the following convolution:\n",
      "  input: {count: 20 feature_map_count: 384 spatial: 1 1 1  value_min: 0.000000 value_max: 0.000000 layout: BatchDepthYX}\n",
      "  filter: {output_feature_map_count: 96 input_feature_map_count: 384 layout: OutputInputYX shape: 1 1 1 }\n",
      "  {zero_padding: 0 0 0  pad_alignment: default filter_strides: 1 1 1  dilation_rates: 1 1 1 }\n",
      "  ... because it uses an identity activation.\n",
      "2023-02-10 13:45:10.156291: I tensorflow/compiler/xla/stream_executor/cuda/cuda_dnn.cc:5340] Disabling cuDNN frontend for the following convolution:\n",
      "  input: {count: 20 feature_map_count: 96 spatial: 1 1 1  value_min: 0.000000 value_max: 0.000000 layout: BatchDepthYX}\n",
      "  filter: {output_feature_map_count: 384 input_feature_map_count: 96 layout: OutputInputYX shape: 1 1 1 }\n",
      "  {zero_padding: 0 0 0  pad_alignment: default filter_strides: 1 1 1  dilation_rates: 1 1 1 }\n",
      "  ... because it uses an identity activation.\n",
      "2023-02-10 13:45:12.240159: I tensorflow/compiler/xla/stream_executor/cuda/cuda_dnn.cc:5340] Disabling cuDNN frontend for the following convolution:\n",
      "  input: {count: 20 feature_map_count: 280 spatial: 1 1 1  value_min: 0.000000 value_max: 0.000000 layout: BatchDepthYX}\n",
      "  filter: {output_feature_map_count: 72 input_feature_map_count: 280 layout: OutputInputYX shape: 1 1 1 }\n",
      "  {zero_padding: 0 0 0  pad_alignment: default filter_strides: 1 1 1  dilation_rates: 1 1 1 }\n",
      "  ... because it uses an identity activation.\n",
      "2023-02-10 13:45:12.717623: I tensorflow/compiler/xla/stream_executor/cuda/cuda_dnn.cc:5340] Disabling cuDNN frontend for the following convolution:\n",
      "  input: {count: 20 feature_map_count: 72 spatial: 1 1 1  value_min: 0.000000 value_max: 0.000000 layout: BatchDepthYX}\n",
      "  filter: {output_feature_map_count: 280 input_feature_map_count: 72 layout: OutputInputYX shape: 1 1 1 }\n",
      "  {zero_padding: 0 0 0  pad_alignment: default filter_strides: 1 1 1  dilation_rates: 1 1 1 }\n",
      "  ... because it uses an identity activation.\n",
      "2023-02-10 13:45:14.969812: I tensorflow/compiler/xla/stream_executor/cuda/cuda_dnn.cc:5340] Disabling cuDNN frontend for the following convolution:\n",
      "  input: {count: 20 feature_map_count: 344 spatial: 1 1 1  value_min: 0.000000 value_max: 0.000000 layout: BatchDepthYX}\n",
      "  filter: {output_feature_map_count: 88 input_feature_map_count: 344 layout: OutputInputYX shape: 1 1 1 }\n",
      "  {zero_padding: 0 0 0  pad_alignment: default filter_strides: 1 1 1  dilation_rates: 1 1 1 }\n",
      "  ... because it uses an identity activation.\n",
      "2023-02-10 13:45:15.315260: I tensorflow/compiler/xla/stream_executor/cuda/cuda_dnn.cc:5340] Disabling cuDNN frontend for the following convolution:\n",
      "  input: {count: 20 feature_map_count: 88 spatial: 1 1 1  value_min: 0.000000 value_max: 0.000000 layout: BatchDepthYX}\n",
      "  filter: {output_feature_map_count: 344 input_feature_map_count: 88 layout: OutputInputYX shape: 1 1 1 }\n",
      "  {zero_padding: 0 0 0  pad_alignment: default filter_strides: 1 1 1  dilation_rates: 1 1 1 }\n",
      "  ... because it uses an identity activation.\n",
      "2023-02-10 13:45:16.659145: I tensorflow/compiler/xla/stream_executor/cuda/cuda_dnn.cc:5340] Disabling cuDNN frontend for the following convolution:\n",
      "  input: {count: 20 feature_map_count: 480 spatial: 1 1 1  value_min: 0.000000 value_max: 0.000000 layout: BatchDepthYX}\n",
      "  filter: {output_feature_map_count: 2048 input_feature_map_count: 480 layout: OutputInputYX shape: 1 1 1 }\n",
      "  {zero_padding: 0 0 0  pad_alignment: default filter_strides: 1 1 1  dilation_rates: 1 1 1 }\n",
      "  ... because it uses an identity activation.\n"
     ]
    },
    {
     "name": "stdout",
     "output_type": "stream",
     "text": [
      "     92/Unknown - 1050s 11s/step - loss: 1.2511 - accuracy: 0.4571"
     ]
    },
    {
     "name": "stderr",
     "output_type": "stream",
     "text": [
      "2023-02-10 14:02:12.119418: I tensorflow/compiler/xla/stream_executor/cuda/cuda_dnn.cc:5340] Disabling cuDNN frontend for the following convolution:\n",
      "  input: {count: 15 feature_map_count: 24 spatial: 1 1 1  value_min: 0.000000 value_max: 0.000000 layout: BatchDepthYX}\n",
      "  filter: {output_feature_map_count: 8 input_feature_map_count: 24 layout: OutputInputYX shape: 1 1 1 }\n",
      "  {zero_padding: 0 0 0  pad_alignment: default filter_strides: 1 1 1  dilation_rates: 1 1 1 }\n",
      "  ... because it uses an identity activation.\n",
      "2023-02-10 14:02:12.136650: I tensorflow/compiler/xla/stream_executor/cuda/cuda_dnn.cc:5340] Disabling cuDNN frontend for the following convolution:\n",
      "  input: {count: 15 feature_map_count: 8 spatial: 1 1 1  value_min: 0.000000 value_max: 0.000000 layout: BatchDepthYX}\n",
      "  filter: {output_feature_map_count: 24 input_feature_map_count: 8 layout: OutputInputYX shape: 1 1 1 }\n",
      "  {zero_padding: 0 0 0  pad_alignment: default filter_strides: 1 1 1  dilation_rates: 1 1 1 }\n",
      "  ... because it uses an identity activation.\n",
      "2023-02-10 14:02:13.776895: I tensorflow/compiler/xla/stream_executor/cuda/cuda_dnn.cc:5340] Disabling cuDNN frontend for the following convolution:\n",
      "  input: {count: 15 feature_map_count: 80 spatial: 1 1 1  value_min: 0.000000 value_max: 0.000000 layout: BatchDepthYX}\n",
      "  filter: {output_feature_map_count: 24 input_feature_map_count: 80 layout: OutputInputYX shape: 1 1 1 }\n",
      "  {zero_padding: 0 0 0  pad_alignment: default filter_strides: 1 1 1  dilation_rates: 1 1 1 }\n",
      "  ... because it uses an identity activation.\n",
      "2023-02-10 14:02:13.793219: I tensorflow/compiler/xla/stream_executor/cuda/cuda_dnn.cc:5340] Disabling cuDNN frontend for the following convolution:\n",
      "  input: {count: 15 feature_map_count: 24 spatial: 1 1 1  value_min: 0.000000 value_max: 0.000000 layout: BatchDepthYX}\n",
      "  filter: {output_feature_map_count: 80 input_feature_map_count: 24 layout: OutputInputYX shape: 1 1 1 }\n",
      "  {zero_padding: 0 0 0  pad_alignment: default filter_strides: 1 1 1  dilation_rates: 1 1 1 }\n",
      "  ... because it uses an identity activation.\n",
      "2023-02-10 14:02:16.679556: I tensorflow/compiler/xla/stream_executor/cuda/cuda_dnn.cc:5340] Disabling cuDNN frontend for the following convolution:\n",
      "  input: {count: 15 feature_map_count: 184 spatial: 1 1 1  value_min: 0.000000 value_max: 0.000000 layout: BatchDepthYX}\n",
      "  filter: {output_feature_map_count: 48 input_feature_map_count: 184 layout: OutputInputYX shape: 1 1 1 }\n",
      "  {zero_padding: 0 0 0  pad_alignment: default filter_strides: 1 1 1  dilation_rates: 1 1 1 }\n",
      "  ... because it uses an identity activation.\n",
      "2023-02-10 14:02:16.707349: I tensorflow/compiler/xla/stream_executor/cuda/cuda_dnn.cc:5340] Disabling cuDNN frontend for the following convolution:\n",
      "  input: {count: 15 feature_map_count: 48 spatial: 1 1 1  value_min: 0.000000 value_max: 0.000000 layout: BatchDepthYX}\n",
      "  filter: {output_feature_map_count: 184 input_feature_map_count: 48 layout: OutputInputYX shape: 1 1 1 }\n",
      "  {zero_padding: 0 0 0  pad_alignment: default filter_strides: 1 1 1  dilation_rates: 1 1 1 }\n",
      "  ... because it uses an identity activation.\n",
      "2023-02-10 14:02:18.077574: I tensorflow/compiler/xla/stream_executor/cuda/cuda_dnn.cc:5340] Disabling cuDNN frontend for the following convolution:\n",
      "  input: {count: 15 feature_map_count: 112 spatial: 1 1 1  value_min: 0.000000 value_max: 0.000000 layout: BatchDepthYX}\n",
      "  filter: {output_feature_map_count: 32 input_feature_map_count: 112 layout: OutputInputYX shape: 1 1 1 }\n",
      "  {zero_padding: 0 0 0  pad_alignment: default filter_strides: 1 1 1  dilation_rates: 1 1 1 }\n",
      "  ... because it uses an identity activation.\n",
      "2023-02-10 14:02:18.093619: I tensorflow/compiler/xla/stream_executor/cuda/cuda_dnn.cc:5340] Disabling cuDNN frontend for the following convolution:\n",
      "  input: {count: 15 feature_map_count: 32 spatial: 1 1 1  value_min: 0.000000 value_max: 0.000000 layout: BatchDepthYX}\n",
      "  filter: {output_feature_map_count: 112 input_feature_map_count: 32 layout: OutputInputYX shape: 1 1 1 }\n",
      "  {zero_padding: 0 0 0  pad_alignment: default filter_strides: 1 1 1  dilation_rates: 1 1 1 }\n",
      "  ... because it uses an identity activation.\n",
      "2023-02-10 14:02:21.857164: I tensorflow/compiler/xla/stream_executor/cuda/cuda_dnn.cc:5340] Disabling cuDNN frontend for the following convolution:\n",
      "  input: {count: 15 feature_map_count: 384 spatial: 1 1 1  value_min: 0.000000 value_max: 0.000000 layout: BatchDepthYX}\n",
      "  filter: {output_feature_map_count: 96 input_feature_map_count: 384 layout: OutputInputYX shape: 1 1 1 }\n",
      "  {zero_padding: 0 0 0  pad_alignment: default filter_strides: 1 1 1  dilation_rates: 1 1 1 }\n",
      "  ... because it uses an identity activation.\n",
      "2023-02-10 14:02:21.882358: I tensorflow/compiler/xla/stream_executor/cuda/cuda_dnn.cc:5340] Disabling cuDNN frontend for the following convolution:\n",
      "  input: {count: 15 feature_map_count: 96 spatial: 1 1 1  value_min: 0.000000 value_max: 0.000000 layout: BatchDepthYX}\n",
      "  filter: {output_feature_map_count: 384 input_feature_map_count: 96 layout: OutputInputYX shape: 1 1 1 }\n",
      "  {zero_padding: 0 0 0  pad_alignment: default filter_strides: 1 1 1  dilation_rates: 1 1 1 }\n",
      "  ... because it uses an identity activation.\n",
      "2023-02-10 14:02:23.272889: I tensorflow/compiler/xla/stream_executor/cuda/cuda_dnn.cc:5340] Disabling cuDNN frontend for the following convolution:\n",
      "  input: {count: 15 feature_map_count: 280 spatial: 1 1 1  value_min: 0.000000 value_max: 0.000000 layout: BatchDepthYX}\n",
      "  filter: {output_feature_map_count: 72 input_feature_map_count: 280 layout: OutputInputYX shape: 1 1 1 }\n",
      "  {zero_padding: 0 0 0  pad_alignment: default filter_strides: 1 1 1  dilation_rates: 1 1 1 }\n",
      "  ... because it uses an identity activation.\n",
      "2023-02-10 14:02:23.294721: I tensorflow/compiler/xla/stream_executor/cuda/cuda_dnn.cc:5340] Disabling cuDNN frontend for the following convolution:\n",
      "  input: {count: 15 feature_map_count: 72 spatial: 1 1 1  value_min: 0.000000 value_max: 0.000000 layout: BatchDepthYX}\n",
      "  filter: {output_feature_map_count: 280 input_feature_map_count: 72 layout: OutputInputYX shape: 1 1 1 }\n",
      "  {zero_padding: 0 0 0  pad_alignment: default filter_strides: 1 1 1  dilation_rates: 1 1 1 }\n",
      "  ... because it uses an identity activation.\n",
      "2023-02-10 14:02:24.738843: I tensorflow/compiler/xla/stream_executor/cuda/cuda_dnn.cc:5340] Disabling cuDNN frontend for the following convolution:\n",
      "  input: {count: 15 feature_map_count: 344 spatial: 1 1 1  value_min: 0.000000 value_max: 0.000000 layout: BatchDepthYX}\n",
      "  filter: {output_feature_map_count: 88 input_feature_map_count: 344 layout: OutputInputYX shape: 1 1 1 }\n",
      "  {zero_padding: 0 0 0  pad_alignment: default filter_strides: 1 1 1  dilation_rates: 1 1 1 }\n",
      "  ... because it uses an identity activation.\n",
      "2023-02-10 14:02:24.754739: I tensorflow/compiler/xla/stream_executor/cuda/cuda_dnn.cc:5340] Disabling cuDNN frontend for the following convolution:\n",
      "  input: {count: 15 feature_map_count: 88 spatial: 1 1 1  value_min: 0.000000 value_max: 0.000000 layout: BatchDepthYX}\n",
      "  filter: {output_feature_map_count: 344 input_feature_map_count: 88 layout: OutputInputYX shape: 1 1 1 }\n",
      "  {zero_padding: 0 0 0  pad_alignment: default filter_strides: 1 1 1  dilation_rates: 1 1 1 }\n",
      "  ... because it uses an identity activation.\n",
      "2023-02-10 14:02:25.684717: I tensorflow/compiler/xla/stream_executor/cuda/cuda_dnn.cc:5340] Disabling cuDNN frontend for the following convolution:\n",
      "  input: {count: 15 feature_map_count: 480 spatial: 1 1 1  value_min: 0.000000 value_max: 0.000000 layout: BatchDepthYX}\n",
      "  filter: {output_feature_map_count: 2048 input_feature_map_count: 480 layout: OutputInputYX shape: 1 1 1 }\n",
      "  {zero_padding: 0 0 0  pad_alignment: default filter_strides: 1 1 1  dilation_rates: 1 1 1 }\n",
      "  ... because it uses an identity activation.\n"
     ]
    },
    {
     "name": "stdout",
     "output_type": "stream",
     "text": [
      "\b\b\b\b\b\b\b\b\b\b\b\b\b\b\b\b\b\b\b\b\b\b\b\b\b\b\b\b\b\b\b\b\b\b\b\b\b\b\b\b\b\b\b\b\b\b\b\b\b\b\b\b\b\b\b\b\b\b\b\b\b\b\b\b\b\b\r\n",
      "     93/Unknown - 1075s 11s/step - loss: 1.2498 - accuracy: 0.4582"
     ]
    },
    {
     "name": "stderr",
     "output_type": "stream",
     "text": [
      "2023-02-10 14:06:49.742400: I tensorflow/compiler/xla/stream_executor/cuda/cuda_dnn.cc:5340] Disabling cuDNN frontend for the following convolution:\n",
      "  input: {count: 5 feature_map_count: 24 spatial: 1 1 1  value_min: 0.000000 value_max: 0.000000 layout: BatchDepthYX}\n",
      "  filter: {output_feature_map_count: 8 input_feature_map_count: 24 layout: OutputInputYX shape: 1 1 1 }\n",
      "  {zero_padding: 0 0 0  pad_alignment: default filter_strides: 1 1 1  dilation_rates: 1 1 1 }\n",
      "  ... because it uses an identity activation.\n",
      "2023-02-10 14:06:49.758476: I tensorflow/compiler/xla/stream_executor/cuda/cuda_dnn.cc:5340] Disabling cuDNN frontend for the following convolution:\n",
      "  input: {count: 5 feature_map_count: 8 spatial: 1 1 1  value_min: 0.000000 value_max: 0.000000 layout: BatchDepthYX}\n",
      "  filter: {output_feature_map_count: 24 input_feature_map_count: 8 layout: OutputInputYX shape: 1 1 1 }\n",
      "  {zero_padding: 0 0 0  pad_alignment: default filter_strides: 1 1 1  dilation_rates: 1 1 1 }\n",
      "  ... because it uses an identity activation.\n",
      "2023-02-10 14:06:51.274147: I tensorflow/compiler/xla/stream_executor/cuda/cuda_dnn.cc:5340] Disabling cuDNN frontend for the following convolution:\n",
      "  input: {count: 5 feature_map_count: 80 spatial: 1 1 1  value_min: 0.000000 value_max: 0.000000 layout: BatchDepthYX}\n",
      "  filter: {output_feature_map_count: 24 input_feature_map_count: 80 layout: OutputInputYX shape: 1 1 1 }\n",
      "  {zero_padding: 0 0 0  pad_alignment: default filter_strides: 1 1 1  dilation_rates: 1 1 1 }\n",
      "  ... because it uses an identity activation.\n",
      "2023-02-10 14:06:51.295935: I tensorflow/compiler/xla/stream_executor/cuda/cuda_dnn.cc:5340] Disabling cuDNN frontend for the following convolution:\n",
      "  input: {count: 5 feature_map_count: 24 spatial: 1 1 1  value_min: 0.000000 value_max: 0.000000 layout: BatchDepthYX}\n",
      "  filter: {output_feature_map_count: 80 input_feature_map_count: 24 layout: OutputInputYX shape: 1 1 1 }\n",
      "  {zero_padding: 0 0 0  pad_alignment: default filter_strides: 1 1 1  dilation_rates: 1 1 1 }\n",
      "  ... because it uses an identity activation.\n",
      "2023-02-10 14:06:54.082723: I tensorflow/compiler/xla/stream_executor/cuda/cuda_dnn.cc:5340] Disabling cuDNN frontend for the following convolution:\n",
      "  input: {count: 5 feature_map_count: 184 spatial: 1 1 1  value_min: 0.000000 value_max: 0.000000 layout: BatchDepthYX}\n",
      "  filter: {output_feature_map_count: 48 input_feature_map_count: 184 layout: OutputInputYX shape: 1 1 1 }\n",
      "  {zero_padding: 0 0 0  pad_alignment: default filter_strides: 1 1 1  dilation_rates: 1 1 1 }\n",
      "  ... because it uses an identity activation.\n",
      "2023-02-10 14:06:54.106257: I tensorflow/compiler/xla/stream_executor/cuda/cuda_dnn.cc:5340] Disabling cuDNN frontend for the following convolution:\n",
      "  input: {count: 5 feature_map_count: 48 spatial: 1 1 1  value_min: 0.000000 value_max: 0.000000 layout: BatchDepthYX}\n",
      "  filter: {output_feature_map_count: 184 input_feature_map_count: 48 layout: OutputInputYX shape: 1 1 1 }\n",
      "  {zero_padding: 0 0 0  pad_alignment: default filter_strides: 1 1 1  dilation_rates: 1 1 1 }\n",
      "  ... because it uses an identity activation.\n",
      "2023-02-10 14:06:55.510669: I tensorflow/compiler/xla/stream_executor/cuda/cuda_dnn.cc:5340] Disabling cuDNN frontend for the following convolution:\n",
      "  input: {count: 5 feature_map_count: 112 spatial: 1 1 1  value_min: 0.000000 value_max: 0.000000 layout: BatchDepthYX}\n",
      "  filter: {output_feature_map_count: 32 input_feature_map_count: 112 layout: OutputInputYX shape: 1 1 1 }\n",
      "  {zero_padding: 0 0 0  pad_alignment: default filter_strides: 1 1 1  dilation_rates: 1 1 1 }\n",
      "  ... because it uses an identity activation.\n",
      "2023-02-10 14:06:55.531352: I tensorflow/compiler/xla/stream_executor/cuda/cuda_dnn.cc:5340] Disabling cuDNN frontend for the following convolution:\n",
      "  input: {count: 5 feature_map_count: 32 spatial: 1 1 1  value_min: 0.000000 value_max: 0.000000 layout: BatchDepthYX}\n",
      "  filter: {output_feature_map_count: 112 input_feature_map_count: 32 layout: OutputInputYX shape: 1 1 1 }\n",
      "  {zero_padding: 0 0 0  pad_alignment: default filter_strides: 1 1 1  dilation_rates: 1 1 1 }\n",
      "  ... because it uses an identity activation.\n",
      "2023-02-10 14:06:59.146633: I tensorflow/compiler/xla/stream_executor/cuda/cuda_dnn.cc:5340] Disabling cuDNN frontend for the following convolution:\n",
      "  input: {count: 5 feature_map_count: 384 spatial: 1 1 1  value_min: 0.000000 value_max: 0.000000 layout: BatchDepthYX}\n",
      "  filter: {output_feature_map_count: 96 input_feature_map_count: 384 layout: OutputInputYX shape: 1 1 1 }\n",
      "  {zero_padding: 0 0 0  pad_alignment: default filter_strides: 1 1 1  dilation_rates: 1 1 1 }\n",
      "  ... because it uses an identity activation.\n",
      "2023-02-10 14:06:59.170758: I tensorflow/compiler/xla/stream_executor/cuda/cuda_dnn.cc:5340] Disabling cuDNN frontend for the following convolution:\n",
      "  input: {count: 5 feature_map_count: 96 spatial: 1 1 1  value_min: 0.000000 value_max: 0.000000 layout: BatchDepthYX}\n",
      "  filter: {output_feature_map_count: 384 input_feature_map_count: 96 layout: OutputInputYX shape: 1 1 1 }\n",
      "  {zero_padding: 0 0 0  pad_alignment: default filter_strides: 1 1 1  dilation_rates: 1 1 1 }\n",
      "  ... because it uses an identity activation.\n",
      "2023-02-10 14:07:00.543593: I tensorflow/compiler/xla/stream_executor/cuda/cuda_dnn.cc:5340] Disabling cuDNN frontend for the following convolution:\n",
      "  input: {count: 5 feature_map_count: 280 spatial: 1 1 1  value_min: 0.000000 value_max: 0.000000 layout: BatchDepthYX}\n",
      "  filter: {output_feature_map_count: 72 input_feature_map_count: 280 layout: OutputInputYX shape: 1 1 1 }\n",
      "  {zero_padding: 0 0 0  pad_alignment: default filter_strides: 1 1 1  dilation_rates: 1 1 1 }\n",
      "  ... because it uses an identity activation.\n",
      "2023-02-10 14:07:00.564627: I tensorflow/compiler/xla/stream_executor/cuda/cuda_dnn.cc:5340] Disabling cuDNN frontend for the following convolution:\n",
      "  input: {count: 5 feature_map_count: 72 spatial: 1 1 1  value_min: 0.000000 value_max: 0.000000 layout: BatchDepthYX}\n",
      "  filter: {output_feature_map_count: 280 input_feature_map_count: 72 layout: OutputInputYX shape: 1 1 1 }\n",
      "  {zero_padding: 0 0 0  pad_alignment: default filter_strides: 1 1 1  dilation_rates: 1 1 1 }\n",
      "  ... because it uses an identity activation.\n",
      "2023-02-10 14:07:02.161392: I tensorflow/compiler/xla/stream_executor/cuda/cuda_dnn.cc:5340] Disabling cuDNN frontend for the following convolution:\n",
      "  input: {count: 5 feature_map_count: 344 spatial: 1 1 1  value_min: 0.000000 value_max: 0.000000 layout: BatchDepthYX}\n",
      "  filter: {output_feature_map_count: 88 input_feature_map_count: 344 layout: OutputInputYX shape: 1 1 1 }\n",
      "  {zero_padding: 0 0 0  pad_alignment: default filter_strides: 1 1 1  dilation_rates: 1 1 1 }\n",
      "  ... because it uses an identity activation.\n",
      "2023-02-10 14:07:02.177171: I tensorflow/compiler/xla/stream_executor/cuda/cuda_dnn.cc:5340] Disabling cuDNN frontend for the following convolution:\n",
      "  input: {count: 5 feature_map_count: 88 spatial: 1 1 1  value_min: 0.000000 value_max: 0.000000 layout: BatchDepthYX}\n",
      "  filter: {output_feature_map_count: 344 input_feature_map_count: 88 layout: OutputInputYX shape: 1 1 1 }\n",
      "  {zero_padding: 0 0 0  pad_alignment: default filter_strides: 1 1 1  dilation_rates: 1 1 1 }\n",
      "  ... because it uses an identity activation.\n"
     ]
    },
    {
     "name": "stdout",
     "output_type": "stream",
     "text": [
      "93/93 [==============================] - 1352s 14s/step - loss: 1.2498 - accuracy: 0.4582 - val_loss: 1.0636 - val_accuracy: 0.5570\n",
      "Epoch 2/20\n"
     ]
    },
    {
     "name": "stderr",
     "output_type": "stream",
     "text": [
      "2023-02-10 14:07:03.070294: I tensorflow/compiler/xla/stream_executor/cuda/cuda_dnn.cc:5340] Disabling cuDNN frontend for the following convolution:\n",
      "  input: {count: 5 feature_map_count: 480 spatial: 1 1 1  value_min: 0.000000 value_max: 0.000000 layout: BatchDepthYX}\n",
      "  filter: {output_feature_map_count: 2048 input_feature_map_count: 480 layout: OutputInputYX shape: 1 1 1 }\n",
      "  {zero_padding: 0 0 0  pad_alignment: default filter_strides: 1 1 1  dilation_rates: 1 1 1 }\n",
      "  ... because it uses an identity activation.\n"
     ]
    },
    {
     "name": "stdout",
     "output_type": "stream",
     "text": [
      "93/93 [==============================] - 1291s 14s/step - loss: 1.0162 - accuracy: 0.5585 - val_loss: 1.0143 - val_accuracy: 0.5634\n",
      "Epoch 3/20\n",
      "93/93 [==============================] - 1291s 14s/step - loss: 0.9130 - accuracy: 0.6156 - val_loss: 1.1487 - val_accuracy: 0.4624\n",
      "Epoch 4/20\n",
      "93/93 [==============================] - 1289s 14s/step - loss: 0.8883 - accuracy: 0.6146 - val_loss: 0.9275 - val_accuracy: 0.6086\n",
      "Epoch 5/20\n",
      "93/93 [==============================] - 1292s 14s/step - loss: 0.8291 - accuracy: 0.6464 - val_loss: 0.9705 - val_accuracy: 0.6065\n",
      "Epoch 6/20\n",
      "93/93 [==============================] - 1292s 14s/step - loss: 0.7620 - accuracy: 0.6814 - val_loss: 0.9264 - val_accuracy: 0.6215\n",
      "Epoch 7/20\n",
      "93/93 [==============================] - 1291s 14s/step - loss: 0.7307 - accuracy: 0.6981 - val_loss: 0.8696 - val_accuracy: 0.6473\n",
      "Epoch 8/20\n",
      "93/93 [==============================] - 1294s 14s/step - loss: 0.6854 - accuracy: 0.7164 - val_loss: 0.8632 - val_accuracy: 0.6602\n",
      "Epoch 9/20\n",
      "93/93 [==============================] - 1291s 14s/step - loss: 0.6584 - accuracy: 0.7439 - val_loss: 0.9272 - val_accuracy: 0.6667\n",
      "Epoch 10/20\n",
      "93/93 [==============================] - 1292s 14s/step - loss: 0.6430 - accuracy: 0.7412 - val_loss: 0.9466 - val_accuracy: 0.5806\n",
      "Epoch 11/20\n",
      "93/93 [==============================] - 1293s 14s/step - loss: 0.6213 - accuracy: 0.7547 - val_loss: 1.0264 - val_accuracy: 0.5699\n",
      "Epoch 12/20\n",
      "93/93 [==============================] - 1294s 14s/step - loss: 0.6020 - accuracy: 0.7504 - val_loss: 0.9350 - val_accuracy: 0.6086\n",
      "Epoch 13/20\n",
      "93/93 [==============================] - 1294s 14s/step - loss: 0.5941 - accuracy: 0.7628 - val_loss: 0.8903 - val_accuracy: 0.6516\n",
      "Epoch 14/20\n",
      "93/93 [==============================] - 1292s 14s/step - loss: 0.5667 - accuracy: 0.7725 - val_loss: 0.9263 - val_accuracy: 0.6409\n",
      "Epoch 15/20\n",
      "93/93 [==============================] - 1292s 14s/step - loss: 0.5272 - accuracy: 0.7903 - val_loss: 1.0031 - val_accuracy: 0.6430\n",
      "Epoch 16/20\n",
      "93/93 [==============================] - 1293s 14s/step - loss: 0.5030 - accuracy: 0.8075 - val_loss: 0.9534 - val_accuracy: 0.6473\n",
      "Epoch 17/20\n",
      "93/93 [==============================] - 1289s 14s/step - loss: 0.5107 - accuracy: 0.7930 - val_loss: 0.9324 - val_accuracy: 0.6366\n",
      "Epoch 18/20\n",
      "93/93 [==============================] - 1291s 14s/step - loss: 0.4826 - accuracy: 0.8102 - val_loss: 0.9186 - val_accuracy: 0.6452\n",
      "Epoch 19/20\n",
      "93/93 [==============================] - 1288s 14s/step - loss: 0.4545 - accuracy: 0.8221 - val_loss: 0.9276 - val_accuracy: 0.6774\n",
      "Epoch 20/20\n",
      "93/93 [==============================] - 1288s 14s/step - loss: 0.4444 - accuracy: 0.8216 - val_loss: 0.9431 - val_accuracy: 0.6344\n"
     ]
    }
   ],
   "source": [
    "results = model.fit(train_ds,\n",
    "                    validation_data=test_ds,\n",
    "                    epochs=num_epochs,\n",
    "                    validation_freq=1,\n",
    "                    verbose=1)"
   ]
  },
  {
   "cell_type": "markdown",
   "metadata": {
    "id": "KkLl2zF8G9W0"
   },
   "source": [
    "## Evaluate the model\n",
    "\n",
    "The model achieved high accuracy on the training dataset. Next, use Keras `Model.evaluate` to evaluate it on the test set."
   ]
  },
  {
   "cell_type": "code",
   "execution_count": 41,
   "metadata": {
    "execution": {
     "iopub.execute_input": "2022-12-19T02:24:28.664404Z",
     "iopub.status.busy": "2022-12-19T02:24:28.663733Z",
     "iopub.status.idle": "2022-12-19T02:24:47.835259Z",
     "shell.execute_reply": "2022-12-19T02:24:47.834532Z"
    },
    "id": "NqgbzOiKuxxT"
   },
   "outputs": [
    {
     "name": "stdout",
     "output_type": "stream",
     "text": [
      "24/24 [==============================] - 260s 11s/step - loss: 0.9431 - accuracy: 0.6344\n"
     ]
    },
    {
     "data": {
      "text/plain": [
       "{'loss': 0.943095862865448, 'accuracy': 0.6344085931777954}"
      ]
     },
     "execution_count": 41,
     "metadata": {},
     "output_type": "execute_result"
    }
   ],
   "source": [
    "model.evaluate(test_ds, return_dict=True)"
   ]
  },
  {
   "cell_type": "markdown",
   "metadata": {
    "id": "OkFst2gsHBwD"
   },
   "source": [
    "To visualize model performance further, use a [confusion matrix](https://www.tensorflow.org/api_docs/python/tf/math/confusion_matrix). The confusion matrix allows you to assess the performance of the classification model beyond accuracy. To build the confusion matrix for this multi-class classification problem, get the actual values in the test set and the predicted values."
   ]
  },
  {
   "cell_type": "code",
   "execution_count": 42,
   "metadata": {
    "execution": {
     "iopub.execute_input": "2022-12-19T02:24:47.838959Z",
     "iopub.status.busy": "2022-12-19T02:24:47.838314Z",
     "iopub.status.idle": "2022-12-19T02:24:47.842761Z",
     "shell.execute_reply": "2022-12-19T02:24:47.842057Z"
    },
    "id": "hssSdW9XHF_j"
   },
   "outputs": [],
   "source": [
    "def get_actual_predicted_labels(dataset):\n",
    "  \"\"\"\n",
    "    Create a list of actual ground truth values and the predictions from the model.\n",
    "\n",
    "    Args:\n",
    "      dataset: An iterable data structure, such as a TensorFlow Dataset, with features and labels.\n",
    "\n",
    "    Return:\n",
    "      Ground truth and predicted values for a particular dataset.\n",
    "  \"\"\"\n",
    "  actual = [labels for _, labels in dataset.unbatch()]\n",
    "  predicted = model.predict(dataset)\n",
    "\n",
    "  actual = tf.stack(actual, axis=0)\n",
    "  predicted = tf.concat(predicted, axis=0)\n",
    "  predicted = tf.argmax(predicted, axis=1)\n",
    "\n",
    "  return actual, predicted"
   ]
  },
  {
   "cell_type": "code",
   "execution_count": 43,
   "metadata": {
    "execution": {
     "iopub.execute_input": "2022-12-19T02:24:47.845921Z",
     "iopub.status.busy": "2022-12-19T02:24:47.845424Z",
     "iopub.status.idle": "2022-12-19T02:24:47.850323Z",
     "shell.execute_reply": "2022-12-19T02:24:47.849744Z"
    },
    "id": "2TmTue6THGWO"
   },
   "outputs": [],
   "source": [
    "def plot_confusion_matrix(actual, predicted, labels, ds_type):\n",
    "  cm = tf.math.confusion_matrix(actual, predicted)\n",
    "  ax = sns.heatmap(cm, annot=True, fmt='g')\n",
    "  sns.set(rc={'figure.figsize':(12, 12)})\n",
    "  sns.set(font_scale=1.4)\n",
    "  ax.set_title('Confusion matrix of action recognition for ' + ds_type)\n",
    "  ax.set_xlabel('Predicted Action')\n",
    "  ax.set_ylabel('Actual Action')\n",
    "  plt.xticks(rotation=90)\n",
    "  plt.yticks(rotation=0)\n",
    "  ax.xaxis.set_ticklabels(labels)\n",
    "  ax.yaxis.set_ticklabels(labels)"
   ]
  },
  {
   "cell_type": "code",
   "execution_count": 44,
   "metadata": {
    "execution": {
     "iopub.execute_input": "2022-12-19T02:24:47.853341Z",
     "iopub.status.busy": "2022-12-19T02:24:47.852794Z",
     "iopub.status.idle": "2022-12-19T02:24:47.856392Z",
     "shell.execute_reply": "2022-12-19T02:24:47.855827Z"
    },
    "id": "4RK1A1C1HH6V"
   },
   "outputs": [],
   "source": [
    "fg = FrameGenerator(Path(\"./output/train\"), num_frames, training = True)\n",
    "label_names = list(fg.class_ids_for_name.keys())"
   ]
  },
  {
   "cell_type": "code",
   "execution_count": 45,
   "metadata": {
    "execution": {
     "iopub.execute_input": "2022-12-19T02:24:47.859620Z",
     "iopub.status.busy": "2022-12-19T02:24:47.859020Z",
     "iopub.status.idle": "2022-12-19T02:25:30.159360Z",
     "shell.execute_reply": "2022-12-19T02:25:30.158717Z"
    },
    "id": "r4AFi2e5HKEO"
   },
   "outputs": [
    {
     "name": "stdout",
     "output_type": "stream",
     "text": [
      "24/24 [==============================] - 265s 11s/step\n"
     ]
    },
    {
     "data": {
      "image/png": "[encoded data removed]",
      "text/plain": [
       "<Figure size 864x864 with 2 Axes>"
      ]
     },
     "metadata": {},
     "output_type": "display_data"
    }
   ],
   "source": [
    "actual, predicted = get_actual_predicted_labels(test_ds)\n",
    "plot_confusion_matrix(actual, predicted, label_names, 'test')"
   ]
  },
  {
   "cell_type": "markdown",
   "metadata": {
    "id": "ddQG9sYxa1Ib"
   },
   "source": [
    "## Next steps\n",
    "\n",
    "Now that you have some familiarity with the MoViNet model and how to leverage various TensorFlow APIs (for example, for transfer learning), try using the code in this tutorial with your own dataset. The data does not have to be limited to video data. Volumetric data, such as MRI scans, can also be used with 3D CNNs. The NUSDAT and IMH datasets mentioned in [Brain MRI-based 3D Convolutional Neural Networks for Classification of Schizophrenia and Controls](https://arxiv.org/pdf/2003.08818.pdf) could be two such sources for MRI data.\n",
    "\n",
    "In particular, using the `FrameGenerator` class used in this tutorial and the other video data and classification tutorials will help you load data into your models.\n",
    "\n",
    "To learn more about working with video data in TensorFlow, check out the following tutorials:\n",
    "\n",
    "* [Load video data](https://www.tensorflow.org/tutorials/load_data/video)\n",
    "* [Build a 3D CNN model for video classification](https://www.tensorflow.org/tutorials/video/video_classification)\n",
    "* [MoViNet for streaming action recognition](https://www.tensorflow.org/hub/tutorials/movinet)"
   ]
  },
  {
   "cell_type": "code",
   "execution_count": null,
   "metadata": {},
   "outputs": [],
   "source": []
  }
 ],
 "metadata": {
  "accelerator": "GPU",
  "colab": {
   "name": "transfer_learning_with_movinet.ipynb",
   "provenance": [],
   "toc_visible": true
  },
  "kernelspec": {
   "display_name": "base",
   "language": "python",
   "name": "python3"
  },
  "language_info": {
   "codemirror_mode": {
    "name": "ipython",
    "version": 3
   },
   "file_extension": ".py",
   "mimetype": "text/x-python",
   "name": "python",
   "nbconvert_exporter": "python",
   "pygments_lexer": "ipython3",
   "version": "3.9.12"
  },
  "vscode": {
   "interpreter": {
    "hash": "f76be68d9c5d6e76a66d5315d11dc6a9ea46dedf1868770abac3c9563870c381"
   }
  }
 },
 "nbformat": 4,
 "nbformat_minor": 1
}
