{
 "cells": [
  {
   "cell_type": "markdown",
   "metadata": {},
   "source": []
  },
  {
   "cell_type": "code",
   "execution_count": 1,
   "metadata": {},
   "outputs": [],
   "source": [
    "%matplotlib inline \n",
    "\n",
    "import os\n",
    "from sklearn.decomposition import PCA\n",
    "import matplotlib.pyplot as plt\n",
    "import seaborn as sns\n",
    "import numpy as np\n",
    "import pandas as pd"
   ]
  },
  {
   "cell_type": "code",
   "execution_count": 2,
   "metadata": {},
   "outputs": [],
   "source": [
    "eng_levels = [0, 1]"
   ]
  },
  {
   "cell_type": "markdown",
   "metadata": {},
   "source": [
    "## Face Features"
   ]
  },
  {
   "cell_type": "code",
   "execution_count": 3,
   "metadata": {},
   "outputs": [],
   "source": [
    "person_name = \"yagmur\"\n",
    "base_dir = \"../face/features/%s\" % person_name\n",
    "labels_path = \"../scores/all_levels_binary.csv\""
   ]
  },
  {
   "cell_type": "code",
   "execution_count": 4,
   "metadata": {},
   "outputs": [],
   "source": [
    "labels = pd.read_csv(labels_path)[person_name]"
   ]
  },
  {
   "cell_type": "code",
   "execution_count": 5,
   "metadata": {},
   "outputs": [
    {
     "data": {
      "text/html": [
       "<div>\n",
       "<style scoped>\n",
       "    .dataframe tbody tr th:only-of-type {\n",
       "        vertical-align: middle;\n",
       "    }\n",
       "\n",
       "    .dataframe tbody tr th {\n",
       "        vertical-align: top;\n",
       "    }\n",
       "\n",
       "    .dataframe thead th {\n",
       "        text-align: right;\n",
       "    }\n",
       "</style>\n",
       "<table border=\"1\" class=\"dataframe\">\n",
       "  <thead>\n",
       "    <tr style=\"text-align: right;\">\n",
       "      <th></th>\n",
       "      <th>frame</th>\n",
       "      <th>face_id</th>\n",
       "      <th>timestamp</th>\n",
       "      <th>confidence</th>\n",
       "      <th>success</th>\n",
       "      <th>gaze_0_x</th>\n",
       "      <th>gaze_0_y</th>\n",
       "      <th>gaze_0_z</th>\n",
       "      <th>gaze_1_x</th>\n",
       "      <th>gaze_1_y</th>\n",
       "      <th>...</th>\n",
       "      <th>AU12_c</th>\n",
       "      <th>AU14_c</th>\n",
       "      <th>AU15_c</th>\n",
       "      <th>AU17_c</th>\n",
       "      <th>AU20_c</th>\n",
       "      <th>AU23_c</th>\n",
       "      <th>AU25_c</th>\n",
       "      <th>AU26_c</th>\n",
       "      <th>AU28_c</th>\n",
       "      <th>AU45_c</th>\n",
       "    </tr>\n",
       "  </thead>\n",
       "  <tbody>\n",
       "    <tr>\n",
       "      <th>0</th>\n",
       "      <td>1</td>\n",
       "      <td>0</td>\n",
       "      <td>0.0</td>\n",
       "      <td>0.98</td>\n",
       "      <td>1</td>\n",
       "      <td>0.309688</td>\n",
       "      <td>0.217516</td>\n",
       "      <td>-0.925624</td>\n",
       "      <td>-0.078749</td>\n",
       "      <td>0.124520</td>\n",
       "      <td>...</td>\n",
       "      <td>1.0</td>\n",
       "      <td>1.0</td>\n",
       "      <td>0.0</td>\n",
       "      <td>0.0</td>\n",
       "      <td>0.0</td>\n",
       "      <td>0.0</td>\n",
       "      <td>0.0</td>\n",
       "      <td>1.0</td>\n",
       "      <td>0.0</td>\n",
       "      <td>0.0</td>\n",
       "    </tr>\n",
       "    <tr>\n",
       "      <th>1</th>\n",
       "      <td>2</td>\n",
       "      <td>0</td>\n",
       "      <td>0.0</td>\n",
       "      <td>0.88</td>\n",
       "      <td>1</td>\n",
       "      <td>-0.744108</td>\n",
       "      <td>-0.003582</td>\n",
       "      <td>-0.668050</td>\n",
       "      <td>-0.731003</td>\n",
       "      <td>0.035917</td>\n",
       "      <td>...</td>\n",
       "      <td>0.0</td>\n",
       "      <td>0.0</td>\n",
       "      <td>0.0</td>\n",
       "      <td>1.0</td>\n",
       "      <td>1.0</td>\n",
       "      <td>0.0</td>\n",
       "      <td>0.0</td>\n",
       "      <td>0.0</td>\n",
       "      <td>0.0</td>\n",
       "      <td>0.0</td>\n",
       "    </tr>\n",
       "    <tr>\n",
       "      <th>2</th>\n",
       "      <td>3</td>\n",
       "      <td>0</td>\n",
       "      <td>0.0</td>\n",
       "      <td>0.98</td>\n",
       "      <td>1</td>\n",
       "      <td>-0.730967</td>\n",
       "      <td>-0.056477</td>\n",
       "      <td>-0.680072</td>\n",
       "      <td>-0.739313</td>\n",
       "      <td>-0.004669</td>\n",
       "      <td>...</td>\n",
       "      <td>0.0</td>\n",
       "      <td>1.0</td>\n",
       "      <td>0.0</td>\n",
       "      <td>1.0</td>\n",
       "      <td>0.0</td>\n",
       "      <td>0.0</td>\n",
       "      <td>1.0</td>\n",
       "      <td>1.0</td>\n",
       "      <td>0.0</td>\n",
       "      <td>0.0</td>\n",
       "    </tr>\n",
       "    <tr>\n",
       "      <th>3</th>\n",
       "      <td>4</td>\n",
       "      <td>0</td>\n",
       "      <td>0.0</td>\n",
       "      <td>0.98</td>\n",
       "      <td>1</td>\n",
       "      <td>-0.688489</td>\n",
       "      <td>-0.079700</td>\n",
       "      <td>-0.720854</td>\n",
       "      <td>-0.715481</td>\n",
       "      <td>0.028073</td>\n",
       "      <td>...</td>\n",
       "      <td>0.0</td>\n",
       "      <td>1.0</td>\n",
       "      <td>0.0</td>\n",
       "      <td>0.0</td>\n",
       "      <td>0.0</td>\n",
       "      <td>0.0</td>\n",
       "      <td>0.0</td>\n",
       "      <td>1.0</td>\n",
       "      <td>0.0</td>\n",
       "      <td>0.0</td>\n",
       "    </tr>\n",
       "    <tr>\n",
       "      <th>4</th>\n",
       "      <td>5</td>\n",
       "      <td>0</td>\n",
       "      <td>0.0</td>\n",
       "      <td>0.98</td>\n",
       "      <td>1</td>\n",
       "      <td>-0.623707</td>\n",
       "      <td>-0.017633</td>\n",
       "      <td>-0.781459</td>\n",
       "      <td>-0.733528</td>\n",
       "      <td>0.004099</td>\n",
       "      <td>...</td>\n",
       "      <td>0.0</td>\n",
       "      <td>1.0</td>\n",
       "      <td>1.0</td>\n",
       "      <td>0.0</td>\n",
       "      <td>0.0</td>\n",
       "      <td>0.0</td>\n",
       "      <td>0.0</td>\n",
       "      <td>1.0</td>\n",
       "      <td>0.0</td>\n",
       "      <td>0.0</td>\n",
       "    </tr>\n",
       "  </tbody>\n",
       "</table>\n",
       "<p>5 rows × 714 columns</p>\n",
       "</div>"
      ],
      "text/plain": [
       "   frame  face_id  timestamp  confidence  success  gaze_0_x  gaze_0_y  \\\n",
       "0      1        0        0.0        0.98        1  0.309688  0.217516   \n",
       "1      2        0        0.0        0.88        1 -0.744108 -0.003582   \n",
       "2      3        0        0.0        0.98        1 -0.730967 -0.056477   \n",
       "3      4        0        0.0        0.98        1 -0.688489 -0.079700   \n",
       "4      5        0        0.0        0.98        1 -0.623707 -0.017633   \n",
       "\n",
       "   gaze_0_z  gaze_1_x  gaze_1_y  ...  AU12_c  AU14_c  AU15_c  AU17_c  AU20_c  \\\n",
       "0 -0.925624 -0.078749  0.124520  ...     1.0     1.0     0.0     0.0     0.0   \n",
       "1 -0.668050 -0.731003  0.035917  ...     0.0     0.0     0.0     1.0     1.0   \n",
       "2 -0.680072 -0.739313 -0.004669  ...     0.0     1.0     0.0     1.0     0.0   \n",
       "3 -0.720854 -0.715481  0.028073  ...     0.0     1.0     0.0     0.0     0.0   \n",
       "4 -0.781459 -0.733528  0.004099  ...     0.0     1.0     1.0     0.0     0.0   \n",
       "\n",
       "   AU23_c  AU25_c  AU26_c  AU28_c  AU45_c  \n",
       "0     0.0     0.0     1.0     0.0     0.0  \n",
       "1     0.0     0.0     0.0     0.0     0.0  \n",
       "2     0.0     1.0     1.0     0.0     0.0  \n",
       "3     0.0     0.0     1.0     0.0     0.0  \n",
       "4     0.0     0.0     1.0     0.0     0.0  \n",
       "\n",
       "[5 rows x 714 columns]"
      ]
     },
     "execution_count": 5,
     "metadata": {},
     "output_type": "execute_result"
    }
   ],
   "source": [
    "# Load data\n",
    "df = pd.read_csv(os.path.join(base_dir, 'features.csv'))\n",
    "# Remove empty spaces in column names.\n",
    "df.columns = [col.replace(\" \", \"\") for col in df.columns]\n",
    "# Print few values of data.\n",
    "df.head()"
   ]
  },
  {
   "cell_type": "code",
   "execution_count": 6,
   "metadata": {},
   "outputs": [
    {
     "name": "stdout",
     "output_type": "stream",
     "text": [
      "6969 6969\n"
     ]
    }
   ],
   "source": [
    "print(len(df), len(labels))"
   ]
  },
  {
   "cell_type": "code",
   "execution_count": 7,
   "metadata": {},
   "outputs": [
    {
     "data": {
      "text/html": [
       "<div>\n",
       "<style scoped>\n",
       "    .dataframe tbody tr th:only-of-type {\n",
       "        vertical-align: middle;\n",
       "    }\n",
       "\n",
       "    .dataframe tbody tr th {\n",
       "        vertical-align: top;\n",
       "    }\n",
       "\n",
       "    .dataframe thead th {\n",
       "        text-align: right;\n",
       "    }\n",
       "</style>\n",
       "<table border=\"1\" class=\"dataframe\">\n",
       "  <thead>\n",
       "    <tr style=\"text-align: right;\">\n",
       "      <th></th>\n",
       "      <th>frame</th>\n",
       "      <th>face_id</th>\n",
       "      <th>timestamp</th>\n",
       "      <th>confidence</th>\n",
       "      <th>success</th>\n",
       "      <th>gaze_0_x</th>\n",
       "      <th>gaze_0_y</th>\n",
       "      <th>gaze_0_z</th>\n",
       "      <th>gaze_1_x</th>\n",
       "      <th>gaze_1_y</th>\n",
       "      <th>...</th>\n",
       "      <th>AU12_c</th>\n",
       "      <th>AU14_c</th>\n",
       "      <th>AU15_c</th>\n",
       "      <th>AU17_c</th>\n",
       "      <th>AU20_c</th>\n",
       "      <th>AU23_c</th>\n",
       "      <th>AU25_c</th>\n",
       "      <th>AU26_c</th>\n",
       "      <th>AU28_c</th>\n",
       "      <th>AU45_c</th>\n",
       "    </tr>\n",
       "  </thead>\n",
       "  <tbody>\n",
       "    <tr>\n",
       "      <th>count</th>\n",
       "      <td>6969.000000</td>\n",
       "      <td>6969.0</td>\n",
       "      <td>6969.0</td>\n",
       "      <td>6969.000000</td>\n",
       "      <td>6969.000000</td>\n",
       "      <td>6969.000000</td>\n",
       "      <td>6969.000000</td>\n",
       "      <td>6969.000000</td>\n",
       "      <td>6969.000000</td>\n",
       "      <td>6969.000000</td>\n",
       "      <td>...</td>\n",
       "      <td>6969.000000</td>\n",
       "      <td>6969.000000</td>\n",
       "      <td>6969.00000</td>\n",
       "      <td>6969.000000</td>\n",
       "      <td>6969.000000</td>\n",
       "      <td>6969.000000</td>\n",
       "      <td>6969.000000</td>\n",
       "      <td>6969.000000</td>\n",
       "      <td>6969.000000</td>\n",
       "      <td>6969.000000</td>\n",
       "    </tr>\n",
       "    <tr>\n",
       "      <th>mean</th>\n",
       "      <td>215.962548</td>\n",
       "      <td>0.0</td>\n",
       "      <td>0.0</td>\n",
       "      <td>0.766288</td>\n",
       "      <td>0.772421</td>\n",
       "      <td>0.130164</td>\n",
       "      <td>0.126324</td>\n",
       "      <td>-0.715448</td>\n",
       "      <td>-0.048672</td>\n",
       "      <td>0.084677</td>\n",
       "      <td>...</td>\n",
       "      <td>0.075477</td>\n",
       "      <td>0.303200</td>\n",
       "      <td>0.13474</td>\n",
       "      <td>0.187975</td>\n",
       "      <td>0.070024</td>\n",
       "      <td>0.114220</td>\n",
       "      <td>0.156263</td>\n",
       "      <td>0.084374</td>\n",
       "      <td>0.004448</td>\n",
       "      <td>0.093988</td>\n",
       "    </tr>\n",
       "    <tr>\n",
       "      <th>std</th>\n",
       "      <td>157.337614</td>\n",
       "      <td>0.0</td>\n",
       "      <td>0.0</td>\n",
       "      <td>0.362595</td>\n",
       "      <td>0.419300</td>\n",
       "      <td>0.215496</td>\n",
       "      <td>0.165907</td>\n",
       "      <td>0.392075</td>\n",
       "      <td>0.196111</td>\n",
       "      <td>0.131894</td>\n",
       "      <td>...</td>\n",
       "      <td>0.264179</td>\n",
       "      <td>0.459674</td>\n",
       "      <td>0.34147</td>\n",
       "      <td>0.390720</td>\n",
       "      <td>0.255206</td>\n",
       "      <td>0.318101</td>\n",
       "      <td>0.363131</td>\n",
       "      <td>0.277967</td>\n",
       "      <td>0.066552</td>\n",
       "      <td>0.291832</td>\n",
       "    </tr>\n",
       "    <tr>\n",
       "      <th>min</th>\n",
       "      <td>1.000000</td>\n",
       "      <td>0.0</td>\n",
       "      <td>0.0</td>\n",
       "      <td>0.000000</td>\n",
       "      <td>0.000000</td>\n",
       "      <td>-0.799789</td>\n",
       "      <td>-0.466460</td>\n",
       "      <td>-1.000000</td>\n",
       "      <td>-0.776111</td>\n",
       "      <td>-0.508339</td>\n",
       "      <td>...</td>\n",
       "      <td>0.000000</td>\n",
       "      <td>0.000000</td>\n",
       "      <td>0.00000</td>\n",
       "      <td>0.000000</td>\n",
       "      <td>0.000000</td>\n",
       "      <td>0.000000</td>\n",
       "      <td>0.000000</td>\n",
       "      <td>0.000000</td>\n",
       "      <td>0.000000</td>\n",
       "      <td>0.000000</td>\n",
       "    </tr>\n",
       "    <tr>\n",
       "      <th>25%</th>\n",
       "      <td>86.000000</td>\n",
       "      <td>0.0</td>\n",
       "      <td>0.0</td>\n",
       "      <td>0.880000</td>\n",
       "      <td>1.000000</td>\n",
       "      <td>0.000000</td>\n",
       "      <td>0.000000</td>\n",
       "      <td>-0.966496</td>\n",
       "      <td>-0.150220</td>\n",
       "      <td>0.000000</td>\n",
       "      <td>...</td>\n",
       "      <td>0.000000</td>\n",
       "      <td>0.000000</td>\n",
       "      <td>0.00000</td>\n",
       "      <td>0.000000</td>\n",
       "      <td>0.000000</td>\n",
       "      <td>0.000000</td>\n",
       "      <td>0.000000</td>\n",
       "      <td>0.000000</td>\n",
       "      <td>0.000000</td>\n",
       "      <td>0.000000</td>\n",
       "    </tr>\n",
       "    <tr>\n",
       "      <th>50%</th>\n",
       "      <td>182.000000</td>\n",
       "      <td>0.0</td>\n",
       "      <td>0.0</td>\n",
       "      <td>0.980000</td>\n",
       "      <td>1.000000</td>\n",
       "      <td>0.122265</td>\n",
       "      <td>0.122958</td>\n",
       "      <td>-0.913610</td>\n",
       "      <td>0.000000</td>\n",
       "      <td>0.075680</td>\n",
       "      <td>...</td>\n",
       "      <td>0.000000</td>\n",
       "      <td>0.000000</td>\n",
       "      <td>0.00000</td>\n",
       "      <td>0.000000</td>\n",
       "      <td>0.000000</td>\n",
       "      <td>0.000000</td>\n",
       "      <td>0.000000</td>\n",
       "      <td>0.000000</td>\n",
       "      <td>0.000000</td>\n",
       "      <td>0.000000</td>\n",
       "    </tr>\n",
       "    <tr>\n",
       "      <th>75%</th>\n",
       "      <td>327.000000</td>\n",
       "      <td>0.0</td>\n",
       "      <td>0.0</td>\n",
       "      <td>0.980000</td>\n",
       "      <td>1.000000</td>\n",
       "      <td>0.291115</td>\n",
       "      <td>0.257790</td>\n",
       "      <td>-0.789262</td>\n",
       "      <td>0.035816</td>\n",
       "      <td>0.183527</td>\n",
       "      <td>...</td>\n",
       "      <td>0.000000</td>\n",
       "      <td>1.000000</td>\n",
       "      <td>0.00000</td>\n",
       "      <td>0.000000</td>\n",
       "      <td>0.000000</td>\n",
       "      <td>0.000000</td>\n",
       "      <td>0.000000</td>\n",
       "      <td>0.000000</td>\n",
       "      <td>0.000000</td>\n",
       "      <td>0.000000</td>\n",
       "    </tr>\n",
       "    <tr>\n",
       "      <th>max</th>\n",
       "      <td>666.000000</td>\n",
       "      <td>0.0</td>\n",
       "      <td>0.0</td>\n",
       "      <td>0.980000</td>\n",
       "      <td>1.000000</td>\n",
       "      <td>0.847260</td>\n",
       "      <td>0.578685</td>\n",
       "      <td>0.000000</td>\n",
       "      <td>0.776535</td>\n",
       "      <td>0.501084</td>\n",
       "      <td>...</td>\n",
       "      <td>1.000000</td>\n",
       "      <td>1.000000</td>\n",
       "      <td>1.00000</td>\n",
       "      <td>1.000000</td>\n",
       "      <td>1.000000</td>\n",
       "      <td>1.000000</td>\n",
       "      <td>1.000000</td>\n",
       "      <td>1.000000</td>\n",
       "      <td>1.000000</td>\n",
       "      <td>1.000000</td>\n",
       "    </tr>\n",
       "  </tbody>\n",
       "</table>\n",
       "<p>8 rows × 714 columns</p>\n",
       "</div>"
      ],
      "text/plain": [
       "             frame  face_id  timestamp   confidence      success     gaze_0_x  \\\n",
       "count  6969.000000   6969.0     6969.0  6969.000000  6969.000000  6969.000000   \n",
       "mean    215.962548      0.0        0.0     0.766288     0.772421     0.130164   \n",
       "std     157.337614      0.0        0.0     0.362595     0.419300     0.215496   \n",
       "min       1.000000      0.0        0.0     0.000000     0.000000    -0.799789   \n",
       "25%      86.000000      0.0        0.0     0.880000     1.000000     0.000000   \n",
       "50%     182.000000      0.0        0.0     0.980000     1.000000     0.122265   \n",
       "75%     327.000000      0.0        0.0     0.980000     1.000000     0.291115   \n",
       "max     666.000000      0.0        0.0     0.980000     1.000000     0.847260   \n",
       "\n",
       "          gaze_0_y     gaze_0_z     gaze_1_x     gaze_1_y  ...       AU12_c  \\\n",
       "count  6969.000000  6969.000000  6969.000000  6969.000000  ...  6969.000000   \n",
       "mean      0.126324    -0.715448    -0.048672     0.084677  ...     0.075477   \n",
       "std       0.165907     0.392075     0.196111     0.131894  ...     0.264179   \n",
       "min      -0.466460    -1.000000    -0.776111    -0.508339  ...     0.000000   \n",
       "25%       0.000000    -0.966496    -0.150220     0.000000  ...     0.000000   \n",
       "50%       0.122958    -0.913610     0.000000     0.075680  ...     0.000000   \n",
       "75%       0.257790    -0.789262     0.035816     0.183527  ...     0.000000   \n",
       "max       0.578685     0.000000     0.776535     0.501084  ...     1.000000   \n",
       "\n",
       "            AU14_c      AU15_c       AU17_c       AU20_c       AU23_c  \\\n",
       "count  6969.000000  6969.00000  6969.000000  6969.000000  6969.000000   \n",
       "mean      0.303200     0.13474     0.187975     0.070024     0.114220   \n",
       "std       0.459674     0.34147     0.390720     0.255206     0.318101   \n",
       "min       0.000000     0.00000     0.000000     0.000000     0.000000   \n",
       "25%       0.000000     0.00000     0.000000     0.000000     0.000000   \n",
       "50%       0.000000     0.00000     0.000000     0.000000     0.000000   \n",
       "75%       1.000000     0.00000     0.000000     0.000000     0.000000   \n",
       "max       1.000000     1.00000     1.000000     1.000000     1.000000   \n",
       "\n",
       "            AU25_c       AU26_c       AU28_c       AU45_c  \n",
       "count  6969.000000  6969.000000  6969.000000  6969.000000  \n",
       "mean      0.156263     0.084374     0.004448     0.093988  \n",
       "std       0.363131     0.277967     0.066552     0.291832  \n",
       "min       0.000000     0.000000     0.000000     0.000000  \n",
       "25%       0.000000     0.000000     0.000000     0.000000  \n",
       "50%       0.000000     0.000000     0.000000     0.000000  \n",
       "75%       0.000000     0.000000     0.000000     0.000000  \n",
       "max       1.000000     1.000000     1.000000     1.000000  \n",
       "\n",
       "[8 rows x 714 columns]"
      ]
     },
     "execution_count": 7,
     "metadata": {},
     "output_type": "execute_result"
    }
   ],
   "source": [
    "df.describe()"
   ]
  },
  {
   "cell_type": "code",
   "execution_count": 8,
   "metadata": {},
   "outputs": [],
   "source": [
    "high_conf_ind = ~np.logical_or(df['confidence'] < 0.5, df['success'] == 0)\n",
    "\n",
    "df = df.loc[high_conf_ind]\n",
    "labels = labels.loc[high_conf_ind]"
   ]
  },
  {
   "cell_type": "code",
   "execution_count": 9,
   "metadata": {},
   "outputs": [
    {
     "name": "stdout",
     "output_type": "stream",
     "text": [
      "5381 5381\n"
     ]
    }
   ],
   "source": [
    "print(len(df), len(labels))"
   ]
  },
  {
   "cell_type": "code",
   "execution_count": 10,
   "metadata": {},
   "outputs": [
    {
     "data": {
      "text/plain": [
       "1    5176\n",
       "0     205\n",
       "Name: yagmur, dtype: int64"
      ]
     },
     "execution_count": 10,
     "metadata": {},
     "output_type": "execute_result"
    }
   ],
   "source": [
    "labels.value_counts()"
   ]
  },
  {
   "cell_type": "code",
   "execution_count": 11,
   "metadata": {},
   "outputs": [],
   "source": [
    "# Define Feature Series Ranges\n",
    "r_au_intensities = range(df.columns.get_loc(\"AU01_r\"), df.columns.get_loc(\"AU45_r\"))\n",
    "r_au_class = range(df.columns.get_loc(\"AU01_c\"), df.columns.get_loc(\"AU45_c\"))\n",
    "r_3d_eye_landmarks = range(df.columns.get_loc(\"eye_lmk_X_0\"), df.columns.get_loc(\"eye_lmk_Z_55\"))\n",
    "r_gaze_directions = range(df.columns.get_loc(\"gaze_0_x\"), df.columns.get_loc(\"gaze_angle_y\"))\n",
    "r_pose = range(df.columns.get_loc(\"pose_Tx\"), df.columns.get_loc(\"pose_Rz\"))\n",
    "r_3d_face_landmarks = range(df.columns.get_loc(\"X_0\"), df.columns.get_loc(\"Z_67\"))"
   ]
  },
  {
   "cell_type": "code",
   "execution_count": 12,
   "metadata": {},
   "outputs": [],
   "source": [
    "df_au_intensities = df.iloc[:, r_au_intensities]\n",
    "df_au_class = df.iloc[:, r_au_class]\n",
    "df_3d_eye_landmarks = df.iloc[:, r_3d_eye_landmarks]\n",
    "df_gaze_directions = df.iloc[:, r_gaze_directions]\n",
    "df_pose = df.iloc[:, r_pose]\n",
    "df_3d_face_landmarks = df.iloc[:, r_3d_face_landmarks]"
   ]
  },
  {
   "cell_type": "code",
   "execution_count": 13,
   "metadata": {},
   "outputs": [
    {
     "name": "stderr",
     "output_type": "stream",
     "text": [
      "C:\\Users\\ASABUNCUOGLU13\\AppData\\Local\\Temp\\ipykernel_18012\\819994795.py:1: SettingWithCopyWarning: \n",
      "A value is trying to be set on a copy of a slice from a DataFrame.\n",
      "Try using .loc[row_indexer,col_indexer] = value instead\n",
      "\n",
      "See the caveats in the documentation: https://pandas.pydata.org/pandas-docs/stable/user_guide/indexing.html#returning-a-view-versus-a-copy\n",
      "  df_au_intensities['label'] = labels.values\n",
      "C:\\Users\\ASABUNCUOGLU13\\AppData\\Local\\Temp\\ipykernel_18012\\819994795.py:2: SettingWithCopyWarning: \n",
      "A value is trying to be set on a copy of a slice from a DataFrame.\n",
      "Try using .loc[row_indexer,col_indexer] = value instead\n",
      "\n",
      "See the caveats in the documentation: https://pandas.pydata.org/pandas-docs/stable/user_guide/indexing.html#returning-a-view-versus-a-copy\n",
      "  df_au_class['label'] = labels.values\n",
      "C:\\Users\\ASABUNCUOGLU13\\AppData\\Local\\Temp\\ipykernel_18012\\819994795.py:3: SettingWithCopyWarning: \n",
      "A value is trying to be set on a copy of a slice from a DataFrame.\n",
      "Try using .loc[row_indexer,col_indexer] = value instead\n",
      "\n",
      "See the caveats in the documentation: https://pandas.pydata.org/pandas-docs/stable/user_guide/indexing.html#returning-a-view-versus-a-copy\n",
      "  df_3d_eye_landmarks['label'] = labels.values\n",
      "C:\\Users\\ASABUNCUOGLU13\\AppData\\Local\\Temp\\ipykernel_18012\\819994795.py:4: SettingWithCopyWarning: \n",
      "A value is trying to be set on a copy of a slice from a DataFrame.\n",
      "Try using .loc[row_indexer,col_indexer] = value instead\n",
      "\n",
      "See the caveats in the documentation: https://pandas.pydata.org/pandas-docs/stable/user_guide/indexing.html#returning-a-view-versus-a-copy\n",
      "  df_gaze_directions['label'] = labels.values\n",
      "C:\\Users\\ASABUNCUOGLU13\\AppData\\Local\\Temp\\ipykernel_18012\\819994795.py:5: SettingWithCopyWarning: \n",
      "A value is trying to be set on a copy of a slice from a DataFrame.\n",
      "Try using .loc[row_indexer,col_indexer] = value instead\n",
      "\n",
      "See the caveats in the documentation: https://pandas.pydata.org/pandas-docs/stable/user_guide/indexing.html#returning-a-view-versus-a-copy\n",
      "  df_pose['label'] = labels.values\n",
      "C:\\Users\\ASABUNCUOGLU13\\AppData\\Local\\Temp\\ipykernel_18012\\819994795.py:6: SettingWithCopyWarning: \n",
      "A value is trying to be set on a copy of a slice from a DataFrame.\n",
      "Try using .loc[row_indexer,col_indexer] = value instead\n",
      "\n",
      "See the caveats in the documentation: https://pandas.pydata.org/pandas-docs/stable/user_guide/indexing.html#returning-a-view-versus-a-copy\n",
      "  df_3d_face_landmarks['label'] = labels.values\n"
     ]
    }
   ],
   "source": [
    "df_au_intensities['label'] = labels.values\n",
    "df_au_class['label'] = labels.values\n",
    "df_3d_eye_landmarks['label'] = labels.values\n",
    "df_gaze_directions['label'] = labels.values\n",
    "df_pose['label'] = labels.values\n",
    "df_3d_face_landmarks['label'] = labels.values"
   ]
  },
  {
   "cell_type": "code",
   "execution_count": 14,
   "metadata": {},
   "outputs": [],
   "source": [
    "df_face_and_pose = pd.concat([df_3d_face_landmarks.iloc[:, :-1],\n",
    "df_pose],axis=1)\n",
    "\n",
    "df_all = pd.concat([df_3d_eye_landmarks.iloc[:, :-1], \n",
    "df_au_intensities.iloc[:, :-1],\n",
    "df_gaze_directions.iloc[:, :-1],\n",
    "df_3d_face_landmarks.iloc[:, :-1],\n",
    "df_pose],axis=1)\n",
    "\n",
    "\n",
    "feature_sets = {\n",
    "    \"AU Intensity\": df_au_intensities,\n",
    "    \"3D Eye Landmark\": df_3d_eye_landmarks,\n",
    "    \"3D Face Landmark\": df_3d_face_landmarks,\n",
    "    \"Gaze Directions\": df_gaze_directions,\n",
    "    \"Head Pose\": df_pose,\n",
    "    \"3D Face and Head Pose\": df_face_and_pose,\n",
    "    \"All OpenFace Fts\": df_all\n",
    "}"
   ]
  },
  {
   "cell_type": "code",
   "execution_count": 15,
   "metadata": {},
   "outputs": [],
   "source": [
    "from sklearn.preprocessing import StandardScaler\n",
    "from sklearn.model_selection import train_test_split\n",
    "from sklearn.neighbors import KNeighborsClassifier\n",
    "from sklearn.linear_model import LogisticRegression\n",
    "from sklearn.svm import SVC\n",
    "from sklearn.ensemble import AdaBoostClassifier\n",
    "from sklearn.ensemble import RandomForestClassifier, GradientBoostingClassifier\n",
    "from sklearn.decomposition import PCA\n",
    "from sklearn.pipeline import Pipeline\n",
    "from sklearn.model_selection import cross_val_score\n",
    "from sklearn.metrics import f1_score"
   ]
  },
  {
   "cell_type": "code",
   "execution_count": 16,
   "metadata": {},
   "outputs": [],
   "source": [
    "#!pip install git+https://github.com/christophM/rulefit.git\n",
    "from rulefit import RuleFit"
   ]
  },
  {
   "cell_type": "code",
   "execution_count": 17,
   "metadata": {},
   "outputs": [
    {
     "name": "stdout",
     "output_type": "stream",
     "text": [
      "RuleFit(max_iter=1000, model_type='r', n_jobs=-1, rfmode='classify',\n",
      "        tree_generator=GradientBoostingClassifier(learning_rate=0.01,\n",
      "                                                  max_depth=100,\n",
      "                                                  max_leaf_nodes=8,\n",
      "                                                  n_estimators=565,\n",
      "                                                  random_state=564,\n",
      "                                                  subsample=0.11469081487094829)) f1 0.9536517177833821\n",
      "RuleFit(max_iter=1000, model_type='r', n_jobs=-1, rfmode='classify',\n",
      "        tree_generator=GradientBoostingClassifier(learning_rate=0.01,\n",
      "                                                  max_depth=100,\n",
      "                                                  max_leaf_nodes=3,\n",
      "                                                  n_estimators=555,\n",
      "                                                  random_state=554,\n",
      "                                                  subsample=0.11469081487094829)) f1 0.9418720599171825\n",
      "RuleFit(max_iter=1000, model_type='r', n_jobs=-1, rfmode='classify',\n",
      "        tree_generator=GradientBoostingClassifier(learning_rate=0.01,\n",
      "                                                  max_depth=100,\n",
      "                                                  max_leaf_nodes=6,\n",
      "                                                  n_estimators=559,\n",
      "                                                  random_state=558,\n",
      "                                                  subsample=0.11469081487094829)) f1 0.9506059829805349\n",
      "RuleFit(max_iter=1000, model_type='r', n_jobs=-1, rfmode='classify',\n",
      "        tree_generator=GradientBoostingClassifier(learning_rate=0.01,\n",
      "                                                  max_depth=100,\n",
      "                                                  max_leaf_nodes=3,\n",
      "                                                  n_estimators=548,\n",
      "                                                  random_state=547,\n",
      "                                                  subsample=0.11469081487094829)) f1 0.9435081896662996\n",
      "RuleFit(max_iter=1000, model_type='r', n_jobs=-1, rfmode='classify',\n",
      "        tree_generator=GradientBoostingClassifier(learning_rate=0.01,\n",
      "                                                  max_depth=100,\n",
      "                                                  max_leaf_nodes=4,\n",
      "                                                  n_estimators=571,\n",
      "                                                  random_state=570,\n",
      "                                                  subsample=0.11469081487094829)) f1 0.9475060643816446\n",
      "RuleFit(max_iter=1000, model_type='r', n_jobs=-1, rfmode='classify',\n",
      "        tree_generator=GradientBoostingClassifier(learning_rate=0.01,\n",
      "                                                  max_depth=100,\n",
      "                                                  max_leaf_nodes=4,\n",
      "                                                  n_estimators=549,\n",
      "                                                  random_state=548,\n",
      "                                                  subsample=0.11469081487094829)) f1 0.9469428623909881\n",
      "RuleFit(max_iter=1000, model_type='r', n_jobs=-1, rfmode='classify',\n",
      "        tree_generator=GradientBoostingClassifier(learning_rate=0.01,\n",
      "                                                  max_depth=100,\n",
      "                                                  max_leaf_nodes=3,\n",
      "                                                  n_estimators=583,\n",
      "                                                  random_state=582,\n",
      "                                                  subsample=0.11469081487094829)) f1 0.9442806902594673\n"
     ]
    }
   ],
   "source": [
    "for title in feature_sets:\n",
    "    dfc = feature_sets[title]\n",
    "    not_zero_ind = ~(dfc == 0).all(axis=1)\n",
    "\n",
    "    dfc = dfc.loc[not_zero_ind]\n",
    "    labels = dfc['label'].loc[not_zero_ind]\n",
    "\n",
    "\n",
    "    scaler = StandardScaler()\n",
    "    scaled_samples = scaler.fit_transform(dfc.iloc[:,:-2])\n",
    "\n",
    "    X_train, X_test, y_train, y_test = train_test_split(scaled_samples, labels, test_size=0.2, random_state=42, stratify=labels)\n",
    "\n",
    "    features = dfc.columns\n",
    "\n",
    "    rf = RuleFit(model_type='r', rfmode='classify', max_iter=5000, n_jobs=-1) ## Classification task with only rule-based (not linear) with all CPUs\n",
    "    rf.fit(X_train, y_train, feature_names=features)\n",
    "    y_pred = rf.predict(X_test)\n",
    "    res = f1_score(y_test, y_pred, average='weighted')\n",
    "    print(rf, \"f1\", res)\n",
    "    rules = rf.get_rules()\n",
    "    rules = rules[rules.coef != 0].sort_values(\"support\", ascending=False)\n",
    "    rules.to_csv(\"reports/interpret/%s/rule-%s.csv\" % (person_name, title))"
   ]
  },
  {
   "cell_type": "code",
   "execution_count": 18,
   "metadata": {},
   "outputs": [],
   "source": [
    "\"\"\"\n",
    "pca = PCA()\n",
    "rf = RandomForestClassifier(n_estimators=100, n_jobs=-1)\n",
    "\n",
    "blackbox_model = Pipeline([('pca', pca), ('rf', rf)])\n",
    "\"\"\"\n",
    "blackbox_model = SVC(gamma=2, C=1, probability=True)"
   ]
  },
  {
   "cell_type": "code",
   "execution_count": 19,
   "metadata": {},
   "outputs": [],
   "source": [
    "from interpret import show\n",
    "from interpret.perf import ROC\n",
    "from interpret.blackbox import LimeTabular\n",
    "from interpret import show\n",
    "from interpret.blackbox import ShapKernel\n",
    "from interpret.blackbox import MorrisSensitivity\n",
    "from interpret.blackbox import PartialDependence\n",
    "from interpret.glassbox import ExplainableBoostingClassifier"
   ]
  },
  {
   "cell_type": "code",
   "execution_count": 20,
   "metadata": {},
   "outputs": [
    {
     "name": "stderr",
     "output_type": "stream",
     "text": [
      "c:\\Users\\ASABUNCUOGLU13\\Anaconda3\\lib\\site-packages\\interpret\\visual\\udash.py:5: UserWarning: \n",
      "The dash_html_components package is deprecated. Please replace\n",
      "`import dash_html_components as html` with `from dash import html`\n",
      "  import dash_html_components as html\n",
      "c:\\Users\\ASABUNCUOGLU13\\Anaconda3\\lib\\site-packages\\interpret\\visual\\udash.py:6: UserWarning: \n",
      "The dash_core_components package is deprecated. Please replace\n",
      "`import dash_core_components as dcc` with `from dash import dcc`\n",
      "  import dash_core_components as dcc\n",
      "c:\\Users\\ASABUNCUOGLU13\\Anaconda3\\lib\\site-packages\\interpret\\visual\\udash.py:7: UserWarning: \n",
      "The dash_table package is deprecated. Please replace\n",
      "`import dash_table` with `from dash import dash_table`\n",
      "\n",
      "Also, if you're using any of the table format helpers (e.g. Group), replace \n",
      "`from dash_table.Format import Group` with \n",
      "`from dash.dash_table.Format import Group`\n",
      "  import dash_table as dt\n"
     ]
    },
    {
     "data": {
      "text/html": [
       "<!-- http://127.0.0.1:7001/1612251818928/ -->\n",
       "<iframe src=\"http://127.0.0.1:7001/1612251818928/\" width=100% height=800 frameBorder=\"0\"></iframe>"
      ]
     },
     "metadata": {},
     "output_type": "display_data"
    },
    {
     "data": {
      "text/html": [
       "<!-- http://127.0.0.1:7001/1612251882448/ -->\n",
       "<iframe src=\"http://127.0.0.1:7001/1612251882448/\" width=100% height=800 frameBorder=\"0\"></iframe>"
      ]
     },
     "metadata": {},
     "output_type": "display_data"
    },
    {
     "data": {
      "text/html": [
       "<!-- http://127.0.0.1:7001/1612387444720/ -->\n",
       "<iframe src=\"http://127.0.0.1:7001/1612387444720/\" width=100% height=800 frameBorder=\"0\"></iframe>"
      ]
     },
     "metadata": {},
     "output_type": "display_data"
    },
    {
     "data": {
      "text/html": [
       "<!-- http://127.0.0.1:7001/1612249014768/ -->\n",
       "<iframe src=\"http://127.0.0.1:7001/1612249014768/\" width=100% height=800 frameBorder=\"0\"></iframe>"
      ]
     },
     "metadata": {},
     "output_type": "display_data"
    },
    {
     "data": {
      "text/html": [
       "<!-- http://127.0.0.1:7001/1612379401040/ -->\n",
       "<iframe src=\"http://127.0.0.1:7001/1612379401040/\" width=100% height=800 frameBorder=\"0\"></iframe>"
      ]
     },
     "metadata": {},
     "output_type": "display_data"
    },
    {
     "data": {
      "text/html": [
       "<!-- http://127.0.0.1:7001/1612379257248/ -->\n",
       "<iframe src=\"http://127.0.0.1:7001/1612379257248/\" width=100% height=800 frameBorder=\"0\"></iframe>"
      ]
     },
     "metadata": {},
     "output_type": "display_data"
    },
    {
     "data": {
      "text/html": [
       "<!-- http://127.0.0.1:7001/1612364637280/ -->\n",
       "<iframe src=\"http://127.0.0.1:7001/1612364637280/\" width=100% height=800 frameBorder=\"0\"></iframe>"
      ]
     },
     "metadata": {},
     "output_type": "display_data"
    }
   ],
   "source": [
    "for title in feature_sets:\n",
    "    ebm = ExplainableBoostingClassifier()\n",
    "    dfc = feature_sets[title]\n",
    "    not_zero_ind = ~(dfc == 0).all(axis=1)\n",
    "\n",
    "    dfc = dfc.loc[not_zero_ind]\n",
    "    labels = dfc['label'].loc[not_zero_ind]\n",
    "\n",
    "\n",
    "    scaler = StandardScaler()\n",
    "    scaled_samples = scaler.fit_transform(dfc.iloc[:,:-2])\n",
    "\n",
    "    X_train, X_test, y_train, y_test = train_test_split(scaled_samples, labels, test_size=0.2, random_state=42, stratify=labels)\n",
    "\n",
    "    ebm.fit(X_train, y_train)\n",
    "    ebm_global = ebm.explain_global()\n",
    "    show(ebm_global)"
   ]
  },
  {
   "cell_type": "code",
   "execution_count": 21,
   "metadata": {},
   "outputs": [
    {
     "data": {
      "text/html": [
       "<!-- http://127.0.0.1:7001/1610646855200/ -->\n",
       "<iframe src=\"http://127.0.0.1:7001/1610646855200/\" width=100% height=800 frameBorder=\"0\"></iframe>"
      ]
     },
     "metadata": {},
     "output_type": "display_data"
    },
    {
     "name": "stdout",
     "output_type": "stream",
     "text": [
      "zero-size array to reduction operation maximum which has no identity\n",
      "zero-size array to reduction operation maximum which has no identity\n"
     ]
    },
    {
     "data": {
      "text/html": [
       "<!-- http://127.0.0.1:7001/1612251586864/ -->\n",
       "<iframe src=\"http://127.0.0.1:7001/1612251586864/\" width=100% height=800 frameBorder=\"0\"></iframe>"
      ]
     },
     "metadata": {},
     "output_type": "display_data"
    },
    {
     "data": {
      "text/html": [
       "<!-- http://127.0.0.1:7001/1612379461856/ -->\n",
       "<iframe src=\"http://127.0.0.1:7001/1612379461856/\" width=100% height=800 frameBorder=\"0\"></iframe>"
      ]
     },
     "metadata": {},
     "output_type": "display_data"
    },
    {
     "name": "stdout",
     "output_type": "stream",
     "text": [
      "zero-size array to reduction operation maximum which has no identity\n",
      "zero-size array to reduction operation maximum which has no identity\n"
     ]
    }
   ],
   "source": [
    "for title in feature_sets:\n",
    "    dfc = feature_sets[title]\n",
    "    not_zero_ind = ~(dfc == 0).all(axis=1)\n",
    "\n",
    "    dfc = dfc.loc[not_zero_ind]\n",
    "    labels = dfc['label'].loc[not_zero_ind]\n",
    "\n",
    "    scaler = StandardScaler()\n",
    "    scaled_samples = scaler.fit_transform(dfc.iloc[:,:-2])\n",
    "\n",
    "    X_train, X_test, y_train, y_test = train_test_split(scaled_samples, labels, test_size=0.2, random_state=42, stratify=labels)\n",
    "\n",
    "    blackbox_model.fit(X_train, y_train)\n",
    "    try:\n",
    "        sensitivity = MorrisSensitivity(predict_fn=blackbox_model.predict_proba, data=X_train)\n",
    "        sensitivity_global = sensitivity.explain_global(name=\"Global Sensitivity\")\n",
    "\n",
    "        show(sensitivity_global)\n",
    "\n",
    "    except ValueError:\n",
    "        print(\"zero-size array to reduction operation maximum which has no identity\")"
   ]
  },
  {
   "cell_type": "code",
   "execution_count": null,
   "metadata": {},
   "outputs": [],
   "source": []
  }
 ],
 "metadata": {
  "kernelspec": {
   "display_name": "Python 3.9.12 ('base')",
   "language": "python",
   "name": "python3"
  },
  "language_info": {
   "codemirror_mode": {
    "name": "ipython",
    "version": 3
   },
   "file_extension": ".py",
   "mimetype": "text/x-python",
   "name": "python",
   "nbconvert_exporter": "python",
   "pygments_lexer": "ipython3",
   "version": "3.9.12"
  },
  "orig_nbformat": 4,
  "vscode": {
   "interpreter": {
    "hash": "f76be68d9c5d6e76a66d5315d11dc6a9ea46dedf1868770abac3c9563870c381"
   }
  }
 },
 "nbformat": 4,
 "nbformat_minor": 2
}
