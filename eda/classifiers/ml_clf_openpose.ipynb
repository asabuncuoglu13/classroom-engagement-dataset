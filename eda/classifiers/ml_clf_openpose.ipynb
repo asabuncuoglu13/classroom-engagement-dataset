{
 "cells": [
  {
   "cell_type": "markdown",
   "metadata": {},
   "source": []
  },
  {
   "cell_type": "code",
   "execution_count": null,
   "metadata": {},
   "outputs": [],
   "source": [
    "%matplotlib inline \n",
    "\n",
    "import os\n",
    "from sklearn.decomposition import PCA\n",
    "import matplotlib.pyplot as plt\n",
    "import seaborn as sns\n",
    "import numpy as np\n",
    "import pandas as pd"
   ]
  },
  {
   "cell_type": "code",
   "execution_count": null,
   "metadata": {},
   "outputs": [],
   "source": [
    "eng_levels = [-2, -1, 0, 1, 2, 3]"
   ]
  },
  {
   "cell_type": "markdown",
   "metadata": {},
   "source": [
    "## OpenPose Features"
   ]
  },
  {
   "cell_type": "code",
   "execution_count": null,
   "metadata": {},
   "outputs": [],
   "source": [
    "### !!!! Also test with kmeans featurizer !!! ###"
   ]
  },
  {
   "cell_type": "code",
   "execution_count": null,
   "metadata": {},
   "outputs": [],
   "source": [
    "base_dir = \"../pose-action/features/\""
   ]
  },
  {
   "cell_type": "code",
   "execution_count": null,
   "metadata": {},
   "outputs": [],
   "source": [
    "# Load data\n",
    "df = pd.read_csv(os.path.join(base_dir, 'pose_keypoints_with_labels.csv'))\n",
    "labels = df['label']\n",
    "#df = df.iloc[:,:-1]\n",
    "df.head()"
   ]
  },
  {
   "cell_type": "code",
   "execution_count": null,
   "metadata": {},
   "outputs": [],
   "source": [
    "# Define Feature Series Ranges\n",
    "r_p1 = range(0,75)\n",
    "r_p2 = range(75,149)\n",
    "r_p3 = range(150, 224)\n",
    "r_p4 = range(225,299)\n",
    "\n",
    "df_p1 = df.iloc[:, r_p1]\n",
    "df_p2 = df.iloc[:, r_p2]\n",
    "df_p3 = df.iloc[:, r_p3]\n",
    "df_p4 = df.iloc[:, r_p4]"
   ]
  },
  {
   "cell_type": "code",
   "execution_count": null,
   "metadata": {},
   "outputs": [],
   "source": [
    "df_p1['label'] = labels.values\n",
    "df_p2['label'] = labels.values\n",
    "df_p3['label'] = labels.values\n",
    "df_p4['label'] = labels.values"
   ]
  },
  {
   "cell_type": "code",
   "execution_count": null,
   "metadata": {},
   "outputs": [],
   "source": [
    "feature_sets = {\n",
    "    \"P1\": df_p1,\n",
    "    \"P2\": df_p2,\n",
    "    \"P3\": df_p3,\n",
    "    \"P4\": df_p4,\n",
    "    \"All Features\": df\n",
    "}"
   ]
  },
  {
   "cell_type": "code",
   "execution_count": null,
   "metadata": {},
   "outputs": [],
   "source": [
    "from sklearn.preprocessing import StandardScaler\n",
    "from sklearn.model_selection import train_test_split\n",
    "from sklearn.neighbors import KNeighborsClassifier\n",
    "from sklearn.linear_model import LogisticRegression\n",
    "from sklearn.neural_network import MLPClassifier\n",
    "from sklearn.svm import SVC\n",
    "from sklearn.ensemble import RandomForestClassifier, GradientBoostingClassifier\n",
    "from sklearn.model_selection import cross_val_score\n",
    "from sklearn.metrics import f1_score"
   ]
  },
  {
   "cell_type": "code",
   "execution_count": null,
   "metadata": {},
   "outputs": [],
   "source": [
    "classifier_names = ['LR', 'knn', 'rbf svm', 'random forest', 'boosted trees', 'mlp']\n",
    "classifiers = [LogisticRegression(random_state=42, solver=\"liblinear\"),\n",
    "                KNeighborsClassifier(n_neighbors=6),\n",
    "                SVC(gamma=2, C=1),\n",
    "                RandomForestClassifier(max_depth=5, n_estimators=10, max_features=1),\n",
    "                GradientBoostingClassifier(n_estimators=10, learning_rate=1, max_depth=5),\n",
    "                MLPClassifier(hidden_layer_sizes=(300, 50, 6), random_state=42, max_iter=300)]\n",
    "\n",
    "results = pd.DataFrame(columns= ['LR', 'knn', 'rbf svm', 'random forest', 'boosted trees', 'mlp', 'title'])\n",
    "\n",
    "for title in feature_sets:\n",
    "    s = [0, 0, 0, 0, 0, 0, \"title\"]\n",
    "    dfc = feature_sets[title]\n",
    "    not_zero_ind = ~(dfc == 0).all(axis=1)\n",
    "\n",
    "    dfc = dfc.loc[not_zero_ind]\n",
    "    labels = dfc['label'].loc[not_zero_ind]\n",
    "\n",
    "    not_nan_index = ~dfc.isna().any(axis=1)\n",
    "    dfc = dfc[not_nan_index]\n",
    "    labels = labels[not_nan_index]\n",
    "\n",
    "    scaler = StandardScaler()\n",
    "    scaled_samples = scaler.fit_transform(dfc.iloc[:,:-2])\n",
    "\n",
    "    X_train, X_test, y_train, y_test = train_test_split(scaled_samples, labels, test_size=0.2, random_state=42, stratify=labels)\n",
    "\n",
    "    i = 0\n",
    "    for model in classifiers:\n",
    "        model.fit(X_train, y_train)\n",
    "        y_pred = model.predict(X_test)\n",
    "        res = f1_score(y_test, y_pred, average='weighted')\n",
    "        print(title, model, res)\n",
    "        s[i] = res\n",
    "        i +=1\n",
    "    s[i] = title\n",
    "    results.loc[len(results.index)] = s\n",
    "    #results.head()"
   ]
  },
  {
   "cell_type": "code",
   "execution_count": null,
   "metadata": {},
   "outputs": [],
   "source": [
    "results.to_csv('reports/f1_scores_pose.csv')"
   ]
  },
  {
   "cell_type": "code",
   "execution_count": null,
   "metadata": {},
   "outputs": [],
   "source": [
    "from sklearn.model_selection import cross_val_score\n",
    "\n",
    "i = 0\n",
    "for model in classifiers: \n",
    "    scores = cross_val_score(model, scaled_samples, labels, cv=5)\n",
    "    print(\"cross val scores of scaled %s:\" % classifier_names[i], scores)\n",
    "    scores = cross_val_score(model, dfc.iloc[:,:-2], labels, cv=5)\n",
    "    print(\"cross val scores of %s:\" % classifier_names[i], scores)\n",
    "\n",
    "    i +=1"
   ]
  },
  {
   "cell_type": "code",
   "execution_count": null,
   "metadata": {},
   "outputs": [],
   "source": [
    "plt.figure()\n",
    "\n",
    "for c in classifier_names:\n",
    "    fpr, tpr = test_roc(y_test.values, y_pred)\n",
    "    plt.plot(fpr, tpr, label=c)\n",
    "\n",
    "plt.plot([0, 1], [0, 1], 'k--')\n",
    "plt.legend()"
   ]
  },
  {
   "cell_type": "code",
   "execution_count": null,
   "metadata": {},
   "outputs": [],
   "source": []
  }
 ],
 "metadata": {
  "kernelspec": {
   "display_name": "Python 3.9.12 ('base')",
   "language": "python",
   "name": "python3"
  },
  "language_info": {
   "codemirror_mode": {
    "name": "ipython",
    "version": 3
   },
   "file_extension": ".py",
   "mimetype": "text/x-python",
   "name": "python",
   "nbconvert_exporter": "python",
   "pygments_lexer": "ipython3",
   "version": "3.9.12"
  },
  "orig_nbformat": 4,
  "vscode": {
   "interpreter": {
    "hash": "f76be68d9c5d6e76a66d5315d11dc6a9ea46dedf1868770abac3c9563870c381"
   }
  }
 },
 "nbformat": 4,
 "nbformat_minor": 2
}
