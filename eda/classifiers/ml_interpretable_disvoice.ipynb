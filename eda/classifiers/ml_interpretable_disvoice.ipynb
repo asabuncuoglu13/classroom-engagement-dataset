{
 "cells": [
  {
   "cell_type": "markdown",
   "metadata": {},
   "source": []
  },
  {
   "cell_type": "code",
   "execution_count": 1,
   "metadata": {},
   "outputs": [],
   "source": [
    "%matplotlib inline \n",
    "\n",
    "import os\n",
    "from sklearn.decomposition import PCA\n",
    "import matplotlib.pyplot as plt\n",
    "import seaborn as sns\n",
    "import numpy as np\n",
    "import pandas as pd"
   ]
  },
  {
   "cell_type": "code",
   "execution_count": 2,
   "metadata": {},
   "outputs": [],
   "source": [
    "eng_levels = [0, 1]"
   ]
  },
  {
   "cell_type": "markdown",
   "metadata": {},
   "source": [
    "## Face Features"
   ]
  },
  {
   "cell_type": "code",
   "execution_count": 3,
   "metadata": {},
   "outputs": [],
   "source": [
    "base_dir = \"../sound/features/\""
   ]
  },
  {
   "cell_type": "code",
   "execution_count": 4,
   "metadata": {},
   "outputs": [
    {
     "data": {
      "text/html": [
       "<div>\n",
       "<style scoped>\n",
       "    .dataframe tbody tr th:only-of-type {\n",
       "        vertical-align: middle;\n",
       "    }\n",
       "\n",
       "    .dataframe tbody tr th {\n",
       "        vertical-align: top;\n",
       "    }\n",
       "\n",
       "    .dataframe thead th {\n",
       "        text-align: right;\n",
       "    }\n",
       "</style>\n",
       "<table border=\"1\" class=\"dataframe\">\n",
       "  <thead>\n",
       "    <tr style=\"text-align: right;\">\n",
       "      <th></th>\n",
       "      <th>F0avg</th>\n",
       "      <th>F0std</th>\n",
       "      <th>F0max</th>\n",
       "      <th>F0min</th>\n",
       "      <th>F0skew</th>\n",
       "      <th>F0kurt</th>\n",
       "      <th>F0tiltavg</th>\n",
       "      <th>F0mseavg</th>\n",
       "      <th>F0tiltstd</th>\n",
       "      <th>F0msestd</th>\n",
       "      <th>...</th>\n",
       "      <th>maxdurpause</th>\n",
       "      <th>mindurpause</th>\n",
       "      <th>PVU</th>\n",
       "      <th>PU</th>\n",
       "      <th>UVU</th>\n",
       "      <th>VVU</th>\n",
       "      <th>VP</th>\n",
       "      <th>UP</th>\n",
       "      <th>path</th>\n",
       "      <th>label</th>\n",
       "    </tr>\n",
       "  </thead>\n",
       "  <tbody>\n",
       "    <tr>\n",
       "      <th>0</th>\n",
       "      <td>107.251472</td>\n",
       "      <td>4.754879</td>\n",
       "      <td>112.142250</td>\n",
       "      <td>97.891090</td>\n",
       "      <td>-1.044098</td>\n",
       "      <td>-0.510219</td>\n",
       "      <td>38.107999</td>\n",
       "      <td>21.846451</td>\n",
       "      <td>0.000000</td>\n",
       "      <td>0.000000</td>\n",
       "      <td>...</td>\n",
       "      <td>0.00</td>\n",
       "      <td>0.00</td>\n",
       "      <td>0.000000</td>\n",
       "      <td>0.000000</td>\n",
       "      <td>0.000000</td>\n",
       "      <td>0.000000</td>\n",
       "      <td>0.000000</td>\n",
       "      <td>0.000000</td>\n",
       "      <td>C:\\Users\\ASABUNCUOGLU13\\Documents\\data\\vol02\\e...</td>\n",
       "      <td>0</td>\n",
       "    </tr>\n",
       "    <tr>\n",
       "      <th>1</th>\n",
       "      <td>107.249100</td>\n",
       "      <td>4.753147</td>\n",
       "      <td>112.142258</td>\n",
       "      <td>97.891144</td>\n",
       "      <td>-1.044382</td>\n",
       "      <td>-0.509233</td>\n",
       "      <td>38.172404</td>\n",
       "      <td>21.827407</td>\n",
       "      <td>0.000000</td>\n",
       "      <td>0.000000</td>\n",
       "      <td>...</td>\n",
       "      <td>0.00</td>\n",
       "      <td>0.00</td>\n",
       "      <td>0.000000</td>\n",
       "      <td>0.000000</td>\n",
       "      <td>0.000000</td>\n",
       "      <td>0.000000</td>\n",
       "      <td>0.000000</td>\n",
       "      <td>0.000000</td>\n",
       "      <td>C:\\Users\\ASABUNCUOGLU13\\Documents\\data\\vol02\\e...</td>\n",
       "      <td>0</td>\n",
       "    </tr>\n",
       "    <tr>\n",
       "      <th>2</th>\n",
       "      <td>114.073090</td>\n",
       "      <td>35.353394</td>\n",
       "      <td>238.759155</td>\n",
       "      <td>69.948997</td>\n",
       "      <td>1.999682</td>\n",
       "      <td>2.876741</td>\n",
       "      <td>-39.423164</td>\n",
       "      <td>100.290732</td>\n",
       "      <td>227.348111</td>\n",
       "      <td>195.716531</td>\n",
       "      <td>...</td>\n",
       "      <td>1.19</td>\n",
       "      <td>0.17</td>\n",
       "      <td>1.298283</td>\n",
       "      <td>3.626374</td>\n",
       "      <td>0.358011</td>\n",
       "      <td>0.641989</td>\n",
       "      <td>0.494490</td>\n",
       "      <td>0.275758</td>\n",
       "      <td>C:\\Users\\ASABUNCUOGLU13\\Documents\\data\\vol02\\e...</td>\n",
       "      <td>-1</td>\n",
       "    </tr>\n",
       "    <tr>\n",
       "      <th>3</th>\n",
       "      <td>131.886368</td>\n",
       "      <td>30.292049</td>\n",
       "      <td>241.647980</td>\n",
       "      <td>66.003014</td>\n",
       "      <td>0.802149</td>\n",
       "      <td>0.373328</td>\n",
       "      <td>-31.940573</td>\n",
       "      <td>135.096570</td>\n",
       "      <td>237.915601</td>\n",
       "      <td>177.521635</td>\n",
       "      <td>...</td>\n",
       "      <td>0.98</td>\n",
       "      <td>0.15</td>\n",
       "      <td>1.087145</td>\n",
       "      <td>4.711485</td>\n",
       "      <td>0.230744</td>\n",
       "      <td>0.769256</td>\n",
       "      <td>0.707593</td>\n",
       "      <td>0.212247</td>\n",
       "      <td>C:\\Users\\ASABUNCUOGLU13\\Documents\\data\\vol02\\e...</td>\n",
       "      <td>0</td>\n",
       "    </tr>\n",
       "    <tr>\n",
       "      <th>4</th>\n",
       "      <td>118.834885</td>\n",
       "      <td>20.374716</td>\n",
       "      <td>223.293121</td>\n",
       "      <td>66.754921</td>\n",
       "      <td>1.245751</td>\n",
       "      <td>3.671583</td>\n",
       "      <td>-79.806733</td>\n",
       "      <td>89.552508</td>\n",
       "      <td>227.226774</td>\n",
       "      <td>94.320115</td>\n",
       "      <td>...</td>\n",
       "      <td>0.93</td>\n",
       "      <td>0.16</td>\n",
       "      <td>1.166132</td>\n",
       "      <td>5.765267</td>\n",
       "      <td>0.202269</td>\n",
       "      <td>0.797731</td>\n",
       "      <td>0.684083</td>\n",
       "      <td>0.173452</td>\n",
       "      <td>C:\\Users\\ASABUNCUOGLU13\\Documents\\data\\vol02\\e...</td>\n",
       "      <td>1</td>\n",
       "    </tr>\n",
       "  </tbody>\n",
       "</table>\n",
       "<p>5 rows × 105 columns</p>\n",
       "</div>"
      ],
      "text/plain": [
       "        F0avg      F0std       F0max      F0min    F0skew    F0kurt  \\\n",
       "0  107.251472   4.754879  112.142250  97.891090 -1.044098 -0.510219   \n",
       "1  107.249100   4.753147  112.142258  97.891144 -1.044382 -0.509233   \n",
       "2  114.073090  35.353394  238.759155  69.948997  1.999682  2.876741   \n",
       "3  131.886368  30.292049  241.647980  66.003014  0.802149  0.373328   \n",
       "4  118.834885  20.374716  223.293121  66.754921  1.245751  3.671583   \n",
       "\n",
       "   F0tiltavg    F0mseavg   F0tiltstd    F0msestd  ...  maxdurpause  \\\n",
       "0  38.107999   21.846451    0.000000    0.000000  ...         0.00   \n",
       "1  38.172404   21.827407    0.000000    0.000000  ...         0.00   \n",
       "2 -39.423164  100.290732  227.348111  195.716531  ...         1.19   \n",
       "3 -31.940573  135.096570  237.915601  177.521635  ...         0.98   \n",
       "4 -79.806733   89.552508  227.226774   94.320115  ...         0.93   \n",
       "\n",
       "   mindurpause       PVU        PU       UVU       VVU        VP        UP  \\\n",
       "0         0.00  0.000000  0.000000  0.000000  0.000000  0.000000  0.000000   \n",
       "1         0.00  0.000000  0.000000  0.000000  0.000000  0.000000  0.000000   \n",
       "2         0.17  1.298283  3.626374  0.358011  0.641989  0.494490  0.275758   \n",
       "3         0.15  1.087145  4.711485  0.230744  0.769256  0.707593  0.212247   \n",
       "4         0.16  1.166132  5.765267  0.202269  0.797731  0.684083  0.173452   \n",
       "\n",
       "                                                path  label  \n",
       "0  C:\\Users\\ASABUNCUOGLU13\\Documents\\data\\vol02\\e...      0  \n",
       "1  C:\\Users\\ASABUNCUOGLU13\\Documents\\data\\vol02\\e...      0  \n",
       "2  C:\\Users\\ASABUNCUOGLU13\\Documents\\data\\vol02\\e...     -1  \n",
       "3  C:\\Users\\ASABUNCUOGLU13\\Documents\\data\\vol02\\e...      0  \n",
       "4  C:\\Users\\ASABUNCUOGLU13\\Documents\\data\\vol02\\e...      1  \n",
       "\n",
       "[5 rows x 105 columns]"
      ]
     },
     "execution_count": 4,
     "metadata": {},
     "output_type": "execute_result"
    }
   ],
   "source": [
    "# Load data\n",
    "df = pd.read_csv(os.path.join(base_dir, 'all.csv'))\n",
    "labels = (df['label'] <= 0).astype(int) #binarize labels\n",
    "df.head()"
   ]
  },
  {
   "cell_type": "code",
   "execution_count": 5,
   "metadata": {},
   "outputs": [
    {
     "name": "stdout",
     "output_type": "stream",
     "text": [
      "216 216\n"
     ]
    }
   ],
   "source": [
    "print(len(df), len(labels))"
   ]
  },
  {
   "cell_type": "code",
   "execution_count": 6,
   "metadata": {},
   "outputs": [
    {
     "data": {
      "text/plain": [
       "0    131\n",
       "1     85\n",
       "Name: label, dtype: int64"
      ]
     },
     "execution_count": 6,
     "metadata": {},
     "output_type": "execute_result"
    }
   ],
   "source": [
    "labels.value_counts()"
   ]
  },
  {
   "cell_type": "code",
   "execution_count": 19,
   "metadata": {},
   "outputs": [],
   "source": [
    "# Define Feature Series Ranges\n",
    "r_f0 = range(1,7)\n",
    "r_dur_voiced = range(80, 86)\n",
    "r_dur_unvoiced = range(86, 92)\n",
    "\n",
    "df_f0 = df.iloc[:, r_f0]\n",
    "df_dur_voiced = df.iloc[:, r_dur_voiced]\n",
    "df_dur_unvoiced = df.iloc[:, r_dur_unvoiced]\n",
    "#df_f0.to_csv(\"../sound/reduced/f0.tsv\", sep=\"\\t\", index=False)"
   ]
  },
  {
   "cell_type": "code",
   "execution_count": null,
   "metadata": {},
   "outputs": [],
   "source": [
    "df_f0['label'] = labels.values\n",
    "df_dur_voiced['label'] = labels.values\n",
    "df_dur_unvoiced['label'] = labels.values\n",
    "\n",
    "df = df.iloc[:, :-2]\n",
    "df['label'] = labels.values"
   ]
  },
  {
   "cell_type": "code",
   "execution_count": 23,
   "metadata": {},
   "outputs": [
    {
     "data": {
      "text/html": [
       "<div>\n",
       "<style scoped>\n",
       "    .dataframe tbody tr th:only-of-type {\n",
       "        vertical-align: middle;\n",
       "    }\n",
       "\n",
       "    .dataframe tbody tr th {\n",
       "        vertical-align: top;\n",
       "    }\n",
       "\n",
       "    .dataframe thead th {\n",
       "        text-align: right;\n",
       "    }\n",
       "</style>\n",
       "<table border=\"1\" class=\"dataframe\">\n",
       "  <thead>\n",
       "    <tr style=\"text-align: right;\">\n",
       "      <th></th>\n",
       "      <th>F0std</th>\n",
       "      <th>F0max</th>\n",
       "      <th>F0min</th>\n",
       "      <th>F0skew</th>\n",
       "      <th>F0kurt</th>\n",
       "      <th>F0tiltavg</th>\n",
       "    </tr>\n",
       "  </thead>\n",
       "  <tbody>\n",
       "    <tr>\n",
       "      <th>42</th>\n",
       "      <td>32.433376</td>\n",
       "      <td>231.657715</td>\n",
       "      <td>66.797943</td>\n",
       "      <td>1.016207</td>\n",
       "      <td>0.350995</td>\n",
       "      <td>-217.466816</td>\n",
       "    </tr>\n",
       "  </tbody>\n",
       "</table>\n",
       "</div>"
      ],
      "text/plain": [
       "        F0std       F0max      F0min    F0skew    F0kurt   F0tiltavg\n",
       "42  32.433376  231.657715  66.797943  1.016207  0.350995 -217.466816"
      ]
     },
     "execution_count": 23,
     "metadata": {},
     "output_type": "execute_result"
    }
   ],
   "source": [
    "df_f0.sample()"
   ]
  },
  {
   "cell_type": "code",
   "execution_count": 21,
   "metadata": {},
   "outputs": [
    {
     "data": {
      "text/html": [
       "<div>\n",
       "<style scoped>\n",
       "    .dataframe tbody tr th:only-of-type {\n",
       "        vertical-align: middle;\n",
       "    }\n",
       "\n",
       "    .dataframe tbody tr th {\n",
       "        vertical-align: top;\n",
       "    }\n",
       "\n",
       "    .dataframe thead th {\n",
       "        text-align: right;\n",
       "    }\n",
       "</style>\n",
       "<table border=\"1\" class=\"dataframe\">\n",
       "  <thead>\n",
       "    <tr style=\"text-align: right;\">\n",
       "      <th></th>\n",
       "      <th>stddurvoiced</th>\n",
       "      <th>skwdurvoiced</th>\n",
       "      <th>kurtosisdurvoiced</th>\n",
       "      <th>maxdurvoiced</th>\n",
       "      <th>mindurvoiced</th>\n",
       "      <th>avgdurunvoiced</th>\n",
       "    </tr>\n",
       "  </thead>\n",
       "  <tbody>\n",
       "    <tr>\n",
       "      <th>130</th>\n",
       "      <td>0.199038</td>\n",
       "      <td>1.408875</td>\n",
       "      <td>2.379309</td>\n",
       "      <td>1.02</td>\n",
       "      <td>0.02</td>\n",
       "      <td>0.073143</td>\n",
       "    </tr>\n",
       "  </tbody>\n",
       "</table>\n",
       "</div>"
      ],
      "text/plain": [
       "     stddurvoiced  skwdurvoiced  kurtosisdurvoiced  maxdurvoiced  \\\n",
       "130      0.199038      1.408875           2.379309          1.02   \n",
       "\n",
       "     mindurvoiced  avgdurunvoiced  \n",
       "130          0.02        0.073143  "
      ]
     },
     "execution_count": 21,
     "metadata": {},
     "output_type": "execute_result"
    }
   ],
   "source": [
    "df_dur_voiced.sample()"
   ]
  },
  {
   "cell_type": "code",
   "execution_count": 22,
   "metadata": {},
   "outputs": [
    {
     "data": {
      "text/html": [
       "<div>\n",
       "<style scoped>\n",
       "    .dataframe tbody tr th:only-of-type {\n",
       "        vertical-align: middle;\n",
       "    }\n",
       "\n",
       "    .dataframe tbody tr th {\n",
       "        vertical-align: top;\n",
       "    }\n",
       "\n",
       "    .dataframe thead th {\n",
       "        text-align: right;\n",
       "    }\n",
       "</style>\n",
       "<table border=\"1\" class=\"dataframe\">\n",
       "  <thead>\n",
       "    <tr style=\"text-align: right;\">\n",
       "      <th></th>\n",
       "      <th>stddurunvoiced</th>\n",
       "      <th>skwdurunvoiced</th>\n",
       "      <th>kurtosisdurunvoiced</th>\n",
       "      <th>maxdurunvoiced</th>\n",
       "      <th>mindurunvoiced</th>\n",
       "      <th>avgdurpause</th>\n",
       "    </tr>\n",
       "  </thead>\n",
       "  <tbody>\n",
       "    <tr>\n",
       "      <th>145</th>\n",
       "      <td>0.045</td>\n",
       "      <td>-1.487246e-16</td>\n",
       "      <td>-2.0</td>\n",
       "      <td>0.13</td>\n",
       "      <td>0.04</td>\n",
       "      <td>0.0</td>\n",
       "    </tr>\n",
       "  </tbody>\n",
       "</table>\n",
       "</div>"
      ],
      "text/plain": [
       "     stddurunvoiced  skwdurunvoiced  kurtosisdurunvoiced  maxdurunvoiced  \\\n",
       "145           0.045   -1.487246e-16                 -2.0            0.13   \n",
       "\n",
       "     mindurunvoiced  avgdurpause  \n",
       "145            0.04          0.0  "
      ]
     },
     "execution_count": 22,
     "metadata": {},
     "output_type": "execute_result"
    }
   ],
   "source": [
    "df_dur_unvoiced.sample()"
   ]
  },
  {
   "cell_type": "code",
   "execution_count": 9,
   "metadata": {},
   "outputs": [],
   "source": [
    "df_all = pd.concat([df_f0.iloc[:, :-1], \n",
    "df_dur_voiced.iloc[:, :-1],\n",
    "df_dur_unvoiced],axis=1)"
   ]
  },
  {
   "cell_type": "code",
   "execution_count": 10,
   "metadata": {},
   "outputs": [],
   "source": [
    "feature_sets = {\n",
    "    \"F0\": df_f0,\n",
    "    \"Duration of Voiced\": df_dur_voiced,\n",
    "    \"Duration of UnVoiced\": df_dur_unvoiced,\n",
    "    \"All Selected Features\": df_all,\n",
    "    \"All Features\": df\n",
    "}"
   ]
  },
  {
   "cell_type": "code",
   "execution_count": 11,
   "metadata": {},
   "outputs": [],
   "source": [
    "from sklearn.preprocessing import StandardScaler\n",
    "from sklearn.model_selection import train_test_split\n",
    "from sklearn.neighbors import KNeighborsClassifier\n",
    "from sklearn.linear_model import LogisticRegression\n",
    "from sklearn.svm import SVC\n",
    "from sklearn.ensemble import AdaBoostClassifier\n",
    "from sklearn.ensemble import RandomForestClassifier, GradientBoostingClassifier\n",
    "from sklearn.decomposition import PCA\n",
    "from sklearn.pipeline import Pipeline\n",
    "from sklearn.model_selection import cross_val_score\n",
    "from sklearn.metrics import f1_score"
   ]
  },
  {
   "cell_type": "code",
   "execution_count": 12,
   "metadata": {},
   "outputs": [],
   "source": [
    "#!pip install git+https://github.com/christophM/rulefit.git\n",
    "from rulefit import RuleFit"
   ]
  },
  {
   "cell_type": "code",
   "execution_count": 24,
   "metadata": {},
   "outputs": [
    {
     "name": "stdout",
     "output_type": "stream",
     "text": [
      "F0 f1 0.6607449154618966\n",
      "Duration of Voiced f1 0.7090844821491694\n",
      "Duration of UnVoiced f1 0.515696113898938\n",
      "All Selected Features f1 0.7116883116883116\n",
      "All Features f1 0.47729163929400437\n"
     ]
    }
   ],
   "source": [
    "for title in feature_sets:\n",
    "    dfc = feature_sets[title]\n",
    "    not_zero_ind = ~(dfc == 0).all(axis=1)\n",
    "\n",
    "    dfc = dfc.loc[not_zero_ind]\n",
    "    labels = dfc['label'].loc[not_zero_ind]\n",
    "\n",
    "    not_nan_index = ~dfc.isna().any(axis=1)\n",
    "    dfc = dfc[not_nan_index]\n",
    "    labels = labels[not_nan_index]\n",
    "    \n",
    "    scaler = StandardScaler()\n",
    "    scaled_samples = scaler.fit_transform(dfc.iloc[:,:-1])\n",
    "\n",
    "    X_train, X_test, y_train, y_test = train_test_split(scaled_samples, labels, test_size=0.2, random_state=42, stratify=labels)\n",
    "\n",
    "    features = dfc.columns\n",
    "\n",
    "    rf = RuleFit(model_type='r', rfmode='classify', max_iter=5000, n_jobs=-1) ## Classification task with only rule-based (not linear) with all CPUs\n",
    "    rf.fit(X_train, y_train, feature_names=features)\n",
    "    y_pred = rf.predict(X_test)\n",
    "    res = f1_score(y_test, y_pred, average='weighted')\n",
    "    print(title, \"f1\", res)\n",
    "    rules = rf.get_rules()\n",
    "    rules = rules[rules.coef != 0].sort_values(\"support\", ascending=False)\n",
    "    rules.to_csv(\"reports/interpret/pose/rule-%s.csv\" % title)"
   ]
  },
  {
   "cell_type": "code",
   "execution_count": 15,
   "metadata": {},
   "outputs": [],
   "source": [
    "\"\"\"\n",
    "pca = PCA()\n",
    "rf = RandomForestClassifier(n_estimators=100, n_jobs=-1)\n",
    "\n",
    "blackbox_model = Pipeline([('pca', pca), ('rf', rf)])\n",
    "\"\"\"\n",
    "blackbox_model = SVC(gamma=2, C=1, probability=True)"
   ]
  },
  {
   "cell_type": "code",
   "execution_count": 16,
   "metadata": {},
   "outputs": [],
   "source": [
    "from interpret import show\n",
    "from interpret.perf import ROC\n",
    "from interpret.blackbox import LimeTabular\n",
    "from interpret import show\n",
    "from interpret.blackbox import ShapKernel\n",
    "from interpret.blackbox import MorrisSensitivity\n",
    "from interpret.blackbox import PartialDependence\n",
    "from interpret.glassbox import ExplainableBoostingClassifier"
   ]
  },
  {
   "cell_type": "code",
   "execution_count": 17,
   "metadata": {},
   "outputs": [
    {
     "name": "stderr",
     "output_type": "stream",
     "text": [
      "c:\\Users\\ASABUNCUOGLU13\\Anaconda3\\lib\\site-packages\\interpret\\visual\\udash.py:5: UserWarning: \n",
      "The dash_html_components package is deprecated. Please replace\n",
      "`import dash_html_components as html` with `from dash import html`\n",
      "  import dash_html_components as html\n",
      "c:\\Users\\ASABUNCUOGLU13\\Anaconda3\\lib\\site-packages\\interpret\\visual\\udash.py:6: UserWarning: \n",
      "The dash_core_components package is deprecated. Please replace\n",
      "`import dash_core_components as dcc` with `from dash import dcc`\n",
      "  import dash_core_components as dcc\n",
      "c:\\Users\\ASABUNCUOGLU13\\Anaconda3\\lib\\site-packages\\interpret\\visual\\udash.py:7: UserWarning: \n",
      "The dash_table package is deprecated. Please replace\n",
      "`import dash_table` with `from dash import dash_table`\n",
      "\n",
      "Also, if you're using any of the table format helpers (e.g. Group), replace \n",
      "`from dash_table.Format import Group` with \n",
      "`from dash.dash_table.Format import Group`\n",
      "  import dash_table as dt\n"
     ]
    },
    {
     "data": {
      "text/html": [
       "<!-- http://127.0.0.1:7952/1911709836000/ -->\n",
       "<iframe src=\"http://127.0.0.1:7952/1911709836000/\" width=100% height=800 frameBorder=\"0\"></iframe>"
      ]
     },
     "metadata": {},
     "output_type": "display_data"
    },
    {
     "data": {
      "text/html": [
       "<!-- http://127.0.0.1:7952/1911709094432/ -->\n",
       "<iframe src=\"http://127.0.0.1:7952/1911709094432/\" width=100% height=800 frameBorder=\"0\"></iframe>"
      ]
     },
     "metadata": {},
     "output_type": "display_data"
    },
    {
     "data": {
      "text/html": [
       "<!-- http://127.0.0.1:7952/1911710704496/ -->\n",
       "<iframe src=\"http://127.0.0.1:7952/1911710704496/\" width=100% height=800 frameBorder=\"0\"></iframe>"
      ]
     },
     "metadata": {},
     "output_type": "display_data"
    },
    {
     "data": {
      "text/html": [
       "<!-- http://127.0.0.1:7952/1911710830704/ -->\n",
       "<iframe src=\"http://127.0.0.1:7952/1911710830704/\" width=100% height=800 frameBorder=\"0\"></iframe>"
      ]
     },
     "metadata": {},
     "output_type": "display_data"
    },
    {
     "data": {
      "text/html": [
       "<!-- http://127.0.0.1:7952/1911726148480/ -->\n",
       "<iframe src=\"http://127.0.0.1:7952/1911726148480/\" width=100% height=800 frameBorder=\"0\"></iframe>"
      ]
     },
     "metadata": {},
     "output_type": "display_data"
    }
   ],
   "source": [
    "for title in feature_sets:\n",
    "    ebm = ExplainableBoostingClassifier()\n",
    "    dfc = feature_sets[title]\n",
    "    not_zero_ind = ~(dfc == 0).all(axis=1)\n",
    "\n",
    "    dfc = dfc.loc[not_zero_ind]\n",
    "    labels = dfc['label'].loc[not_zero_ind]\n",
    "\n",
    "    not_nan_index = ~dfc.isna().any(axis=1)\n",
    "    dfc = dfc[not_nan_index]\n",
    "    labels = labels[not_nan_index]\n",
    "\n",
    "    scaler = StandardScaler()\n",
    "    scaled_samples = scaler.fit_transform(dfc.iloc[:,:-1])\n",
    "\n",
    "    X_train, X_test, y_train, y_test = train_test_split(scaled_samples, labels, test_size=0.2, random_state=42, stratify=labels)\n",
    "\n",
    "    ebm.fit(X_train, y_train)\n",
    "    ebm_global = ebm.explain_global()\n",
    "    show(ebm_global)"
   ]
  },
  {
   "cell_type": "code",
   "execution_count": 18,
   "metadata": {},
   "outputs": [
    {
     "data": {
      "text/html": [
       "<!-- http://127.0.0.1:7952/1911727105936/ -->\n",
       "<iframe src=\"http://127.0.0.1:7952/1911727105936/\" width=100% height=800 frameBorder=\"0\"></iframe>"
      ]
     },
     "metadata": {},
     "output_type": "display_data"
    },
    {
     "data": {
      "text/html": [
       "<!-- http://127.0.0.1:7952/1911754313488/ -->\n",
       "<iframe src=\"http://127.0.0.1:7952/1911754313488/\" width=100% height=800 frameBorder=\"0\"></iframe>"
      ]
     },
     "metadata": {},
     "output_type": "display_data"
    },
    {
     "data": {
      "text/html": [
       "<!-- http://127.0.0.1:7952/1911755684784/ -->\n",
       "<iframe src=\"http://127.0.0.1:7952/1911755684784/\" width=100% height=800 frameBorder=\"0\"></iframe>"
      ]
     },
     "metadata": {},
     "output_type": "display_data"
    },
    {
     "data": {
      "text/html": [
       "<!-- http://127.0.0.1:7952/1911634014752/ -->\n",
       "<iframe src=\"http://127.0.0.1:7952/1911634014752/\" width=100% height=800 frameBorder=\"0\"></iframe>"
      ]
     },
     "metadata": {},
     "output_type": "display_data"
    },
    {
     "name": "stdout",
     "output_type": "stream",
     "text": [
      "zero-size array to reduction operation maximum which has no identity\n"
     ]
    }
   ],
   "source": [
    "for title in feature_sets:\n",
    "    dfc = feature_sets[title]\n",
    "    not_zero_ind = ~(dfc == 0).all(axis=1)\n",
    "\n",
    "    dfc = dfc.loc[not_zero_ind]\n",
    "    labels = dfc['label'].loc[not_zero_ind]\n",
    "\n",
    "    not_nan_index = ~dfc.isna().any(axis=1)\n",
    "    dfc = dfc[not_nan_index]\n",
    "    labels = labels[not_nan_index]\n",
    "\n",
    "    scaler = StandardScaler()\n",
    "    scaled_samples = scaler.fit_transform(dfc.iloc[:,:-1])\n",
    "\n",
    "    X_train, X_test, y_train, y_test = train_test_split(scaled_samples, labels, test_size=0.2, random_state=42, stratify=labels)\n",
    "\n",
    "    blackbox_model.fit(X_train, y_train)\n",
    "    try:\n",
    "        sensitivity = MorrisSensitivity(predict_fn=blackbox_model.predict_proba, data=X_train)\n",
    "        sensitivity_global = sensitivity.explain_global(name=\"Global Sensitivity\")\n",
    "\n",
    "        show(sensitivity_global)\n",
    "\n",
    "    except ValueError:\n",
    "        print(\"zero-size array to reduction operation maximum which has no identity\")"
   ]
  },
  {
   "cell_type": "code",
   "execution_count": null,
   "metadata": {},
   "outputs": [],
   "source": []
  },
  {
   "cell_type": "code",
   "execution_count": null,
   "metadata": {},
   "outputs": [],
   "source": []
  }
 ],
 "metadata": {
  "kernelspec": {
   "display_name": "Python 3.9.12 ('base')",
   "language": "python",
   "name": "python3"
  },
  "language_info": {
   "codemirror_mode": {
    "name": "ipython",
    "version": 3
   },
   "file_extension": ".py",
   "mimetype": "text/x-python",
   "name": "python",
   "nbconvert_exporter": "python",
   "pygments_lexer": "ipython3",
   "version": "3.9.12"
  },
  "orig_nbformat": 4,
  "vscode": {
   "interpreter": {
    "hash": "f76be68d9c5d6e76a66d5315d11dc6a9ea46dedf1868770abac3c9563870c381"
   }
  }
 },
 "nbformat": 4,
 "nbformat_minor": 2
}
