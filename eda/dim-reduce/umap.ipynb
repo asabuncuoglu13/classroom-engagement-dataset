{
 "cells": [
  {
   "cell_type": "markdown",
   "metadata": {},
   "source": []
  },
  {
   "cell_type": "code",
   "execution_count": 4,
   "metadata": {},
   "outputs": [],
   "source": [
    "import os\n",
    "import umap\n",
    "from sklearn.preprocessing import StandardScaler\n",
    "import matplotlib.pyplot as plt\n",
    "import seaborn as sns\n",
    "import numpy as np\n",
    "import pandas as pd\n",
    "%matplotlib inline"
   ]
  },
  {
   "cell_type": "markdown",
   "metadata": {},
   "source": [
    "## Face Features"
   ]
  },
  {
   "cell_type": "code",
   "execution_count": 18,
   "metadata": {},
   "outputs": [],
   "source": [
    "base_dir = \"C:\\\\Users\\\\ASABUNCUOGLU13\\\\Documents\\\\data\\\\vol02\\\\td-slices-yagmur\\\\face-features\\\\\""
   ]
  },
  {
   "cell_type": "code",
   "execution_count": 19,
   "metadata": {},
   "outputs": [],
   "source": [
    "label = pd.read_csv(os.path.join(base_dir, 'label.tsv'), delimiter='\\t')"
   ]
  },
  {
   "cell_type": "code",
   "execution_count": 21,
   "metadata": {},
   "outputs": [
    {
     "data": {
      "text/html": [
       "<div>\n",
       "<style scoped>\n",
       "    .dataframe tbody tr th:only-of-type {\n",
       "        vertical-align: middle;\n",
       "    }\n",
       "\n",
       "    .dataframe tbody tr th {\n",
       "        vertical-align: top;\n",
       "    }\n",
       "\n",
       "    .dataframe thead th {\n",
       "        text-align: right;\n",
       "    }\n",
       "</style>\n",
       "<table border=\"1\" class=\"dataframe\">\n",
       "  <thead>\n",
       "    <tr style=\"text-align: right;\">\n",
       "      <th></th>\n",
       "      <th>0.98</th>\n",
       "      <th>1</th>\n",
       "      <th>0.309688</th>\n",
       "      <th>0.217516</th>\n",
       "      <th>-0.925624</th>\n",
       "      <th>-0.078749</th>\n",
       "      <th>0.12452</th>\n",
       "      <th>-0.989087</th>\n",
       "      <th>0.12</th>\n",
       "      <th>0.177</th>\n",
       "      <th>...</th>\n",
       "      <th>1.0.1</th>\n",
       "      <th>1.0.2</th>\n",
       "      <th>0.0.14</th>\n",
       "      <th>0.0.15</th>\n",
       "      <th>0.0.16</th>\n",
       "      <th>0.0.17</th>\n",
       "      <th>0.0.18</th>\n",
       "      <th>1.0.3</th>\n",
       "      <th>0.0.19</th>\n",
       "      <th>0.0.20</th>\n",
       "    </tr>\n",
       "  </thead>\n",
       "  <tbody>\n",
       "    <tr>\n",
       "      <th>0</th>\n",
       "      <td>0.88</td>\n",
       "      <td>1</td>\n",
       "      <td>-0.744108</td>\n",
       "      <td>-0.003582</td>\n",
       "      <td>-0.668050</td>\n",
       "      <td>-0.731003</td>\n",
       "      <td>0.035917</td>\n",
       "      <td>-0.681428</td>\n",
       "      <td>-0.830</td>\n",
       "      <td>0.024</td>\n",
       "      <td>...</td>\n",
       "      <td>0.0</td>\n",
       "      <td>0.0</td>\n",
       "      <td>0.0</td>\n",
       "      <td>1.0</td>\n",
       "      <td>1.0</td>\n",
       "      <td>0.0</td>\n",
       "      <td>0.0</td>\n",
       "      <td>0.0</td>\n",
       "      <td>0.0</td>\n",
       "      <td>0.0</td>\n",
       "    </tr>\n",
       "    <tr>\n",
       "      <th>1</th>\n",
       "      <td>0.98</td>\n",
       "      <td>1</td>\n",
       "      <td>-0.730967</td>\n",
       "      <td>-0.056477</td>\n",
       "      <td>-0.680072</td>\n",
       "      <td>-0.739313</td>\n",
       "      <td>-0.004669</td>\n",
       "      <td>-0.673346</td>\n",
       "      <td>-0.827</td>\n",
       "      <td>-0.045</td>\n",
       "      <td>...</td>\n",
       "      <td>0.0</td>\n",
       "      <td>1.0</td>\n",
       "      <td>0.0</td>\n",
       "      <td>1.0</td>\n",
       "      <td>0.0</td>\n",
       "      <td>0.0</td>\n",
       "      <td>1.0</td>\n",
       "      <td>1.0</td>\n",
       "      <td>0.0</td>\n",
       "      <td>0.0</td>\n",
       "    </tr>\n",
       "    <tr>\n",
       "      <th>2</th>\n",
       "      <td>0.98</td>\n",
       "      <td>1</td>\n",
       "      <td>-0.688489</td>\n",
       "      <td>-0.079700</td>\n",
       "      <td>-0.720854</td>\n",
       "      <td>-0.715481</td>\n",
       "      <td>0.028073</td>\n",
       "      <td>-0.698068</td>\n",
       "      <td>-0.780</td>\n",
       "      <td>-0.036</td>\n",
       "      <td>...</td>\n",
       "      <td>0.0</td>\n",
       "      <td>1.0</td>\n",
       "      <td>0.0</td>\n",
       "      <td>0.0</td>\n",
       "      <td>0.0</td>\n",
       "      <td>0.0</td>\n",
       "      <td>0.0</td>\n",
       "      <td>1.0</td>\n",
       "      <td>0.0</td>\n",
       "      <td>0.0</td>\n",
       "    </tr>\n",
       "    <tr>\n",
       "      <th>3</th>\n",
       "      <td>0.98</td>\n",
       "      <td>1</td>\n",
       "      <td>-0.623707</td>\n",
       "      <td>-0.017633</td>\n",
       "      <td>-0.781459</td>\n",
       "      <td>-0.733528</td>\n",
       "      <td>0.004099</td>\n",
       "      <td>-0.679647</td>\n",
       "      <td>-0.749</td>\n",
       "      <td>-0.009</td>\n",
       "      <td>...</td>\n",
       "      <td>0.0</td>\n",
       "      <td>1.0</td>\n",
       "      <td>1.0</td>\n",
       "      <td>0.0</td>\n",
       "      <td>0.0</td>\n",
       "      <td>0.0</td>\n",
       "      <td>0.0</td>\n",
       "      <td>1.0</td>\n",
       "      <td>0.0</td>\n",
       "      <td>0.0</td>\n",
       "    </tr>\n",
       "    <tr>\n",
       "      <th>4</th>\n",
       "      <td>0.98</td>\n",
       "      <td>1</td>\n",
       "      <td>-0.691410</td>\n",
       "      <td>-0.052980</td>\n",
       "      <td>-0.720518</td>\n",
       "      <td>-0.720669</td>\n",
       "      <td>0.017151</td>\n",
       "      <td>-0.693067</td>\n",
       "      <td>-0.785</td>\n",
       "      <td>-0.025</td>\n",
       "      <td>...</td>\n",
       "      <td>0.0</td>\n",
       "      <td>1.0</td>\n",
       "      <td>1.0</td>\n",
       "      <td>0.0</td>\n",
       "      <td>0.0</td>\n",
       "      <td>0.0</td>\n",
       "      <td>0.0</td>\n",
       "      <td>1.0</td>\n",
       "      <td>0.0</td>\n",
       "      <td>1.0</td>\n",
       "    </tr>\n",
       "  </tbody>\n",
       "</table>\n",
       "<p>5 rows × 711 columns</p>\n",
       "</div>"
      ],
      "text/plain": [
       "   0.98  1  0.309688  0.217516  -0.925624  -0.078749   0.12452  -0.989087  \\\n",
       "0  0.88  1 -0.744108 -0.003582  -0.668050  -0.731003  0.035917  -0.681428   \n",
       "1  0.98  1 -0.730967 -0.056477  -0.680072  -0.739313 -0.004669  -0.673346   \n",
       "2  0.98  1 -0.688489 -0.079700  -0.720854  -0.715481  0.028073  -0.698068   \n",
       "3  0.98  1 -0.623707 -0.017633  -0.781459  -0.733528  0.004099  -0.679647   \n",
       "4  0.98  1 -0.691410 -0.052980  -0.720518  -0.720669  0.017151  -0.693067   \n",
       "\n",
       "    0.12  0.177  ...  1.0.1  1.0.2  0.0.14  0.0.15  0.0.16  0.0.17  0.0.18  \\\n",
       "0 -0.830  0.024  ...    0.0    0.0     0.0     1.0     1.0     0.0     0.0   \n",
       "1 -0.827 -0.045  ...    0.0    1.0     0.0     1.0     0.0     0.0     1.0   \n",
       "2 -0.780 -0.036  ...    0.0    1.0     0.0     0.0     0.0     0.0     0.0   \n",
       "3 -0.749 -0.009  ...    0.0    1.0     1.0     0.0     0.0     0.0     0.0   \n",
       "4 -0.785 -0.025  ...    0.0    1.0     1.0     0.0     0.0     0.0     0.0   \n",
       "\n",
       "   1.0.3  0.0.19  0.0.20  \n",
       "0    0.0     0.0     0.0  \n",
       "1    1.0     0.0     0.0  \n",
       "2    1.0     0.0     0.0  \n",
       "3    1.0     0.0     0.0  \n",
       "4    1.0     0.0     1.0  \n",
       "\n",
       "[5 rows x 711 columns]"
      ]
     },
     "execution_count": 21,
     "metadata": {},
     "output_type": "execute_result"
    }
   ],
   "source": [
    "# Load data\n",
    "df = pd.read_csv(os.path.join(base_dir, 'features.tsv'), delimiter='\\t')\n",
    "# Remove empty spaces in column names.\n",
    "# df.columns = [col.replace(\" \", \"\") for col in df.columns]\n",
    "# Print few values of data.\n",
    "# print(f\"Max number of frames {df.frame.max()}\", f\"\\nTotal shape of dataframe {df.shape}\")\n",
    "df.head()"
   ]
  },
  {
   "cell_type": "markdown",
   "metadata": {},
   "source": [
    "## Prosodic Features"
   ]
  },
  {
   "cell_type": "code",
   "execution_count": 39,
   "metadata": {},
   "outputs": [],
   "source": [
    "base_dir = \"../sound/features/\""
   ]
  },
  {
   "cell_type": "code",
   "execution_count": 41,
   "metadata": {},
   "outputs": [
    {
     "data": {
      "text/html": [
       "<div>\n",
       "<style scoped>\n",
       "    .dataframe tbody tr th:only-of-type {\n",
       "        vertical-align: middle;\n",
       "    }\n",
       "\n",
       "    .dataframe tbody tr th {\n",
       "        vertical-align: top;\n",
       "    }\n",
       "\n",
       "    .dataframe thead th {\n",
       "        text-align: right;\n",
       "    }\n",
       "</style>\n",
       "<table border=\"1\" class=\"dataframe\">\n",
       "  <thead>\n",
       "    <tr style=\"text-align: right;\">\n",
       "      <th></th>\n",
       "      <th>0</th>\n",
       "      <th>1</th>\n",
       "      <th>2</th>\n",
       "      <th>3</th>\n",
       "      <th>4</th>\n",
       "      <th>5</th>\n",
       "      <th>6</th>\n",
       "      <th>7</th>\n",
       "      <th>8</th>\n",
       "      <th>9</th>\n",
       "      <th>...</th>\n",
       "      <th>93</th>\n",
       "      <th>94</th>\n",
       "      <th>95</th>\n",
       "      <th>96</th>\n",
       "      <th>97</th>\n",
       "      <th>98</th>\n",
       "      <th>99</th>\n",
       "      <th>100</th>\n",
       "      <th>101</th>\n",
       "      <th>102</th>\n",
       "    </tr>\n",
       "  </thead>\n",
       "  <tbody>\n",
       "    <tr>\n",
       "      <th>0</th>\n",
       "      <td>107.251472</td>\n",
       "      <td>4.754879</td>\n",
       "      <td>112.142250</td>\n",
       "      <td>97.891090</td>\n",
       "      <td>-1.044098</td>\n",
       "      <td>-0.510219</td>\n",
       "      <td>38.107999</td>\n",
       "      <td>21.846451</td>\n",
       "      <td>0.000000</td>\n",
       "      <td>0.000000</td>\n",
       "      <td>...</td>\n",
       "      <td>0.000000</td>\n",
       "      <td>0.000000</td>\n",
       "      <td>0.00</td>\n",
       "      <td>0.00</td>\n",
       "      <td>0.000000</td>\n",
       "      <td>0.000000</td>\n",
       "      <td>0.000000</td>\n",
       "      <td>0.000000</td>\n",
       "      <td>0.000000</td>\n",
       "      <td>0.000000</td>\n",
       "    </tr>\n",
       "    <tr>\n",
       "      <th>1</th>\n",
       "      <td>107.249100</td>\n",
       "      <td>4.753147</td>\n",
       "      <td>112.142258</td>\n",
       "      <td>97.891144</td>\n",
       "      <td>-1.044382</td>\n",
       "      <td>-0.509233</td>\n",
       "      <td>38.172404</td>\n",
       "      <td>21.827407</td>\n",
       "      <td>0.000000</td>\n",
       "      <td>0.000000</td>\n",
       "      <td>...</td>\n",
       "      <td>0.000000</td>\n",
       "      <td>0.000000</td>\n",
       "      <td>0.00</td>\n",
       "      <td>0.00</td>\n",
       "      <td>0.000000</td>\n",
       "      <td>0.000000</td>\n",
       "      <td>0.000000</td>\n",
       "      <td>0.000000</td>\n",
       "      <td>0.000000</td>\n",
       "      <td>0.000000</td>\n",
       "    </tr>\n",
       "    <tr>\n",
       "      <th>2</th>\n",
       "      <td>114.073090</td>\n",
       "      <td>35.353394</td>\n",
       "      <td>238.759155</td>\n",
       "      <td>69.948997</td>\n",
       "      <td>1.999682</td>\n",
       "      <td>2.876741</td>\n",
       "      <td>-39.423164</td>\n",
       "      <td>100.290732</td>\n",
       "      <td>227.348111</td>\n",
       "      <td>195.716531</td>\n",
       "      <td>...</td>\n",
       "      <td>2.515587</td>\n",
       "      <td>5.022648</td>\n",
       "      <td>1.19</td>\n",
       "      <td>0.17</td>\n",
       "      <td>1.298283</td>\n",
       "      <td>3.626374</td>\n",
       "      <td>0.358011</td>\n",
       "      <td>0.641989</td>\n",
       "      <td>0.494490</td>\n",
       "      <td>0.275758</td>\n",
       "    </tr>\n",
       "    <tr>\n",
       "      <th>3</th>\n",
       "      <td>131.886368</td>\n",
       "      <td>30.292049</td>\n",
       "      <td>241.647980</td>\n",
       "      <td>66.003014</td>\n",
       "      <td>0.802149</td>\n",
       "      <td>0.373328</td>\n",
       "      <td>-31.940573</td>\n",
       "      <td>135.096570</td>\n",
       "      <td>237.915601</td>\n",
       "      <td>177.521635</td>\n",
       "      <td>...</td>\n",
       "      <td>1.191537</td>\n",
       "      <td>0.907831</td>\n",
       "      <td>0.98</td>\n",
       "      <td>0.15</td>\n",
       "      <td>1.087145</td>\n",
       "      <td>4.711485</td>\n",
       "      <td>0.230744</td>\n",
       "      <td>0.769256</td>\n",
       "      <td>0.707593</td>\n",
       "      <td>0.212247</td>\n",
       "    </tr>\n",
       "    <tr>\n",
       "      <th>4</th>\n",
       "      <td>118.834885</td>\n",
       "      <td>20.374716</td>\n",
       "      <td>223.293121</td>\n",
       "      <td>66.754921</td>\n",
       "      <td>1.245751</td>\n",
       "      <td>3.671583</td>\n",
       "      <td>-79.806733</td>\n",
       "      <td>89.552508</td>\n",
       "      <td>227.226774</td>\n",
       "      <td>94.320115</td>\n",
       "      <td>...</td>\n",
       "      <td>1.153634</td>\n",
       "      <td>-0.331301</td>\n",
       "      <td>0.93</td>\n",
       "      <td>0.16</td>\n",
       "      <td>1.166132</td>\n",
       "      <td>5.765267</td>\n",
       "      <td>0.202269</td>\n",
       "      <td>0.797731</td>\n",
       "      <td>0.684083</td>\n",
       "      <td>0.173452</td>\n",
       "    </tr>\n",
       "  </tbody>\n",
       "</table>\n",
       "<p>5 rows × 103 columns</p>\n",
       "</div>"
      ],
      "text/plain": [
       "          0          1           2          3         4         5    \\\n",
       "0  107.251472   4.754879  112.142250  97.891090 -1.044098 -0.510219   \n",
       "1  107.249100   4.753147  112.142258  97.891144 -1.044382 -0.509233   \n",
       "2  114.073090  35.353394  238.759155  69.948997  1.999682  2.876741   \n",
       "3  131.886368  30.292049  241.647980  66.003014  0.802149  0.373328   \n",
       "4  118.834885  20.374716  223.293121  66.754921  1.245751  3.671583   \n",
       "\n",
       "         6           7           8           9    ...       93        94   \\\n",
       "0  38.107999   21.846451    0.000000    0.000000  ...  0.000000  0.000000   \n",
       "1  38.172404   21.827407    0.000000    0.000000  ...  0.000000  0.000000   \n",
       "2 -39.423164  100.290732  227.348111  195.716531  ...  2.515587  5.022648   \n",
       "3 -31.940573  135.096570  237.915601  177.521635  ...  1.191537  0.907831   \n",
       "4 -79.806733   89.552508  227.226774   94.320115  ...  1.153634 -0.331301   \n",
       "\n",
       "    95    96        97        98        99        100       101       102  \n",
       "0  0.00  0.00  0.000000  0.000000  0.000000  0.000000  0.000000  0.000000  \n",
       "1  0.00  0.00  0.000000  0.000000  0.000000  0.000000  0.000000  0.000000  \n",
       "2  1.19  0.17  1.298283  3.626374  0.358011  0.641989  0.494490  0.275758  \n",
       "3  0.98  0.15  1.087145  4.711485  0.230744  0.769256  0.707593  0.212247  \n",
       "4  0.93  0.16  1.166132  5.765267  0.202269  0.797731  0.684083  0.173452  \n",
       "\n",
       "[5 rows x 103 columns]"
      ]
     },
     "execution_count": 41,
     "metadata": {},
     "output_type": "execute_result"
    }
   ],
   "source": [
    "# Load data\n",
    "df = pd.read_csv(os.path.join(base_dir, 'all.tsv'), delimiter='\\t', header=None)\n",
    "df= df[~df.isin([np.nan, np.inf, -np.inf]).any(1)]\n",
    "label = df.iloc[:,-1]\n",
    "df = df.iloc[:,:-2]\n",
    "df.head()"
   ]
  },
  {
   "cell_type": "markdown",
   "metadata": {},
   "source": [
    "## Reduce with UMAP"
   ]
  },
  {
   "cell_type": "code",
   "execution_count": 42,
   "metadata": {},
   "outputs": [],
   "source": [
    "reducer = umap.UMAP()"
   ]
  },
  {
   "cell_type": "code",
   "execution_count": 44,
   "metadata": {},
   "outputs": [],
   "source": [
    "scaled_data = StandardScaler().fit_transform(df)"
   ]
  },
  {
   "cell_type": "code",
   "execution_count": 45,
   "metadata": {},
   "outputs": [
    {
     "data": {
      "text/plain": [
       "array([[-1.46266056, -2.52575847, -2.83027728, ..., -1.93779506,\n",
       "        -1.4971551 , -1.55299694],\n",
       "       [-1.46277962, -2.52589151, -2.83027713, ..., -1.93779506,\n",
       "        -1.4971551 , -1.55299694],\n",
       "       [-1.12036448, -0.1752414 , -0.36902597, ...,  0.0229504 ,\n",
       "        -0.37156559,  1.1432262 ],\n",
       "       ...,\n",
       "       [-0.35320608, -0.8846023 ,  1.00256587, ...,  0.5936451 ,\n",
       "         0.57561217,  0.28553245],\n",
       "       [ 0.1700398 ,  0.38339437,  1.42334371, ...,  0.66645282,\n",
       "         0.10598942, -0.36329328],\n",
       "       [-0.68670246, -0.16427711,  0.02150844, ...,  0.63959705,\n",
       "        -0.06052964, -0.41145995]])"
      ]
     },
     "execution_count": 45,
     "metadata": {},
     "output_type": "execute_result"
    }
   ],
   "source": [
    "scaled_data"
   ]
  },
  {
   "cell_type": "code",
   "execution_count": 46,
   "metadata": {},
   "outputs": [
    {
     "data": {
      "text/plain": [
       "(213, 2)"
      ]
     },
     "execution_count": 46,
     "metadata": {},
     "output_type": "execute_result"
    }
   ],
   "source": [
    "embedding = reducer.fit_transform(df)\n",
    "embedding.shape"
   ]
  },
  {
   "cell_type": "code",
   "execution_count": 47,
   "metadata": {},
   "outputs": [
    {
     "data": {
      "text/plain": [
       "Text(0.5, 1.0, 'UMAP projection of the Engagement Levels')"
      ]
     },
     "execution_count": 47,
     "metadata": {},
     "output_type": "execute_result"
    },
    {
     "data": {
      "image/png": "[encoded data removed]",
      "text/plain": [
       "<Figure size 432x288 with 1 Axes>"
      ]
     },
     "metadata": {
      "needs_background": "light"
     },
     "output_type": "display_data"
    }
   ],
   "source": [
    "plt.scatter(\n",
    "    embedding[:, 0],\n",
    "    embedding[:, 1],\n",
    "    c=[sns.color_palette()[x] for x in label.values.flatten()])\n",
    "plt.gca().set_aspect('equal', 'datalim')\n",
    "plt.title('UMAP projection of the Engagement Levels', fontsize=12)"
   ]
  },
  {
   "cell_type": "code",
   "execution_count": null,
   "metadata": {},
   "outputs": [],
   "source": []
  }
 ],
 "metadata": {
  "kernelspec": {
   "display_name": "Python 3.9.12 ('base')",
   "language": "python",
   "name": "python3"
  },
  "language_info": {
   "codemirror_mode": {
    "name": "ipython",
    "version": 3
   },
   "file_extension": ".py",
   "mimetype": "text/x-python",
   "name": "python",
   "nbconvert_exporter": "python",
   "pygments_lexer": "ipython3",
   "version": "3.9.12"
  },
  "orig_nbformat": 4,
  "vscode": {
   "interpreter": {
    "hash": "f76be68d9c5d6e76a66d5315d11dc6a9ea46dedf1868770abac3c9563870c381"
   }
  }
 },
 "nbformat": 4,
 "nbformat_minor": 2
}
