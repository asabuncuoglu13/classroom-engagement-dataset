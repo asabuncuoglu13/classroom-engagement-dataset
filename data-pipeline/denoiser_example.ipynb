{
  "cells": [
    {
      "cell_type": "code",
      "execution_count": null,
      "metadata": {
        "colab": {
          "base_uri": "https://localhost:8080/"
        },
        "id": "Zy_t6DRvor5H",
        "outputId": "fed4a062-983b-4f6b-ec2f-83faaed41445"
      },
      "outputs": [],
      "source": [
        "!pip install -U denoiser"
      ]
    },
    {
      "cell_type": "code",
      "execution_count": 6,
      "metadata": {
        "id": "u06gfJSqovq1"
      },
      "outputs": [],
      "source": [
        "from IPython import display as disp\n",
        "import torch\n",
        "import torchaudio\n",
        "from denoiser import pretrained\n",
        "from denoiser.dsp import convert_audio"
      ]
    },
    {
      "cell_type": "code",
      "execution_count": 7,
      "metadata": {
        "id": "E-OH-m0rrUPr"
      },
      "outputs": [],
      "source": [
        "torch.backends.cudnn.enabled = False"
      ]
    },
    {
      "cell_type": "code",
      "execution_count": null,
      "metadata": {
        "colab": {
          "base_uri": "https://localhost:8080/",
          "height": 443
        },
        "id": "6Tv9rk-CozbS",
        "outputId": "66c3cf87-a09d-4a08-a7de-c2a4545dc8a5"
      },
      "outputs": [],
      "source": [
        "model = pretrained.dns64().cuda()\n",
        "wav, sr = torchaudio.load('sample.mp3')\n",
        "wav = convert_audio(wav.cuda(), sr, model.sample_rate, model.chin)\n",
        "with torch.no_grad():\n",
        "    denoised = model(wav[None])[0]\n",
        "disp.display(disp.Audio(wav.data.cpu().numpy(), rate=model.sample_rate))\n",
        "disp.display(disp.Audio(denoised.data.cpu().numpy(), rate=model.sample_rate))"
      ]
    },
    {
      "cell_type": "code",
      "execution_count": null,
      "metadata": {
        "id": "sxX8jJ5vqArt"
      },
      "outputs": [],
      "source": []
    }
  ],
  "metadata": {
    "accelerator": "GPU",
    "colab": {
      "provenance": []
    },
    "gpuClass": "standard",
    "kernelspec": {
      "display_name": "Python 3",
      "name": "python3"
    },
    "language_info": {
      "codemirror_mode": {
        "name": "ipython",
        "version": 3
      },
      "file_extension": ".py",
      "mimetype": "text/x-python",
      "name": "python",
      "nbconvert_exporter": "python",
      "pygments_lexer": "ipython3",
      "version": "3.9.12"
    }
  },
  "nbformat": 4,
  "nbformat_minor": 0
}
