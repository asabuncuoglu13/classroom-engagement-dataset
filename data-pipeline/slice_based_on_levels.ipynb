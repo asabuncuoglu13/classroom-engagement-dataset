{
 "cells": [
  {
   "cell_type": "code",
   "execution_count": null,
   "metadata": {},
   "outputs": [],
   "source": [
    "import os\n",
    "import pandas as pd\n",
    "import numpy as np\n",
    "import glob"
   ]
  },
  {
   "cell_type": "code",
   "execution_count": null,
   "metadata": {},
   "outputs": [],
   "source": [
    "base_dir = \"C:\\\\Users\\\\ASABUNCUOGLU13\\\\Documents\\\\data\\\\vol08\\\\\"\n",
    "input_dir = \"C:\\\\Users\\\\ASABUNCUOGLU13\\\\Documents\\\\data\\\\vol08\\\\group\"\n",
    "scores_dir = \"..\\\\scores\\\\vol08\\\\group\\\\levels\"\n",
    "out_dir = \"C:\\\\Users\\\\ASABUNCUOGLU13\\\\Documents\\\\data\\\\vol08\\\\engagement-slices\"\n",
    "video_name = \"{}.mp4\"\n",
    "csv_name = \"list.csv\"\n",
    "\n",
    "engagement_levels = [\"-2\", \"-1\", \"0\", \"1\", \"2\"]"
   ]
  },
  {
   "cell_type": "code",
   "execution_count": null,
   "metadata": {},
   "outputs": [],
   "source": [
    "!mkdir {out_dir}\n",
    "for e in engagement_levels:\n",
    "    !mkdir {os.path.join(out_dir, e)}"
   ]
  },
  {
   "cell_type": "code",
   "execution_count": null,
   "metadata": {},
   "outputs": [],
   "source": [
    "def sec_convert(seconds):\n",
    "    seconds = seconds % (24 * 3600)\n",
    "    hour = seconds // 3600\n",
    "    seconds %= 3600\n",
    "    minutes = seconds // 60\n",
    "    seconds %= 60\n",
    "      \n",
    "    return \"%02d:%02d:%02d\" % (hour, minutes, seconds)"
   ]
  },
  {
   "cell_type": "code",
   "execution_count": null,
   "metadata": {},
   "outputs": [],
   "source": [
    "video_list = []"
   ]
  },
  {
   "cell_type": "code",
   "execution_count": null,
   "metadata": {},
   "outputs": [],
   "source": [
    "v = 0\n",
    "for t in range(len(glob.glob1(input_dir,\"*.mp4\"))):\n",
    "    print(t)\n",
    "    df = pd.read_csv(os.path.join(scores_dir, \"v%d.csv\" % t), sep=',')\n",
    "    df.head()\n",
    "\n",
    "    start_time = 0\n",
    "    i = 10\n",
    "    slices = []\n",
    "\n",
    "    for curr_level in df['group']:\n",
    "        next_level = df['group'][i]\n",
    "            \n",
    "        if(curr_level != next_level):\n",
    "            #print(start_time, curr_level)\n",
    "            slices.append([sec_convert(start_time), sec_convert(i), curr_level])\n",
    "            curr_level = next_level\n",
    "            start_time = i\n",
    "\n",
    "        if i < len(df['group'])-1:\n",
    "            i += 2\n",
    "\n",
    "    for slice in slices:\n",
    "        !ffmpeg -ss {slice[0]} -to {slice[1]} -i {input_dir + \"\\\\v\" + video_name.format(str(t))} -c copy {out_dir + \"\\\\\" + str(slice[2]) + \"\\\\\" + str(v)}.mp4 -hide_banner -loglevel error\n",
    "        !ffmpeg -i {out_dir + \"\\\\\" + str(slice[2]) + \"\\\\\" + str(v)}.mp4 -vn -acodec pcm_s16le -ar 44100 -ac 1 -af \"afftdn=nf=-25\" {out_dir + \"\\\\\" + str(slice[2]) + \"\\\\\" + str(v)}.wav -hide_banner -loglevel error\n",
    "        video_list.append([str(v) + '.mp4', slice[2]])\n",
    "        v += 1"
   ]
  },
  {
   "cell_type": "code",
   "execution_count": null,
   "metadata": {},
   "outputs": [],
   "source": [
    "df = pd.DataFrame (video_list, columns = ['video_name', 'tag'])"
   ]
  },
  {
   "cell_type": "code",
   "execution_count": null,
   "metadata": {},
   "outputs": [],
   "source": [
    "df['tag'] = df['tag'].map({-2: 'HD', -1:'D', 0:'M', 1: 'E', 2: 'HE'})"
   ]
  },
  {
   "cell_type": "code",
   "execution_count": null,
   "metadata": {},
   "outputs": [],
   "source": [
    "df.to_csv(os.path.join(out_dir, csv_name), index=False)"
   ]
  },
  {
   "cell_type": "code",
   "execution_count": null,
   "metadata": {},
   "outputs": [],
   "source": []
  }
 ],
 "metadata": {
  "kernelspec": {
   "display_name": "Python 3 (ipykernel)",
   "language": "python",
   "name": "python3"
  },
  "language_info": {
   "codemirror_mode": {
    "name": "ipython",
    "version": 3
   },
   "file_extension": ".py",
   "mimetype": "text/x-python",
   "name": "python",
   "nbconvert_exporter": "python",
   "pygments_lexer": "ipython3",
   "version": "3.9.12"
  },
  "vscode": {
   "interpreter": {
    "hash": "f76be68d9c5d6e76a66d5315d11dc6a9ea46dedf1868770abac3c9563870c381"
   }
  }
 },
 "nbformat": 4,
 "nbformat_minor": 2
}
