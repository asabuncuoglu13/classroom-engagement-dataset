{
 "cells": [
  {
   "cell_type": "code",
   "execution_count": 1,
   "metadata": {},
   "outputs": [],
   "source": [
    "base_dir = \"C:\\\\Users\\\\ASABUNCUOGLU13\\\\Documents\\\\data\\\\vol02\\\\\"\n",
    "video_name = \"face\\\\cansu-berk\\\\v1\"\n",
    "output_name = \"karton-slices-berk\\\\v1-350\"\n",
    "output_name_resize = \"karton-slices-yagmur\\\\v1\""
   ]
  },
  {
   "cell_type": "markdown",
   "metadata": {},
   "source": [
    "```\n",
    "ffmpeg -i in.mp4 -filter:v \"crop=out_w:out_h:x:y\" out.mp4\n",
    "```\n",
    "\n",
    "touch designer berk crop: x: 535, y: 150, w: 320, h:320\n",
    "\n",
    "touch designer cansu crop: x: 1170, y: 180, w: 360, h:360"
   ]
  },
  {
   "cell_type": "code",
   "execution_count": null,
   "metadata": {},
   "outputs": [],
   "source": [
    "!ffmpeg -i {base_dir + \"\\\\\" + video_name}.mp4 -filter:v \"crop=350:350:620:150\" -c:a copy {base_dir + \"\\\\\" + output_name}.mp4"
   ]
  },
  {
   "cell_type": "code",
   "execution_count": 2,
   "metadata": {},
   "outputs": [
    {
     "name": "stdout",
     "output_type": "stream",
     "text": [
      "^C\n"
     ]
    }
   ],
   "source": [
    "!ffmpeg -i {base_dir + \"\\\\\" + output_name}.mp4 -vf scale=\"320:320\" {base_dir + \"\\\\\" + output_name_resize}.mp4"
   ]
  },
  {
   "cell_type": "code",
   "execution_count": null,
   "metadata": {},
   "outputs": [],
   "source": [
    "!rm {base_dir + \"\\\\\" + output_name}"
   ]
  },
  {
   "cell_type": "code",
   "execution_count": null,
   "metadata": {},
   "outputs": [],
   "source": []
  }
 ],
 "metadata": {
  "kernelspec": {
   "display_name": "Python 3.9.12 ('base')",
   "language": "python",
   "name": "python3"
  },
  "language_info": {
   "codemirror_mode": {
    "name": "ipython",
    "version": 3
   },
   "file_extension": ".py",
   "mimetype": "text/x-python",
   "name": "python",
   "nbconvert_exporter": "python",
   "pygments_lexer": "ipython3",
   "version": "3.9.12"
  },
  "orig_nbformat": 4,
  "vscode": {
   "interpreter": {
    "hash": "f76be68d9c5d6e76a66d5315d11dc6a9ea46dedf1868770abac3c9563870c381"
   }
  }
 },
 "nbformat": 4,
 "nbformat_minor": 2
}
