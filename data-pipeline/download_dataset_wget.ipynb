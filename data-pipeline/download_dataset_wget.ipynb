{
 "cells": [
  {
   "cell_type": "markdown",
   "metadata": {},
   "source": [
    "# Download Youtube Videos"
   ]
  },
  {
   "cell_type": "code",
   "execution_count": null,
   "metadata": {},
   "outputs": [],
   "source": [
    "#!pip install youtube_dl"
   ]
  },
  {
   "cell_type": "code",
   "execution_count": null,
   "metadata": {},
   "outputs": [],
   "source": [
    "import os\n",
    "from pathlib import Path\n",
    "import pandas as pd"
   ]
  },
  {
   "cell_type": "code",
   "execution_count": null,
   "metadata": {},
   "outputs": [],
   "source": [
    "df = pd.read_csv(\"youtube_links_public.csv\")"
   ]
  },
  {
   "cell_type": "code",
   "execution_count": null,
   "metadata": {},
   "outputs": [],
   "source": [
    "df.head()"
   ]
  },
  {
   "cell_type": "code",
   "execution_count": null,
   "metadata": {},
   "outputs": [],
   "source": [
    "for f in df['Session'].unique():\n",
    "    !mkdir {f}\n",
    "    !mkdir {\"%s/frames\" % f}"
   ]
  },
  {
   "cell_type": "code",
   "execution_count": null,
   "metadata": {
    "scrolled": true
   },
   "outputs": [],
   "source": [
    "for i in range(len(df)):\n",
    "    !youtube-dl {df['Group Video Link'][i]} -o {\"./%s/%s.mp4\"  % (df['Session'][i], df['Video'][i])}"
   ]
  },
  {
   "cell_type": "markdown",
   "metadata": {},
   "source": [
    "# Create Frames"
   ]
  },
  {
   "cell_type": "code",
   "execution_count": null,
   "metadata": {},
   "outputs": [],
   "source": [
    "video_name = \"v%d.mp4\"\n",
    "output_name = \"f%d.png\"\n",
    "in_folder = \"./%d\"\n",
    "output_folder = \"./%d/frames/%d\"\n",
    "\n",
    "for i in [2,3,5,6]:\n",
    "    vidfiles = Path(in_folder % i).glob('*.mp4')\n",
    "    ind = 0\n",
    "    for f in vidfiles:\n",
    "        !mkdir {output_folder % (i, ind)}\n",
    "        !ffmpeg -i {f} -vf fps=1 {os.path.join(output_folder % (i, ind), output_name)}\n",
    "        ind = ind + 1"
   ]
  },
  {
   "cell_type": "markdown",
   "metadata": {},
   "source": [
    "# Download Centered Face Frames"
   ]
  },
  {
   "cell_type": "code",
   "execution_count": null,
   "metadata": {},
   "outputs": [],
   "source": [
    "download_gdrive = \"wget --load-cookies /tmp/cookies.txt \\\"https://docs.google.com/uc?export=download&confirm=$(wget --quiet --save-cookies /tmp/cookies.txt --keep-session-cookies --no-check-certificate 'https://docs.google.com/uc?export=download&id={}' -O- | sed -rn 's/.*confirm=([0-9A-Za-z_]+).*/\\1\\n/p')&id={}\\\" -O {} && rm -rf /tmp/cookies.txt\""
   ]
  },
  {
   "cell_type": "code",
   "execution_count": null,
   "metadata": {},
   "outputs": [],
   "source": [
    "download_gdrive.format(\"1QWhBsqkg4-bahUlsk6UOyqZo6chWZFM5\", \"1QWhBsqkg4-bahUlsk6UOyqZo6chWZFM5\", \"./2/engagement-slices.zip\")"
   ]
  },
  {
   "cell_type": "code",
   "execution_count": null,
   "metadata": {},
   "outputs": [],
   "source": [
    "!{download_gdrive.format(\"1QWhBsqkg4-bahUlsk6UOyqZo6chWZFM5\", \"1QWhBsqkg4-bahUlsk6UOyqZo6chWZFM5\", \"./2/face-center.zip\")}\n",
    "!{download_gdrive.format(\"1vVNOuP59g4fy3ISS-cN-c44TsO-6cD85\", \"1vVNOuP59g4fy3ISS-cN-c44TsO-6cD85\", \"./3/face-center.zip\")}\n",
    "## 4 is deleted due to preserving participant privacy\n",
    "!{download_gdrive.format(\"1OddNJwPjS_ST1lmqxqdWA9ETONfBUttA\", \"1OddNJwPjS_ST1lmqxqdWA9ETONfBUttA\", \"./5/face-center.zip\")}\n",
    "!{download_gdrive.format(\"1cCg9TZDw5dmA_x0oTjyN2IJVTZyfBckJ\", \"1cCg9TZDw5dmA_x0oTjyN2IJVTZyfBckJ\", \"./6/face-center.zip\")}\n",
    "## 7 is deleted due to preserving participant privacy\n",
    "## 8 is deleted due to preserving participant privacy"
   ]
  },
  {
   "cell_type": "code",
   "execution_count": null,
   "metadata": {},
   "outputs": [],
   "source": [
    "!unzip ./2/face-center.zip -d ./2\n",
    "!rm ./2/face-center.zip\n",
    "\n",
    "!unzip ./3/face-center.zip -d ./3\n",
    "!rm ./3/face-center.zip\n",
    "\n",
    "!unzip ./5/face-center.zip -d ./5\n",
    "!rm ./5/face-center.zip\n",
    "\n",
    "!unzip ./6/face-center.zip -d ./6\n",
    "!rm ./6/face-center.zip"
   ]
  },
  {
   "cell_type": "markdown",
   "metadata": {},
   "source": [
    "# Download Engagement Slices"
   ]
  },
  {
   "cell_type": "code",
   "execution_count": null,
   "metadata": {},
   "outputs": [],
   "source": [
    "!{download_gdrive.format(\"1QWhBsqkg4-bahUlsk6UOyqZo6chWZFM5\", \"1QWhBsqkg4-bahUlsk6UOyqZo6chWZFM5\", \"./2/engagement-slices.zip\")}\n",
    "!{download_gdrive.format(\"1X-8ZFJgtUFEsu8Je1YZ8nKa6cWnmk0gw\", \"1X-8ZFJgtUFEsu8Je1YZ8nKa6cWnmk0gw\", \"./3/engagement-slices.zip\")}\n",
    "## 4 is deleted due to preserving participant privacy\n",
    "!{download_gdrive.format(\"11mQaeyYqEy5py8PAvir7e8D6-lFqf2KW\", \"11mQaeyYqEy5py8PAvir7e8D6-lFqf2KW\", \"./5/engagement-slices.zip\")}\n",
    "!{download_gdrive.format(\"1g9r-3WnS_cND8vB9HJI0bz-AE40363wr\", \"1g9r-3WnS_cND8vB9HJI0bz-AE40363wr\", \"./6/engagement-slices.zip\")}\n",
    "## 7 is deleted due to preserving participant privacy\n",
    "## 8 is deleted due to preserving participant privacy"
   ]
  },
  {
   "cell_type": "code",
   "execution_count": null,
   "metadata": {},
   "outputs": [],
   "source": [
    "!unzip ./2/engagement-slices.zip -d ./2\n",
    "!rm ./2/engagement-slices.zip\n",
    "\n",
    "!unzip ./3/engagement-slices.zip -d ./3\n",
    "!rm ./3/engagement-slices.zip\n",
    "\n",
    "!unzip ./5/engagement-slices.zip -d ./5\n",
    "!rm ./5/engagement-slices.zip\n",
    "\n",
    "!unzip ./6/engagement-slicesr.zip -d ./6\n",
    "!rm ./6/engagement-slices.zip"
   ]
  }
 ],
 "metadata": {
  "kernelspec": {
   "display_name": "Python 3 (ipykernel)",
   "language": "python",
   "name": "python3"
  },
  "language_info": {
   "codemirror_mode": {
    "name": "ipython",
    "version": 3
   },
   "file_extension": ".py",
   "mimetype": "text/x-python",
   "name": "python",
   "nbconvert_exporter": "python",
   "pygments_lexer": "ipython3",
   "version": "3.9.12"
  },
  "vscode": {
   "interpreter": {
    "hash": "f76be68d9c5d6e76a66d5315d11dc6a9ea46dedf1868770abac3c9563870c381"
   }
  }
 },
 "nbformat": 4,
 "nbformat_minor": 2
}
