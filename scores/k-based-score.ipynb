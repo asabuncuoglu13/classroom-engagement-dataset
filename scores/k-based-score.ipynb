{
 "cells": [
  {
   "cell_type": "code",
   "execution_count": 1,
   "metadata": {},
   "outputs": [],
   "source": [
    "import os\n",
    "import numpy as np\n",
    "import pandas as pd\n",
    "from sklearn.metrics import cohen_kappa_score"
   ]
  },
  {
   "cell_type": "code",
   "execution_count": 2,
   "metadata": {},
   "outputs": [],
   "source": [
    "base_dir = \"vol06\"\n",
    "#names = ['berk', 'cansu', 'yagmur'] # vol02\n",
    "#names = ['bugra', 'ecem', 'furkan', 'seyda'] # vol03\n",
    "#names = ['ata', 'canberk', 'deniz', 'oya', 'yavuz'] # vol04\n",
    "#names = ['aslı', 'begum', 'doga', 'utku', 'yigithan'] # vol05\n",
    "names = ['berkecan', 'damla', 'eren', 'irmak', 'metehan'] # vol06\n",
    "#names = ['arda', 'doga', 'ece', 'furkan', 'umutcan'] # vol07\n",
    "#names = ['kerem', 'emre', 'bora', 'beyza', 'sema'] # vol08"
   ]
  },
  {
   "cell_type": "code",
   "execution_count": 3,
   "metadata": {},
   "outputs": [],
   "source": [
    "#engagement_levels = [0, 1] # Disengaged - Engaged\n",
    "engagement_levels = [-2, -1, 0, 1, 2]\n",
    "#engagement_levels = [\"h-diseng\", \"diseng\", \"moderate\", \"eng\", \"h-eng\", \"s-eng\"]"
   ]
  },
  {
   "cell_type": "code",
   "execution_count": 4,
   "metadata": {},
   "outputs": [
    {
     "name": "stdout",
     "output_type": "stream",
     "text": [
      "['vol06\\\\berkecan', 'vol06\\\\damla', 'vol06\\\\eren', 'vol06\\\\irmak', 'vol06\\\\metehan']\n"
     ]
    }
   ],
   "source": [
    "from pathlib import Path\n",
    "\n",
    "score_frames_list = []\n",
    "filename_list = []\n",
    "score_dirs = [os.path.join(base_dir, n) for n in names]\n",
    "print(score_dirs)\n",
    "files = Path(score_dirs[0]).glob('*.csv')\n",
    "for file in files:\n",
    "    filename = os.path.basename(file) #0.csv\n",
    "    filename_list.append(filename)\n",
    "    level_array = []\n",
    "    for s in score_dirs:\n",
    "        df = pd.read_csv(os.path.join(s, filename), sep=',', header=None)\n",
    "        level_array.append(df.values[9:,1].astype(float).astype(int))\n",
    "\n",
    "    score_frames = pd.DataFrame(np.transpose(level_array), columns=names)\n",
    "    score_frames_list.append(score_frames)"
   ]
  },
  {
   "cell_type": "code",
   "execution_count": 5,
   "metadata": {},
   "outputs": [
    {
     "data": {
      "text/html": [
       "<div>\n",
       "<style scoped>\n",
       "    .dataframe tbody tr th:only-of-type {\n",
       "        vertical-align: middle;\n",
       "    }\n",
       "\n",
       "    .dataframe tbody tr th {\n",
       "        vertical-align: top;\n",
       "    }\n",
       "\n",
       "    .dataframe thead th {\n",
       "        text-align: right;\n",
       "    }\n",
       "</style>\n",
       "<table border=\"1\" class=\"dataframe\">\n",
       "  <thead>\n",
       "    <tr style=\"text-align: right;\">\n",
       "      <th></th>\n",
       "      <th>berkecan</th>\n",
       "      <th>damla</th>\n",
       "      <th>eren</th>\n",
       "      <th>irmak</th>\n",
       "      <th>metehan</th>\n",
       "    </tr>\n",
       "  </thead>\n",
       "  <tbody>\n",
       "    <tr>\n",
       "      <th>0</th>\n",
       "      <td>2</td>\n",
       "      <td>1</td>\n",
       "      <td>0</td>\n",
       "      <td>7</td>\n",
       "      <td>56</td>\n",
       "    </tr>\n",
       "    <tr>\n",
       "      <th>1</th>\n",
       "      <td>16</td>\n",
       "      <td>2</td>\n",
       "      <td>0</td>\n",
       "      <td>54</td>\n",
       "      <td>88</td>\n",
       "    </tr>\n",
       "    <tr>\n",
       "      <th>2</th>\n",
       "      <td>-12</td>\n",
       "      <td>2</td>\n",
       "      <td>0</td>\n",
       "      <td>62</td>\n",
       "      <td>90</td>\n",
       "    </tr>\n",
       "    <tr>\n",
       "      <th>3</th>\n",
       "      <td>-21</td>\n",
       "      <td>2</td>\n",
       "      <td>0</td>\n",
       "      <td>82</td>\n",
       "      <td>90</td>\n",
       "    </tr>\n",
       "    <tr>\n",
       "      <th>4</th>\n",
       "      <td>-26</td>\n",
       "      <td>2</td>\n",
       "      <td>0</td>\n",
       "      <td>78</td>\n",
       "      <td>90</td>\n",
       "    </tr>\n",
       "  </tbody>\n",
       "</table>\n",
       "</div>"
      ],
      "text/plain": [
       "   berkecan  damla  eren  irmak  metehan\n",
       "0         2      1     0      7       56\n",
       "1        16      2     0     54       88\n",
       "2       -12      2     0     62       90\n",
       "3       -21      2     0     82       90\n",
       "4       -26      2     0     78       90"
      ]
     },
     "execution_count": 5,
     "metadata": {},
     "output_type": "execute_result"
    }
   ],
   "source": [
    "score_frames_list[2].head()"
   ]
  },
  {
   "cell_type": "code",
   "execution_count": 6,
   "metadata": {},
   "outputs": [
    {
     "data": {
      "text/plain": [
       "'\\ndef checkLevel(l0):\\n    next_level = engagement_levels[0]\\n    if(l0 <= 0):\\n        next_level = engagement_levels[0]\\n    else:\\n        next_level = engagement_levels[1]\\n    return next_level\\n'"
      ]
     },
     "execution_count": 6,
     "metadata": {},
     "output_type": "execute_result"
    }
   ],
   "source": [
    "def checkLevel(l0):\n",
    "    next_level = engagement_levels[0]\n",
    "    if(l0 < -60):\n",
    "        next_level = engagement_levels[0]\n",
    "    elif(l0 >= -60 and l0 < -20):\n",
    "        next_level = engagement_levels[1]\n",
    "    elif(l0 > -20 and l0 <= 20):\n",
    "        next_level = engagement_levels[2]\n",
    "    elif(l0 > 20 and l0 <= 60):\n",
    "        next_level = engagement_levels[3]\n",
    "    elif(l0 > 60):\n",
    "        next_level = engagement_levels[4]\n",
    "    return next_level\n",
    "\n",
    "\"\"\"\n",
    "def checkLevel(l0):\n",
    "    next_level = engagement_levels[0]\n",
    "    if(l0 <= 0):\n",
    "        next_level = engagement_levels[0]\n",
    "    else:\n",
    "        next_level = engagement_levels[1]\n",
    "    return next_level\n",
    "\"\"\""
   ]
  },
  {
   "cell_type": "code",
   "execution_count": 7,
   "metadata": {},
   "outputs": [],
   "source": [
    "!mkdir {base_dir + \"\\\\group\\\\levels\"}\n",
    "!mkdir {base_dir + \"\\\\group\\\\scores\"}"
   ]
  },
  {
   "cell_type": "code",
   "execution_count": 8,
   "metadata": {},
   "outputs": [],
   "source": [
    "level_frames = pd.DataFrame(columns=names)\n",
    "level_frames_list = []\n",
    "i = 0\n",
    "for score_frame in score_frames_list:\n",
    "    for s in names:\n",
    "        level_frames[s] = score_frame.apply(lambda row: checkLevel(row[s]), axis=1)\n",
    "\n",
    "    \n",
    "    level_frames['group'] = level_frames.min(axis=1)\n",
    "    level_frames.to_csv(os.path.join(base_dir, \"group/levels/%s\" % filename_list[i]), index=False)\n",
    "    score_frame.to_csv(os.path.join(base_dir, \"group/scores/%s\" % filename_list[i]), index=False)\n",
    "    level_frames_list.append(level_frames)\n",
    "    level_frames = pd.DataFrame(columns=names)\n",
    "    i += 1"
   ]
  },
  {
   "cell_type": "code",
   "execution_count": 9,
   "metadata": {},
   "outputs": [
    {
     "data": {
      "text/html": [
       "<div>\n",
       "<style scoped>\n",
       "    .dataframe tbody tr th:only-of-type {\n",
       "        vertical-align: middle;\n",
       "    }\n",
       "\n",
       "    .dataframe tbody tr th {\n",
       "        vertical-align: top;\n",
       "    }\n",
       "\n",
       "    .dataframe thead th {\n",
       "        text-align: right;\n",
       "    }\n",
       "</style>\n",
       "<table border=\"1\" class=\"dataframe\">\n",
       "  <thead>\n",
       "    <tr style=\"text-align: right;\">\n",
       "      <th></th>\n",
       "      <th>berkecan</th>\n",
       "      <th>damla</th>\n",
       "      <th>eren</th>\n",
       "      <th>irmak</th>\n",
       "      <th>metehan</th>\n",
       "      <th>group</th>\n",
       "    </tr>\n",
       "  </thead>\n",
       "  <tbody>\n",
       "    <tr>\n",
       "      <th>0</th>\n",
       "      <td>0</td>\n",
       "      <td>0</td>\n",
       "      <td>0</td>\n",
       "      <td>0</td>\n",
       "      <td>0</td>\n",
       "      <td>0</td>\n",
       "    </tr>\n",
       "    <tr>\n",
       "      <th>1</th>\n",
       "      <td>0</td>\n",
       "      <td>0</td>\n",
       "      <td>0</td>\n",
       "      <td>0</td>\n",
       "      <td>0</td>\n",
       "      <td>0</td>\n",
       "    </tr>\n",
       "    <tr>\n",
       "      <th>2</th>\n",
       "      <td>0</td>\n",
       "      <td>0</td>\n",
       "      <td>0</td>\n",
       "      <td>0</td>\n",
       "      <td>0</td>\n",
       "      <td>0</td>\n",
       "    </tr>\n",
       "    <tr>\n",
       "      <th>3</th>\n",
       "      <td>1</td>\n",
       "      <td>0</td>\n",
       "      <td>0</td>\n",
       "      <td>0</td>\n",
       "      <td>0</td>\n",
       "      <td>0</td>\n",
       "    </tr>\n",
       "    <tr>\n",
       "      <th>4</th>\n",
       "      <td>1</td>\n",
       "      <td>0</td>\n",
       "      <td>0</td>\n",
       "      <td>0</td>\n",
       "      <td>0</td>\n",
       "      <td>0</td>\n",
       "    </tr>\n",
       "  </tbody>\n",
       "</table>\n",
       "</div>"
      ],
      "text/plain": [
       "   berkecan  damla  eren  irmak  metehan  group\n",
       "0         0      0     0      0        0      0\n",
       "1         0      0     0      0        0      0\n",
       "2         0      0     0      0        0      0\n",
       "3         1      0     0      0        0      0\n",
       "4         1      0     0      0        0      0"
      ]
     },
     "execution_count": 9,
     "metadata": {},
     "output_type": "execute_result"
    }
   ],
   "source": [
    "level_frames_list[0].head()\n",
    "#print(len(level_frames_list[2]))"
   ]
  },
  {
   "cell_type": "markdown",
   "metadata": {},
   "source": [
    "## Calculate Kappa Score Between Engagement Levels"
   ]
  },
  {
   "cell_type": "code",
   "execution_count": null,
   "metadata": {},
   "outputs": [],
   "source": [
    "# you can also check cohen kappa for two-rater agreement\n",
    "k = cohen_kappa_score(level_frames[score_dirs[0]], level_frames[score_dirs[1]], weights='quadratic')\n",
    "print(k)"
   ]
  },
  {
   "cell_type": "code",
   "execution_count": null,
   "metadata": {},
   "outputs": [],
   "source": [
    "from statsmodels.stats import inter_rater as irr\n",
    "\n",
    "for level_frame in level_frames_list:\n",
    "    agg = irr.aggregate_raters(level_frame)\n",
    "    print(irr.fleiss_kappa(agg[0], method='fleiss'))"
   ]
  },
  {
   "cell_type": "markdown",
   "metadata": {},
   "source": [
    "## Read Level CSV and Determine Group Levels"
   ]
  },
  {
   "cell_type": "code",
   "execution_count": null,
   "metadata": {},
   "outputs": [],
   "source": [
    "from pathlib import Path\n",
    "\n",
    "level_frames_list = []\n",
    "filename_list = []\n",
    "files = Path(\"group/levels-binary/\").glob('*.csv')\n",
    "for file in files:  \n",
    "    df = pd.read_csv(file, sep=',')\n",
    "    df['group'] = df.min(axis=1)\n",
    "    df.to_csv(file, index=False)"
   ]
  },
  {
   "cell_type": "markdown",
   "metadata": {},
   "source": [
    "## Read CSV and Combine"
   ]
  },
  {
   "cell_type": "code",
   "execution_count": 10,
   "metadata": {},
   "outputs": [
    {
     "name": "stdout",
     "output_type": "stream",
     "text": [
      "10\n"
     ]
    }
   ],
   "source": [
    "from pathlib import Path\n",
    "\n",
    "files = [f for f in Path(\"./vol06/group/levels\").glob('*.csv')]\n",
    "#files = sorted([int(f.stem) for f in Path(\"group\\levels-new\").glob('*.csv')])\n",
    "print(len(files))\n",
    "df = pd.read_csv(files[0])\n",
    "df['file'] = files[0].stem\n",
    "for i in range(len(files)):\n",
    "    dfi = pd.read_csv(files[i], sep=',')\n",
    "    dfi['file'] = files[i].stem\n",
    "    df= pd.concat([df, dfi], ignore_index=False)\n",
    "\n",
    "df['group'] = df.iloc[:, 1:4].min(axis=1)\n",
    "df.to_csv(\"./vol06/group/all_levels.csv\", index_label='frame')"
   ]
  },
  {
   "cell_type": "code",
   "execution_count": 13,
   "metadata": {},
   "outputs": [],
   "source": [
    "df = pd.read_csv(\"../scores/vol06/group/all_levels.csv\")"
   ]
  },
  {
   "cell_type": "code",
   "execution_count": 14,
   "metadata": {},
   "outputs": [
    {
     "data": {
      "text/plain": [
       " 0    861\n",
       "-1    816\n",
       "-2    814\n",
       " 1    724\n",
       " 2    169\n",
       "Name: group, dtype: int64"
      ]
     },
     "execution_count": 14,
     "metadata": {},
     "output_type": "execute_result"
    }
   ],
   "source": [
    "df['group'].value_counts()"
   ]
  },
  {
   "cell_type": "code",
   "execution_count": null,
   "metadata": {},
   "outputs": [],
   "source": [
    "%matplotlib inline\n",
    "\n",
    "import matplotlib.pyplot as plt\n",
    "import seaborn as sns\n",
    "from tueplots import figsizes, fonts\n",
    "from tueplots.constants.color import palettes\n",
    "\n",
    "person = \"berk\"\n",
    "\n",
    "fonts.neurips2021()\n",
    "plt.rcParams[\"figure.dpi\"] = 150\n",
    "plt.rcParams[\"figure.figsize\"] = (20,5)\n",
    "fig = plt.figure()\n",
    "ax = fig.add_subplot(1,1,1) \n",
    "ax.set_xlabel('Frames')\n",
    "ax.set_ylabel('Score')\n",
    "\n",
    "ax.plot(df.loc[:1000,person])\n",
    "\n",
    "plt.show()\n",
    "#fig.savefig('fig/%s_level.png' % person)"
   ]
  },
  {
   "attachments": {},
   "cell_type": "markdown",
   "metadata": {},
   "source": [
    "# Read All Levels and Return Stats"
   ]
  },
  {
   "cell_type": "code",
   "execution_count": 15,
   "metadata": {},
   "outputs": [
    {
     "data": {
      "text/plain": [
       " 2    2812\n",
       " 1    1411\n",
       " 3    1303\n",
       " 0     707\n",
       "-2     494\n",
       "-1     242\n",
       "Name: group, dtype: int64"
      ]
     },
     "metadata": {},
     "output_type": "display_data"
    },
    {
     "data": {
      "text/plain": [
       "-2    819\n",
       " 1    792\n",
       "-1    603\n",
       " 0    532\n",
       " 2    387\n",
       "Name: group, dtype: int64"
      ]
     },
     "metadata": {},
     "output_type": "display_data"
    },
    {
     "data": {
      "text/plain": [
       " 0    1734\n",
       "-1     889\n",
       " 1     220\n",
       "-2     196\n",
       " 2     153\n",
       "Name: group, dtype: int64"
      ]
     },
     "metadata": {},
     "output_type": "display_data"
    },
    {
     "data": {
      "text/plain": [
       " 0    1762\n",
       "-1     874\n",
       " 1     442\n",
       " 2     433\n",
       "-2     246\n",
       "Name: group, dtype: int64"
      ]
     },
     "metadata": {},
     "output_type": "display_data"
    },
    {
     "data": {
      "text/plain": [
       " 0    861\n",
       "-1    816\n",
       "-2    814\n",
       " 1    724\n",
       " 2    169\n",
       "Name: group, dtype: int64"
      ]
     },
     "metadata": {},
     "output_type": "display_data"
    },
    {
     "data": {
      "text/plain": [
       " 0    1516\n",
       " 1    1175\n",
       " 2     561\n",
       "-1     218\n",
       "-2     174\n",
       "Name: group, dtype: int64"
      ]
     },
     "metadata": {},
     "output_type": "display_data"
    },
    {
     "data": {
      "text/plain": [
       " 1    942\n",
       " 0    843\n",
       "-1    719\n",
       "-2    488\n",
       " 2    157\n",
       "Name: group, dtype: int64"
      ]
     },
     "metadata": {},
     "output_type": "display_data"
    }
   ],
   "source": [
    "for i in range(2,9):\n",
    "    df = pd.read_csv(\"vol0%d/group/all_levels.csv\" % i)\n",
    "    display(df['group'].value_counts())"
   ]
  },
  {
   "cell_type": "code",
   "execution_count": null,
   "metadata": {},
   "outputs": [],
   "source": []
  }
 ],
 "metadata": {
  "kernelspec": {
   "display_name": "Python 3.9.12 ('base')",
   "language": "python",
   "name": "python3"
  },
  "language_info": {
   "codemirror_mode": {
    "name": "ipython",
    "version": 3
   },
   "file_extension": ".py",
   "mimetype": "text/x-python",
   "name": "python",
   "nbconvert_exporter": "python",
   "pygments_lexer": "ipython3",
   "version": "3.9.12"
  },
  "orig_nbformat": 4,
  "vscode": {
   "interpreter": {
    "hash": "f76be68d9c5d6e76a66d5315d11dc6a9ea46dedf1868770abac3c9563870c381"
   }
  }
 },
 "nbformat": 4,
 "nbformat_minor": 2
}
